{
 "cells": [
  {
   "cell_type": "markdown",
   "metadata": {},
   "source": [
    "어렵다...\n",
    "\n",
    "일단 실습부터 해보자."
   ]
  },
  {
   "cell_type": "code",
   "execution_count": 1,
   "metadata": {},
   "outputs": [
    {
     "name": "stderr",
     "output_type": "stream",
     "text": [
      "/home/inhwan/Python/Pytorch_ev/lib/python3.7/importlib/_bootstrap.py:219: RuntimeWarning: numpy.ufunc size changed, may indicate binary incompatibility. Expected 192 from C header, got 216 from PyObject\n",
      "  return f(*args, **kwds)\n"
     ]
    }
   ],
   "source": [
    "from gensim import corpora\n",
    "from preprocess import get_tokenizer\n",
    "\n",
    "corpus_fname = 'data/processed/corrected_ratings_corpus.txt'"
   ]
  },
  {
   "cell_type": "code",
   "execution_count": 2,
   "metadata": {},
   "outputs": [
    {
     "data": {
      "text/plain": [
       "['어릴때 보고 지금 다시봐도 재밌어요ㅋㅋ\\n',\n",
       " '디자인을 배우는 학생으로, 외국디자이너와 그들이 일군 전통을 통해 발전해가는 문화산업이 부러웠는데. 사실 우리나라에서도 그 어려운시절에 끝까지 열정을 지킨 노라노 같은 전통이있어 저와 같은 사람들이 꿈을 꾸고 이뤄나갈 수 있다는 것에 감사합니다.\\n',\n",
       " '폴리스스토리 시리즈는 1부터 뉴까지 버릴께 하나도 없음.. 최고.\\n']"
      ]
     },
     "execution_count": 2,
     "metadata": {},
     "output_type": "execute_result"
    }
   ],
   "source": [
    "corpus = [sent for sent in open(corpus_fname, 'r')]\n",
    "corpus[:3]"
   ]
  },
  {
   "cell_type": "code",
   "execution_count": 4,
   "metadata": {},
   "outputs": [],
   "source": [
    "documents, tokenized_corpus = [], []\n",
    "tokenizer = get_tokenizer('mecab')\n",
    "\n",
    "with open(corpus_fname, 'r', encoding='utf-8') as f:\n",
    "    for document in f:\n",
    "        tokens = list(set(tokenizer.morphs(document.strip())))\n",
    "        documents.append(document)\n",
    "        tokenized_corpus.append(tokens)        "
   ]
  },
  {
   "cell_type": "code",
   "execution_count": 11,
   "metadata": {},
   "outputs": [
    {
     "data": {
      "text/plain": [
       "('ㅋㅋ', '고', '다시')"
      ]
     },
     "execution_count": 11,
     "metadata": {},
     "output_type": "execute_result"
    }
   ],
   "source": [
    "dictionary = corpora.Dictionary(tokenized_corpus)\n",
    "dictionary[0], dictionary[1], dictionary[2]"
   ]
  },
  {
   "cell_type": "code",
   "execution_count": 13,
   "metadata": {
    "scrolled": true
   },
   "outputs": [],
   "source": [
    "corpus = [dictionary.doc2bow(text) for text in tokenized_corpus]"
   ]
  },
  {
   "cell_type": "code",
   "execution_count": 29,
   "metadata": {},
   "outputs": [
    {
     "data": {
      "text/plain": [
       "['어릴때 보고 지금 다시봐도 재밌어요ㅋㅋ\\n',\n",
       " '디자인을 배우는 학생으로, 외국디자이너와 그들이 일군 전통을 통해 발전해가는 문화산업이 부러웠는데. 사실 우리나라에서도 그 어려운시절에 끝까지 열정을 지킨 노라노 같은 전통이있어 저와 같은 사람들이 꿈을 꾸고 이뤄나갈 수 있다는 것에 감사합니다.\\n',\n",
       " '폴리스스토리 시리즈는 1부터 뉴까지 버릴께 하나도 없음.. 최고.\\n']"
      ]
     },
     "execution_count": 29,
     "metadata": {},
     "output_type": "execute_result"
    }
   ],
   "source": [
    "documents[:3]"
   ]
  },
  {
   "cell_type": "markdown",
   "metadata": {},
   "source": [
    "LDA 모델 훈련을 시켜보자."
   ]
  },
  {
   "cell_type": "code",
   "execution_count": 25,
   "metadata": {},
   "outputs": [],
   "source": [
    "from gensim.models import ldamulticore\n",
    "LDA = ldamulticore.LdaMulticore(corpus, id2word=dictionary, num_topics=30, workers=8)"
   ]
  },
  {
   "cell_type": "markdown",
   "metadata": {},
   "source": [
    "학습이 끝난 LDA 모델로부터 각 문서별 토픽 정보를 다음과 같이 얻을 수 있다. 여기서 `minimum_probability` 인자는 해당 값 이하의 토픽 분포는 무시한다는 뜻이다."
   ]
  },
  {
   "cell_type": "code",
   "execution_count": 26,
   "metadata": {},
   "outputs": [],
   "source": [
    "all_topics = LDA.get_document_topics(corpus, minimum_probability=0.5, per_word_topics=False)"
   ]
  },
  {
   "cell_type": "code",
   "execution_count": 28,
   "metadata": {},
   "outputs": [
    {
     "name": "stdout",
     "output_type": "stream",
     "text": [
      "0 [(18, 0.9121122)]\n",
      "1 [(17, 0.9055252)]\n",
      "2 [(2, 0.94312084)]\n",
      "3 []\n",
      "4 [(21, 0.93082196)]\n"
     ]
    }
   ],
   "source": [
    "for doc_idx, topic in enumerate(all_topics[:5]):\n",
    "    print(doc_idx, topic)"
   ]
  },
  {
   "cell_type": "markdown",
   "metadata": {},
   "source": [
    "학습이 끝난 결과를 저장하자."
   ]
  },
  {
   "cell_type": "code",
   "execution_count": 30,
   "metadata": {},
   "outputs": [],
   "source": [
    "output_fname='data/sentence-embeddings/lda/lda'\n",
    "\n",
    "with open(output_fname + \".results\", 'w') as f:\n",
    "    for doc_idx, topic in enumerate(all_topics):\n",
    "        if len(topic) == 1:\n",
    "            topic_id, prob = topic[0]\n",
    "            f.writelines(documents[doc_idx].strip() + \"\\u241E\" + ' '.join(tokenized_corpus[doc_idx]) + \"\\u241E\" + str(topic_id) + \"\\u241E\" + str(prob) + \"\\n\")\n",
    "LDA.save(output_fname + \".model\")"
   ]
  },
  {
   "cell_type": "markdown",
   "metadata": {},
   "source": [
    "이젠 모델 평가..."
   ]
  },
  {
   "cell_type": "code",
   "execution_count": 32,
   "metadata": {},
   "outputs": [
    {
     "name": "stderr",
     "output_type": "stream",
     "text": [
      "/home/inhwan/Python/Pytorch_ev/lib/python3.7/importlib/_bootstrap.py:219: RuntimeWarning: numpy.ufunc size changed, may indicate binary incompatibility. Expected 192 from C header, got 216 from PyObject\n",
      "  return f(*args, **kwds)\n"
     ]
    }
   ],
   "source": [
    "from models.sent_eval import LDAEvaluator\n",
    "model_eval = LDAEvaluator(output_fname)"
   ]
  },
  {
   "cell_type": "markdown",
   "metadata": {},
   "source": [
    "show_topic_docs 함수에 토픽 ID를 인자로 주어 실행하면 해당 토픽 확률 값이 가장 높은 문서를 출력한다. 이 경우 슬픔과 주로 관련된 토픽인 것으로 보인다."
   ]
  },
  {
   "cell_type": "code",
   "execution_count": 34,
   "metadata": {},
   "outputs": [
    {
     "data": {
      "text/plain": [
       "[('누가 일용직으로도 먹고 살기 힘든 신용불량자 아버지, 고독하게 살다 죽음마저 쓸쓸한 어머니들, 그들을 이용해 홍보관으로 돈을 버는 악당아닌 악당을 만들었나... 부모란 존재의 책임감과 설움이 김인권님의 마지막 표정연기에 무너져내릴듯 먹먹하더라고요.',\n",
       "  0.9833079),\n",
       " ('주인공이 겪어야 했던 심적 공허함이 보는내내 마음속 깊이 전해져왔고, 영화가 말해주는 전쟁의 참상에 눈물을 흘리지 않을 수 없었다. 현실적인 표현에 마치 내가 주인공의 상황이 된 듯한 착각마저 들게 하는 대단한 몰입력을 가진 영화이다.',\n",
       "  0.9827287),\n",
       " ('김기덕 영화는 정말 보면 볼수록 이야기 설정이 기가 막힌 것 같다. 여러 갖가지 자신들의 주관에 의해 쓴 리뷰를 보고서 이런해석도 가능하고나 하고 생각하고 이해는 했으나, 실제 감독이 어떤 의도로 제작을 했는지가 더욱 알고 싶어졌다.',\n",
       "  0.9824182),\n",
       " ('아들과 아버지의 재회와 생존 이후 아버지의 심경변화와 담배를 끝는 모습에서 감정이입되어서 정말 서럽게 울었고 마지막에 아버지가 구하러 나타났을 땐 통쾌하고 감동적이고 사랑마저 느껴졌다 구성도 완벽하고 설정하나만 가지고 스토리를 완벽하게 만들어냈다',\n",
       "  0.982412),\n",
       " ('캐서린 비글로우는 여자지만 그 어떤 남자감독들보다도 더 리얼한 전쟁을 담았다. 인간이라면 두려워 하지 않을수 없는 폭탄해체를 담당하는 EOD팀이 폭탄을 해체하는 순간순간마다 공포영화보다 더 무서웠다. 제임스 중사를 맡은 제레미 레너의 연기도 훌륭했다.',\n",
       "  0.9820576),\n",
       " ('슬프지만...잔잔한 여운도 남고...감동적이기도 하네요...영화를 보면서 잊었던 순간의 소중함을 깨닫게 되는거 같아요...언젠가 죽음의 순간이 올때 사랑하는 사람들이 곁에 있으면 그순간이 슬프지만은 않을꺼같아요...',\n",
       "  0.98175615),\n",
       " ('영화내용은 사실별거 없지만 보고나면 생각을 많이하게 되는 영화임. 재미있기도 하고, 결론은 무엇이냐 하면 빨갱이들이 아무것도 모르는 사람들 선동해서 비참한 결과를 낳게 한다는 내용임. 복수심에 불타는 이북출신들도 나오는데 다 역사적인 사실임.',\n",
       "  0.98175335),\n",
       " ('무언가 매혹적이면서도 딱 무엇이라 정의할 단어가 떠오르지 않는다. 재미가 있다 라고 말 하기엔 재밌다는 생각보단 다른 느낌이 든다. 후반부로 갈수록 더욱 몰입하게 되고 무언가 끌어당기는 힘이 강한 작품. 쥐스킨트 작가라면 믿고 볼 이유가 있다.',\n",
       "  0.9817521),\n",
       " ('이 영화는 세 명의 예술가가 만들어낸 이야기 입니다. 고 심달연 꽃노르미 작가님, 동화책 작가 권윤덕, 그리고 영화감독 권효. 사실 전쟁과 폭력을 이야기로 선택하기는 쉽습니다. 되려 평화같은 모호한 개념을 영화화 하기가 어렵죠. 이 영화를 추천합니다',\n",
       "  0.9817292),\n",
       " ('예전에 원작소설로 보았던 아홉살인생. 보통 원작을 영화화한 영화는 원작에 못미치는 경우가 많아서 안보고 있었는데 우연한 기회에 아홉살인생을 보았다. 내용적인 측면에서 보았을때 원작의 내용을 상당부분 스킵했지만 영화를 보고 느낀 감동은 원작을 초월하였다',\n",
       "  0.98140234)]"
      ]
     },
     "execution_count": 34,
     "metadata": {},
     "output_type": "execute_result"
    }
   ],
   "source": [
    "model_eval.show_topic_docs(topic_id=10)"
   ]
  },
  {
   "cell_type": "markdown",
   "metadata": {},
   "source": [
    "토픽 ID에서 가장 높은 확률 값을 지니는 단어들 목록을 확인해보자. 대부분 조사여서, 피처를 만드는 과정에서 명사만 쓰기도 한다."
   ]
  },
  {
   "cell_type": "code",
   "execution_count": 38,
   "metadata": {},
   "outputs": [
    {
     "data": {
      "text/plain": [
       "[('는', 0.024055673),\n",
       " ('이', 0.023548668),\n",
       " ('다', 0.019944625),\n",
       " ('.', 0.019815419),\n",
       " ('영화', 0.017739704),\n",
       " ('고', 0.01522953),\n",
       " ('하', 0.014781788),\n",
       " ('에', 0.014623254),\n",
       " ('가', 0.014229408),\n",
       " ('들', 0.013348151),\n",
       " ('은', 0.0129511),\n",
       " ('를', 0.01272846),\n",
       " ('을', 0.012353053),\n",
       " ('게', 0.011946966),\n",
       " ('의', 0.01161769),\n",
       " ('었', 0.010754891),\n",
       " ('한', 0.010526416),\n",
       " ('도', 0.00994716),\n",
       " ('보', 0.008243409),\n",
       " ('적', 0.0076094694),\n",
       " (',', 0.00755657),\n",
       " ('있', 0.0074833934),\n",
       " ('과', 0.0064101447),\n",
       " ('지만', 0.0063548065),\n",
       " ('어', 0.006307504),\n",
       " ('것', 0.0063051237),\n",
       " ('없', 0.006225815),\n",
       " ('되', 0.006124328),\n",
       " ('지', 0.0059564635),\n",
       " ('에서', 0.0058481884),\n",
       " ('던', 0.0053997315),\n",
       " ('!', 0.0051406533),\n",
       " ('했', 0.0050991573),\n",
       " ('생각', 0.0050418302),\n",
       " ('감동', 0.004875533),\n",
       " ('기', 0.0043567945),\n",
       " ('보다', 0.004120134),\n",
       " ('내용', 0.004002017),\n",
       " ('좋', 0.0037932573),\n",
       " ('만', 0.0037327285),\n",
       " ('정말', 0.0036763763),\n",
       " ('연기', 0.0036569296),\n",
       " ('만들', 0.0035117327),\n",
       " ('는데', 0.00350418),\n",
       " ('사람', 0.0034370555),\n",
       " ('그', 0.0033457356),\n",
       " ('같', 0.0032838907),\n",
       " ('나', 0.003278115),\n",
       " ('인', 0.0032423409),\n",
       " ('않', 0.0029613613)]"
      ]
     },
     "execution_count": 38,
     "metadata": {},
     "output_type": "execute_result"
    }
   ],
   "source": [
    "model_eval.show_topic_words(topic_id=10, topn=50)"
   ]
  },
  {
   "cell_type": "markdown",
   "metadata": {},
   "source": [
    "새로운 문서의 토픽을 확인해보자. 문서를 형태소 분석한 뒤 이를 LDA 모델에 넣어 토픽을 추론해 가장 높은 확률 값을 지니는 토픽 ID와 그 확률을 리턴한다."
   ]
  },
  {
   "cell_type": "code",
   "execution_count": 39,
   "metadata": {},
   "outputs": [
    {
     "name": "stdout",
     "output_type": "stream",
     "text": [
      "너무 사랑스러운 영화 , topic id: 12 , prob: 0.8066549\n",
      "인생을 말하는 영화 , topic id: 7 , prob: 0.7010173\n"
     ]
    }
   ],
   "source": [
    "model_eval.show_new_document_topic(['너무 사랑스러운 영화','인생을 말하는 영화'])"
   ]
  },
  {
   "cell_type": "code",
   "execution_count": 40,
   "metadata": {},
   "outputs": [
    {
     "data": {
      "text/plain": [
       "[('솔직히 생각보다 재밌어서 놀랐다... 이거 개봉하고 낸린줄도 모르고...ㅠ ㅠ 이제서야 봤네... 정말 두 사람의 커플댄스는... 명장면이다... 생각할수록 아쉽다... 단순 sm상업영화라고 생각하기엔... 두 사람의 춤이 너무 인상적이다...',\n",
       "  0.97851247),\n",
       " ('오늘 재방으로 처음 봤는데 몰입도 상당했어요영화 화양연화 생각도 나구요감히 드러내기 힘든 그래서 더 아프고 조심스러운 어른들만의 사랑 혹은 불륜~ 좋아요',\n",
       "  0.9745503),\n",
       " ('현실적이고 재밌게 꾸며주세요너무 막장은 싫고요인물들의 성격,행동이 일관됬으면 좋겠네요무조건 재미만 추구안했음 좋겠습니다',\n",
       "  0.97237176),\n",
       " ('비밀을 내가 안봐서 비슷한건 모르겠고.. 그냥.. 태양은가득히 너무 재밌어요!! 전개도 빨라서 완전 흥미진진ㅋㅋㅋ 특히 윤계상씨 연기가 쩌네요',\n",
       "  0.9715571),\n",
       " ('류승범, 공효진의 맛깔나는 연기. 임은경의 리즈 시절. 기타 단역 찾아보는 재미도(정우, 양익준, 이하늘). 상당히 매력적인 몇 안되는 한국 영화 중 하나.',\n",
       "  0.97155094),\n",
       " ('바람의 파이터가실화여서 더 영감이간다여자하고도잘됬으면 그래도 배우들의 연기력도 좋고최배달이라는분에게 존경심을표합니다.',\n",
       "  0.9706926),\n",
       " ('지상파에 나왔으면 대박났을텐데...진심 커플들 케미폭발 엄청나고 bgm도 드라마에 맞게 너무 좋고ㅠㅠ 초롱이 넘 이쁘다♡',\n",
       "  0.96978134),\n",
       " ('예상치도 못한 사가 한국방영!이번 영화의 더빙에 참여해주신 모든 성우분들께 갈채를 보냅니다! 수고많으셨습니다!', 0.9677571),\n",
       " ('\"넘 잼나서 아주 미치겄네♥♥ 싱싱♥고구마만 나왔음 좋겠어여...오세령은 삐@*:;\"\"\\'\\';;///...ㅋ\"',\n",
       "  0.96663815),\n",
       " ('기대안하고 봤는데 단순 멜로물이 아니네ㅎㅎ 정말 세 커플의 이야기지만 결국은 하나의 이야기라는게 흥미진진했어요', 0.96546924)]"
      ]
     },
     "execution_count": 40,
     "metadata": {},
     "output_type": "execute_result"
    }
   ],
   "source": [
    "model_eval.show_topic_docs(topic_id=12)"
   ]
  },
  {
   "cell_type": "code",
   "execution_count": 41,
   "metadata": {},
   "outputs": [
    {
     "data": {
      "text/plain": [
       "[('일상적이면서도 감성적인 영화였다. 지구는 승차감이 없는 기차같다는 표현과 바다가 바람부는 냉장고 같다는 표현으로 시청각장애인들이 느끼는 세상을 잠시 훔쳐보고 온 느낌도 들었다. 아내 순호씨와의 애정이 느껴져 보는 내내 잔잔한 미소를 지었다.',\n",
       "  0.98175114),\n",
       " ('문제아라고 쏘아부쳤던 아이들의 속내. 재빠르고 영리하고 의리있는 시릴 / 다르덴은 이렇게 엉망인 가운데에도 진심의 작은 마음이 지켜갈 수 있는 것에 대해 꾸준히 이야기해주네. 극적이지 않게 직조하는 능력에 감탄 ?@non',\n",
       "  0.98173225),\n",
       " ('중학교 고등학교시절 세나와 프로스트 만쎌이 F1레이스를 다투던 기사를 보던게 생생하다.. 특히 멕라렌팀의 흰색과 빨강의 말보로 마킹이된 세나의 머신은 당시 최고로 빠르고 아름다운 아이콘으로 모터스포츠를 좋아하는 사람들의 동경대상이었다.. 아름다운 사람',\n",
       "  0.9817193),\n",
       " ('장엄하고 감동적인 내인생 최고의 영화!명장면이 너무 많다. 라이온킹첫장면,beprepared,무파사죽는장면,죽은무파사가심바앞에영혼이 되어나타조언해주는 장면,하쿠나마타타,마지막심바vs스카대결씬까지 지금까지 가장 인상깊고감동적인최고의 영화',\n",
       "  0.9813875),\n",
       " ('설란이가 세자에게 백허그하면서 노랠 부를때 눈물이 핑돌면서 따뜻한가슴을 느꼈다. 드라마가 끝난 지금도 여운이 길게 남으면서 그담회가 기다려진다. 수백향출연진 모두에게 박수를 보내드려요 화이팅!!!',\n",
       "  0.97896886),\n",
       " ('처음봤을때는 졸리의 연기에 감탄했는데 그 영화를 또 보고 또 볼수록 위노나 라이더의 연기야 말로 진짜 대단하다는 걸 느끼게 됬다. 정말 그 주인공의 모든 감정들을 오버하지 않고 제대로 표현했다',\n",
       "  0.9785137),\n",
       " (\"영화보는내내 나를 보는 것 같아 소름끼쳤다 ..ㄷㄷ 미셸 공드리 식으로 '남자'에 대해 완전히 파헤친 영화!!강력 추천함 ㅎㅎㅎ 꼭 보시길(특히 짝사랑한 상대한테거절당한 남성에게 추천함)\",\n",
       "  0.97801894),\n",
       " ('지구의 종말 이라는 컨셉으로 이야기를 만들어주었는데 보는내내 긴장감에 휩싸였었고 더불어 실제로 이런일이 생긴다면 우린 어떻게 해야할까 생각이 들었던 영화였다.',\n",
       "  0.97386104),\n",
       " ('헛구역질... 날때까지 울면서 봤던 영화... 이렇게 감동적이고 인간과 동물을 다룬 아름다운 영화는 처음본다... 이 시대 최고의 감동실화...글쓰다가 또 눈물이 난다...',\n",
       "  0.97314423),\n",
       " ('어두운 주제를 위트있게 어려운 주제를 경쾌하게 가슴에 남는 영화다. 이런 영화는 전국 장애인복지기관에서 큰 바우쳐 사업으로 단체 상영해야 한다!!!',\n",
       "  0.9715507)]"
      ]
     },
     "execution_count": 41,
     "metadata": {},
     "output_type": "execute_result"
    }
   ],
   "source": [
    "model_eval.show_topic_docs(topic_id=7)"
   ]
  },
  {
   "cell_type": "markdown",
   "metadata": {},
   "source": [
    "뭔가 미묘한 거 같은데.... ㅋㅋㅋ"
   ]
  },
  {
   "cell_type": "code",
   "execution_count": null,
   "metadata": {},
   "outputs": [],
   "source": []
  }
 ],
 "metadata": {
  "kernelspec": {
   "display_name": "Python 3",
   "language": "python",
   "name": "python3"
  },
  "language_info": {
   "codemirror_mode": {
    "name": "ipython",
    "version": 3
   },
   "file_extension": ".py",
   "mimetype": "text/x-python",
   "name": "python",
   "nbconvert_exporter": "python",
   "pygments_lexer": "ipython3",
   "version": "3.7.3"
  }
 },
 "nbformat": 4,
 "nbformat_minor": 2
}
