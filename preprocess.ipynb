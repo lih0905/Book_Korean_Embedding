{
 "cells": [
  {
   "cell_type": "markdown",
   "metadata": {},
   "source": [
    "# Chapter 3. 한국어 전처리\n",
    "\n",
    "해당 챕터 내용을 공부한 흔적들을 남겨놓은 노트북이며, 코드를 정리한 결과는 py 파일로 남겨놓았습니다."
   ]
  },
  {
   "cell_type": "markdown",
   "metadata": {},
   "source": [
    "## 3.1 데이터 확보\n",
    "\n",
    "### 3.1.1 한국어 위키백과"
   ]
  },
  {
   "cell_type": "code",
   "execution_count": 93,
   "metadata": {},
   "outputs": [
    {
     "name": "stdout",
     "output_type": "stream",
     "text": [
      "<mediawiki xmlns=\"http://www.mediawiki.org/xml/export-0.10/\" xmlns:xsi=\"http://www.w3.org/2001/XMLSchema-instance\" xsi:schemaLocation=\"http://www.mediawiki.org/xml/export-0.10/ http://www.mediawiki.org/xml/export-0.10.xsd\" version=\"0.10\" xml:lang=\"ko\">\n",
      "\n",
      "  <siteinfo>\n",
      "\n",
      "    <sitename>위키백과</sitename>\n",
      "\n",
      "    <dbname>kowiki</dbname>\n",
      "\n",
      "    <base>https://ko.wikipedia.org/wiki/%EC%9C%84%ED%82%A4%EB%B0%B1%EA%B3%BC:%EB%8C%80%EB%AC%B8</base>\n",
      "\n",
      "    <generator>MediaWiki 1.34.0-wmf.24</generator>\n",
      "\n",
      "    <case>first-letter</case>\n",
      "\n",
      "    <namespaces>\n",
      "\n",
      "      <namespace key=\"-2\" case=\"first-letter\">미디어</namespace>\n",
      "\n",
      "      <namespace key=\"-1\" case=\"first-letter\">특수</namespace>\n",
      "\n",
      "      <namespace key=\"0\" case=\"first-letter\" />\n",
      "\n",
      "      <namespace key=\"1\" case=\"first-letter\">토론</namespace>\n",
      "\n",
      "      <namespace key=\"2\" case=\"first-letter\">사용자</namespace>\n",
      "\n",
      "      <namespace key=\"3\" case=\"first-letter\">사용자토론</namespace>\n",
      "\n",
      "      <namespace key=\"4\" case=\"first-letter\">위키백과</namespace>\n",
      "\n",
      "      <namespace key=\"5\" case=\"first-letter\">위키백과토론</namespace>\n",
      "\n",
      "      <namespace key=\"6\" case=\"first-letter\">파일</namespace>\n",
      "\n",
      "      <namespace key=\"7\" case=\"first-letter\">파일토론</namespace>\n",
      "\n",
      "      <namespace key=\"8\" case=\"first-letter\">미디어위키</namespace>\n",
      "\n",
      "      <namespace key=\"9\" case=\"first-letter\">미디어위키토론</namespace>\n",
      "\n",
      "      <namespace key=\"10\" case=\"first-letter\">틀</namespace>\n",
      "\n",
      "      <namespace key=\"11\" case=\"first-letter\">틀토론</namespace>\n",
      "\n",
      "      <namespace key=\"12\" case=\"first-letter\">도움말</namespace>\n",
      "\n",
      "      <namespace key=\"13\" case=\"first-letter\">도움말토론</namespace>\n",
      "\n",
      "      <namespace key=\"14\" case=\"first-letter\">분류</namespace>\n",
      "\n",
      "      <namespace key=\"15\" case=\"first-letter\">분류토론</namespace>\n",
      "\n",
      "      <namespace key=\"100\" case=\"first-letter\">포털</namespace>\n",
      "\n",
      "      <namespace key=\"101\" case=\"first-letter\">포털토론</namespace>\n",
      "\n",
      "      <namespace key=\"102\" case=\"first-letter\">위키프로젝트</namespace>\n",
      "\n",
      "      <namespace key=\"103\" case=\"first-letter\">위키프로젝트토론</namespace>\n",
      "\n",
      "      <namespace key=\"118\" case=\"first-letter\">초안</namespace>\n",
      "\n",
      "      <namespace key=\"119\" case=\"first-letter\">초안토론</namespace>\n",
      "\n",
      "      <namespace key=\"828\" case=\"first-letter\">모듈</namespace>\n",
      "\n",
      "      <namespace key=\"829\" case=\"first-letter\">모듈토론</namespace>\n",
      "\n",
      "      <namespace key=\"2300\" case=\"first-letter\">소도구</namespace>\n",
      "\n",
      "      <namespace key=\"2301\" case=\"first-letter\">소도구토론</namespace>\n",
      "\n",
      "      <namespace key=\"2302\" case=\"case-sensitive\">소도구정의</namespace>\n",
      "\n",
      "      <namespace key=\"2303\" case=\"case-sensitive\">소도구정의토론</namespace>\n",
      "\n",
      "    </namespaces>\n",
      "\n",
      "  </siteinfo>\n",
      "\n",
      "  <page>\n",
      "\n",
      "    <title>위키백과:대문</title>\n",
      "\n",
      "    <ns>4</ns>\n",
      "\n",
      "    <id>3</id>\n",
      "\n",
      "    <revision>\n",
      "\n",
      "      <id>24653972</id>\n",
      "\n",
      "      <parentid>22200225</parentid>\n",
      "\n",
      "      <timestamp>2019-07-31T09:27:48Z</timestamp>\n",
      "\n",
      "      <contributor>\n",
      "\n",
      "        <username>Ykhwong</username>\n",
      "\n",
      "        <id>22169</id>\n",
      "\n",
      "      </contributor>\n",
      "\n",
      "      <minor />\n",
      "\n",
      "      <comment>http→https</comment>\n",
      "\n",
      "      <model>wikitext</model>\n",
      "\n",
      "      <format>text/x-wiki</format>\n",
      "\n",
      "      <text xml:space=\"preserve\">&lt;!-- 머릿글 --&gt;\n",
      "\n",
      "&lt;div id=&quot;mp_header&quot; class=&quot;mp_outerbox&quot; style=&quot;border:1px solid #a7d7f9; margin-bottom: 0.5em; overflow: hidden; padding: 0.5em; font-size: small; -moz-border-radius: 0.8em; -webkit-border-radius: 0.8em; border-radius:0.8em;&quot;&gt;\n",
      "\n",
      "{| width=&quot;100%&quot; \n",
      "\n",
      "| &lt;div style=&quot;float: left; width: 0em; height: 0em; margin: -0.5em 0em 0em -2.5em; overflow: visiable;&quot;&gt;[[파일:Wikipedia-logo-v2-200px-transparent.png|140px|링크=]]&lt;/div&gt;\n",
      "\n",
      "&lt;div style=&quot;float: left; margin-left:115px&quot;&gt;&lt;div style=&quot;font-size:1.4em; font-weight: bold&quot;&gt;한국어 위키백과에 오신 것을 [[위키백과:환영합니다|환영합니다!]]&lt;/div&gt;위키백과는 전 세계 여러 언어로 만들어 나가는 자유 백과사전으로, 누구나 참여하실 수 있습니다.&lt;br/&gt;현재 [[한국어 위키백과]]에는 문서 [[특수기능:통계|'''{{NUMBEROFARTICLES}}''']]개가 실려 있습니다.&lt;/div&gt;{{-}}\n",
      "\n",
      "|\n",
      "\n",
      "* {{Nobr|[[포털:인문학|인문학]]}}\n",
      "\n",
      "* {{Nobr|[[포털:예술|예술]]}}\n",
      "\n",
      "* {{Nobr|[[포털:과학|과학]]}}\n",
      "\n",
      "|\n",
      "\n",
      "* {{Nobr|[[포털:사회과학|사회과학]]}}\n",
      "\n",
      "* {{Nobr|[[포털:기술|기술]]}}\n",
      "\n",
      "* {{Nobr|'''[[포털:목차/포털|모든 포털]]'''}}\n",
      "\n",
      "|}\n",
      "\n",
      "&lt;/div&gt;&lt;!-- /머릿글 --&gt;\n",
      "\n",
      "&lt;!-- 찾기 --&gt;&lt;div id=&quot;mp_search&quot; class=&quot;mp_outerbox&quot; style=&quot;border:1px solid #a7d7f9; margin-bottom: 0.5em; background-color: #f9fcff; vertical-align:top; padding:0 0.5em 0 0.5em; overflow: auto; font-size: small; -moz-border-radius: 0.8em; -webkit-border-radius: 0.8em; border-radius: 0.8em;&quot;&gt;\n",
      "\n",
      "{| width=&quot;100%&quot;\n",
      "\n",
      "|&lt;div style=&quot;float: left; overflow: hidden;&quot;&gt;\n",
      "\n",
      "&lt;inputbox&gt;\n",
      "\n",
      "type=search\n",
      "\n",
      "width=25\n",
      "\n",
      "buttonlabel=찾기\n",
      "\n",
      "searchbuttonlabel=본문 검색\n",
      "\n",
      "break=no\n",
      "\n",
      "&lt;/inputbox&gt;&lt;/div&gt;\n",
      "\n",
      "|&lt;!-- 링크 모음 --&gt;\n",
      "\n",
      "&lt;div class=&quot;plainlinks&quot; style=&quot;text-align: right; color: #71c9f0&quot;&gt;\n",
      "\n",
      "[[위키백과:정책과 지침|정책과 지침]] '''/'''\n",
      "\n",
      "[[위키백과:사용자 모임|사용자 모임]] '''/'''\n",
      "\n",
      "[[위키백과:도움말|도움말]] '''/'''\n",
      "\n",
      "[[위키백과:방명록|방명록]] '''/'''\n",
      "\n",
      "[https://donate.wikimedia.org/?uselang=ko 기부 안내] '''/'''\n",
      "\n",
      "[https://ko.m.wikipedia.org/ 모바일판 대문]\n",
      "\n",
      "&lt;/div&gt;&lt;!-- /링크 모음 --&gt;\n",
      "\n",
      "|}\n",
      "\n",
      "&lt;/div&gt;&lt;!-- /찾기 --&gt;\n",
      "\n",
      "&lt;!-- 본문 --&gt;\n",
      "\n",
      "{| id=&quot;mp_contents&quot; style=&quot;width:100%; height: 100%; font-size: small; border-spacing:0;&quot;\n",
      "\n",
      "&lt;!-- 본문 왼쪽 --&gt;\n",
      "\n",
      "| id=&quot;mp_contentsL&quot; style=&quot;width: 63%; border:1px solid #a7d7f9; vertical-align:top; padding: 1em; overflow: auto; -moz-border-radius: 0.8em; -webkit-border-radius: 0.8em; border-radius: 0.8em;&quot; | &lt;div id=&quot;mp_featuredArticle&quot; class=&quot;mp_contentsboxtitle&quot; style=&quot;background-color:#bbddff; margin-bottom: 0.7em; padding: 0.2em 0.5em; font-size: 1.2em; line-height: 1.2em; overflow: visible; font-weight: bold; -moz-border-radius: 0.5em; -webkit-border-radius: 0.5em; border-radius: 0.5em;&quot;&gt;&lt;div style=&quot;float: left; margin: -8px 8px -8px 0px;&quot;&gt;[[파일:HSutvald2.svg|35px|middle|링크=]]&lt;/div&gt;[[위키백과:알찬 글|오늘의 알찬 글]]&lt;/div&gt;\n",
      "\n",
      "&lt;div id=&quot;mp-tfa&quot;&gt;{{위키백과:오늘의 알찬 글}}&lt;/div&gt;\n",
      "\n",
      "{{-}}&lt;!-- 좋은 글 --&gt;\n",
      "\n",
      "&lt;div id=&quot;mp_goodArticle&quot; class=&quot;mp_contentsboxtitle&quot; style=&quot;background-color:#bbddff; margin: 1.2em 0 0.7em; padding: 0.2em 0.5em; font-size: 1.2em; line-height: 1.2em; overflow: visible; font-weight: bold; -moz-border-radius: 0.5em; -webkit-border-radius: 0.5em; border-radius: 0.5em;&quot;&gt;&lt;div style=&quot;float: left; margin: -8px 8px -8px 0px;&quot;&gt;[[파일:HSutvald2-Grey.svg|35px|middle|링크=]]&lt;/div&gt;[[위키백과:좋은 글|오늘의 좋은 글]]&lt;/div&gt;\n",
      "\n",
      "{{위키백과:오늘의 좋은 글}}\n",
      "\n",
      "{{-}}&lt;!-- 오늘의 역사 --&gt;\n",
      "\n"
     ]
    }
   ],
   "source": [
    "corpus_fname = '../kowiki-latest-pages-articles.xml'\n",
    "with open(corpus_fname,'r',encoding='utf-8') as f1:\n",
    "    for i,line in enumerate(f1):\n",
    "        print(line)\n",
    "        if i==100:break"
   ]
  },
  {
   "cell_type": "code",
   "execution_count": 97,
   "metadata": {},
   "outputs": [],
   "source": [
    "from gensim.corpora import WikiCorpus\n",
    "from gensim.utils import to_unicode\n",
    "import re"
   ]
  },
  {
   "cell_type": "code",
   "execution_count": 98,
   "metadata": {},
   "outputs": [],
   "source": [
    "\n",
    "WIKI_REMOVE_CHARS = re.compile(\"'+|(=+.{2,30}=+)|__TOC__|(ファイル:).+|:(en|de|it|fr|es|kr|zh|no|fi):|\\n\", re.UNICODE)\n",
    "WIKI_SPACE_CHARS = re.compile(\"(\\\\s|゙|゚|　)+\", re.UNICODE)\n",
    "EMAIL_PATTERN = re.compile(\"(^[a-zA-Z0-9_.+-]+@[a-zA-Z0-9-]+\\.[a-zA-Z0-9-.]+$)\", re.UNICODE)\n",
    "URL_PATTERN = re.compile(\"((ftp|http|https):\\/\\/)?(www.)?(?!.*(ftp|http|https|www.))[a-zA-Z0-9_-]+(\\.[a-zA-Z]+)+((\\/)[\\w#]+)*(\\/\\w+\\?[a-zA-Z0-9_]+=\\w+(&[a-zA-Z0-9_]+=\\w+)*)?$\", re.UNICODE)\n",
    "WIKI_REMOVE_TOKEN_CHARS = re.compile(\"(\\\\*$|:$|^파일:.+|^;)\", re.UNICODE)\n",
    "MULTIPLE_SPACES = re.compile(' +', re.UNICODE)\n",
    "\n",
    "\n",
    "def tokenize(content, token_min_len=2, token_max_len=100, lower=True):\n",
    "    content = re.sub(EMAIL_PATTERN, ' ', content)  # remove email pattern\n",
    "    content = re.sub(URL_PATTERN, ' ', content) # remove url pattern\n",
    "    content = re.sub(WIKI_REMOVE_CHARS, ' ', content)  # remove unnecessary chars\n",
    "    content = re.sub(WIKI_SPACE_CHARS, ' ', content)\n",
    "    content = re.sub(MULTIPLE_SPACES, ' ', content)\n",
    "    tokens = content.replace(\", )\", \"\").split(\" \")\n",
    "    result = []\n",
    "    for token in tokens:\n",
    "        if not token.startswith('_'):\n",
    "            token_candidate = to_unicode(re.sub(WIKI_REMOVE_TOKEN_CHARS, '', token))\n",
    "        else:\n",
    "            token_candidate = \"\"\n",
    "        if len(token_candidate) > 0:\n",
    "            result.append(token_candidate)\n",
    "    return result"
   ]
  },
  {
   "cell_type": "code",
   "execution_count": 99,
   "metadata": {},
   "outputs": [
    {
     "ename": "TypeError",
     "evalue": "'<' not supported between instances of 'function' and 'int'",
     "output_type": "error",
     "traceback": [
      "\u001b[1;31m---------------------------------------------------------------------------\u001b[0m",
      "\u001b[1;31mTypeError\u001b[0m                                 Traceback (most recent call last)",
      "\u001b[1;32m<ipython-input-99-25204eb9781f>\u001b[0m in \u001b[0;36m<module>\u001b[1;34m\u001b[0m\n\u001b[1;32m----> 1\u001b[1;33m \u001b[0mwiki\u001b[0m \u001b[1;33m=\u001b[0m \u001b[0mWikiCorpus\u001b[0m\u001b[1;33m(\u001b[0m\u001b[0mcorpus_fname\u001b[0m\u001b[1;33m,\u001b[0m\u001b[0mtokenize\u001b[0m\u001b[1;33m)\u001b[0m\u001b[1;33m\u001b[0m\u001b[1;33m\u001b[0m\u001b[0m\n\u001b[0m",
      "\u001b[1;32mg:\\anaconda3\\envs\\tf2\\lib\\site-packages\\gensim\\corpora\\wikicorpus.py\u001b[0m in \u001b[0;36m__init__\u001b[1;34m(self, fname, processes, lemmatize, dictionary, filter_namespaces, tokenizer_func, article_min_tokens, token_min_len, token_max_len, lower, filter_articles)\u001b[0m\n\u001b[0;32m    634\u001b[0m \u001b[1;33m\u001b[0m\u001b[0m\n\u001b[0;32m    635\u001b[0m         \u001b[1;32mif\u001b[0m \u001b[0mdictionary\u001b[0m \u001b[1;32mis\u001b[0m \u001b[1;32mNone\u001b[0m\u001b[1;33m:\u001b[0m\u001b[1;33m\u001b[0m\u001b[1;33m\u001b[0m\u001b[0m\n\u001b[1;32m--> 636\u001b[1;33m             \u001b[0mself\u001b[0m\u001b[1;33m.\u001b[0m\u001b[0mdictionary\u001b[0m \u001b[1;33m=\u001b[0m \u001b[0mDictionary\u001b[0m\u001b[1;33m(\u001b[0m\u001b[0mself\u001b[0m\u001b[1;33m.\u001b[0m\u001b[0mget_texts\u001b[0m\u001b[1;33m(\u001b[0m\u001b[1;33m)\u001b[0m\u001b[1;33m)\u001b[0m\u001b[1;33m\u001b[0m\u001b[1;33m\u001b[0m\u001b[0m\n\u001b[0m\u001b[0;32m    637\u001b[0m         \u001b[1;32melse\u001b[0m\u001b[1;33m:\u001b[0m\u001b[1;33m\u001b[0m\u001b[1;33m\u001b[0m\u001b[0m\n\u001b[0;32m    638\u001b[0m             \u001b[0mself\u001b[0m\u001b[1;33m.\u001b[0m\u001b[0mdictionary\u001b[0m \u001b[1;33m=\u001b[0m \u001b[0mdictionary\u001b[0m\u001b[1;33m\u001b[0m\u001b[1;33m\u001b[0m\u001b[0m\n",
      "\u001b[1;32mg:\\anaconda3\\envs\\tf2\\lib\\site-packages\\gensim\\corpora\\dictionary.py\u001b[0m in \u001b[0;36m__init__\u001b[1;34m(self, documents, prune_at)\u001b[0m\n\u001b[0;32m     85\u001b[0m \u001b[1;33m\u001b[0m\u001b[0m\n\u001b[0;32m     86\u001b[0m         \u001b[1;32mif\u001b[0m \u001b[0mdocuments\u001b[0m \u001b[1;32mis\u001b[0m \u001b[1;32mnot\u001b[0m \u001b[1;32mNone\u001b[0m\u001b[1;33m:\u001b[0m\u001b[1;33m\u001b[0m\u001b[1;33m\u001b[0m\u001b[0m\n\u001b[1;32m---> 87\u001b[1;33m             \u001b[0mself\u001b[0m\u001b[1;33m.\u001b[0m\u001b[0madd_documents\u001b[0m\u001b[1;33m(\u001b[0m\u001b[0mdocuments\u001b[0m\u001b[1;33m,\u001b[0m \u001b[0mprune_at\u001b[0m\u001b[1;33m=\u001b[0m\u001b[0mprune_at\u001b[0m\u001b[1;33m)\u001b[0m\u001b[1;33m\u001b[0m\u001b[1;33m\u001b[0m\u001b[0m\n\u001b[0m\u001b[0;32m     88\u001b[0m \u001b[1;33m\u001b[0m\u001b[0m\n\u001b[0;32m     89\u001b[0m     \u001b[1;32mdef\u001b[0m \u001b[0m__getitem__\u001b[0m\u001b[1;33m(\u001b[0m\u001b[0mself\u001b[0m\u001b[1;33m,\u001b[0m \u001b[0mtokenid\u001b[0m\u001b[1;33m)\u001b[0m\u001b[1;33m:\u001b[0m\u001b[1;33m\u001b[0m\u001b[1;33m\u001b[0m\u001b[0m\n",
      "\u001b[1;32mg:\\anaconda3\\envs\\tf2\\lib\\site-packages\\gensim\\corpora\\dictionary.py\u001b[0m in \u001b[0;36madd_documents\u001b[1;34m(self, documents, prune_at)\u001b[0m\n\u001b[0;32m    198\u001b[0m \u001b[1;33m\u001b[0m\u001b[0m\n\u001b[0;32m    199\u001b[0m         \"\"\"\n\u001b[1;32m--> 200\u001b[1;33m         \u001b[1;32mfor\u001b[0m \u001b[0mdocno\u001b[0m\u001b[1;33m,\u001b[0m \u001b[0mdocument\u001b[0m \u001b[1;32min\u001b[0m \u001b[0menumerate\u001b[0m\u001b[1;33m(\u001b[0m\u001b[0mdocuments\u001b[0m\u001b[1;33m)\u001b[0m\u001b[1;33m:\u001b[0m\u001b[1;33m\u001b[0m\u001b[1;33m\u001b[0m\u001b[0m\n\u001b[0m\u001b[0;32m    201\u001b[0m             \u001b[1;31m# log progress & run a regular check for pruning, once every 10k docs\u001b[0m\u001b[1;33m\u001b[0m\u001b[1;33m\u001b[0m\u001b[1;33m\u001b[0m\u001b[0m\n\u001b[0;32m    202\u001b[0m             \u001b[1;32mif\u001b[0m \u001b[0mdocno\u001b[0m \u001b[1;33m%\u001b[0m \u001b[1;36m10000\u001b[0m \u001b[1;33m==\u001b[0m \u001b[1;36m0\u001b[0m\u001b[1;33m:\u001b[0m\u001b[1;33m\u001b[0m\u001b[1;33m\u001b[0m\u001b[0m\n",
      "\u001b[1;32mg:\\anaconda3\\envs\\tf2\\lib\\site-packages\\gensim\\corpora\\wikicorpus.py\u001b[0m in \u001b[0;36mget_texts\u001b[1;34m(self)\u001b[0m\n\u001b[0;32m    677\u001b[0m              \u001b[1;32mfor\u001b[0m \u001b[0mtitle\u001b[0m\u001b[1;33m,\u001b[0m \u001b[0mtext\u001b[0m\u001b[1;33m,\u001b[0m \u001b[0mpageid\u001b[0m\u001b[1;33m\u001b[0m\u001b[1;33m\u001b[0m\u001b[0m\n\u001b[0;32m    678\u001b[0m              in extract_pages(bz2.BZ2File(self.fname), self.filter_namespaces, self.filter_articles))\n\u001b[1;32m--> 679\u001b[1;33m         \u001b[0mpool\u001b[0m \u001b[1;33m=\u001b[0m \u001b[0mmultiprocessing\u001b[0m\u001b[1;33m.\u001b[0m\u001b[0mPool\u001b[0m\u001b[1;33m(\u001b[0m\u001b[0mself\u001b[0m\u001b[1;33m.\u001b[0m\u001b[0mprocesses\u001b[0m\u001b[1;33m,\u001b[0m \u001b[0minit_to_ignore_interrupt\u001b[0m\u001b[1;33m)\u001b[0m\u001b[1;33m\u001b[0m\u001b[1;33m\u001b[0m\u001b[0m\n\u001b[0m\u001b[0;32m    680\u001b[0m \u001b[1;33m\u001b[0m\u001b[0m\n\u001b[0;32m    681\u001b[0m         \u001b[1;32mtry\u001b[0m\u001b[1;33m:\u001b[0m\u001b[1;33m\u001b[0m\u001b[1;33m\u001b[0m\u001b[0m\n",
      "\u001b[1;32mg:\\anaconda3\\envs\\tf2\\lib\\multiprocessing\\context.py\u001b[0m in \u001b[0;36mPool\u001b[1;34m(self, processes, initializer, initargs, maxtasksperchild)\u001b[0m\n\u001b[0;32m    117\u001b[0m         \u001b[1;32mfrom\u001b[0m \u001b[1;33m.\u001b[0m\u001b[0mpool\u001b[0m \u001b[1;32mimport\u001b[0m \u001b[0mPool\u001b[0m\u001b[1;33m\u001b[0m\u001b[1;33m\u001b[0m\u001b[0m\n\u001b[0;32m    118\u001b[0m         return Pool(processes, initializer, initargs, maxtasksperchild,\n\u001b[1;32m--> 119\u001b[1;33m                     context=self.get_context())\n\u001b[0m\u001b[0;32m    120\u001b[0m \u001b[1;33m\u001b[0m\u001b[0m\n\u001b[0;32m    121\u001b[0m     \u001b[1;32mdef\u001b[0m \u001b[0mRawValue\u001b[0m\u001b[1;33m(\u001b[0m\u001b[0mself\u001b[0m\u001b[1;33m,\u001b[0m \u001b[0mtypecode_or_type\u001b[0m\u001b[1;33m,\u001b[0m \u001b[1;33m*\u001b[0m\u001b[0margs\u001b[0m\u001b[1;33m)\u001b[0m\u001b[1;33m:\u001b[0m\u001b[1;33m\u001b[0m\u001b[1;33m\u001b[0m\u001b[0m\n",
      "\u001b[1;32mg:\\anaconda3\\envs\\tf2\\lib\\multiprocessing\\pool.py\u001b[0m in \u001b[0;36m__init__\u001b[1;34m(self, processes, initializer, initargs, maxtasksperchild, context)\u001b[0m\n\u001b[0;32m    166\u001b[0m         \u001b[1;32mif\u001b[0m \u001b[0mprocesses\u001b[0m \u001b[1;32mis\u001b[0m \u001b[1;32mNone\u001b[0m\u001b[1;33m:\u001b[0m\u001b[1;33m\u001b[0m\u001b[1;33m\u001b[0m\u001b[0m\n\u001b[0;32m    167\u001b[0m             \u001b[0mprocesses\u001b[0m \u001b[1;33m=\u001b[0m \u001b[0mos\u001b[0m\u001b[1;33m.\u001b[0m\u001b[0mcpu_count\u001b[0m\u001b[1;33m(\u001b[0m\u001b[1;33m)\u001b[0m \u001b[1;32mor\u001b[0m \u001b[1;36m1\u001b[0m\u001b[1;33m\u001b[0m\u001b[1;33m\u001b[0m\u001b[0m\n\u001b[1;32m--> 168\u001b[1;33m         \u001b[1;32mif\u001b[0m \u001b[0mprocesses\u001b[0m \u001b[1;33m<\u001b[0m \u001b[1;36m1\u001b[0m\u001b[1;33m:\u001b[0m\u001b[1;33m\u001b[0m\u001b[1;33m\u001b[0m\u001b[0m\n\u001b[0m\u001b[0;32m    169\u001b[0m             \u001b[1;32mraise\u001b[0m \u001b[0mValueError\u001b[0m\u001b[1;33m(\u001b[0m\u001b[1;34m\"Number of processes must be at least 1\"\u001b[0m\u001b[1;33m)\u001b[0m\u001b[1;33m\u001b[0m\u001b[1;33m\u001b[0m\u001b[0m\n\u001b[0;32m    170\u001b[0m \u001b[1;33m\u001b[0m\u001b[0m\n",
      "\u001b[1;31mTypeError\u001b[0m: '<' not supported between instances of 'function' and 'int'"
     ]
    }
   ],
   "source": [
    "wiki = WikiCorpus(corpus_fname,tokenize)"
   ]
  },
  {
   "cell_type": "markdown",
   "metadata": {},
   "source": [
    "### 3.1.2 KorQuAD"
   ]
  },
  {
   "cell_type": "code",
   "execution_count": 81,
   "metadata": {},
   "outputs": [],
   "source": [
    "import json\n",
    "corpus_fname = 'data/raw/KorQuAD_v1.0_train.json'\n",
    "output_fname = 'data/processed/processed_korquad_train.txt'"
   ]
  },
  {
   "cell_type": "code",
   "execution_count": 26,
   "metadata": {},
   "outputs": [
    {
     "name": "stdout",
     "output_type": "stream",
     "text": [
      "{'qas': [{'answers': [{'text': '교향곡', 'answer_start': 54}], 'id': '6566495-0-0', 'question': '바그너는 괴테의 파우스트를 읽고 무엇을 쓰고자 했는가?'}, {'answers': [{'text': '1악장', 'answer_start': 421}], 'id': '6566495-0-1', 'question': '바그너는 교향곡 작곡을 어디까지 쓴 뒤에 중단했는가?'}, {'answers': [{'text': '베토벤의 교향곡 9번', 'answer_start': 194}], 'id': '6566495-0-2', 'question': '바그너가 파우스트 서곡을 쓸 때 어떤 곡의 영향을 받았는가?'}, {'answers': [{'text': '파우스트', 'answer_start': 15}], 'id': '6566518-0-0', 'question': '1839년 바그너가 교향곡의 소재로 쓰려고 했던 책은?'}, {'answers': [{'text': '합창교향곡', 'answer_start': 354}], 'id': '6566518-0-1', 'question': '파우스트 서곡의 라단조 조성이 영향을 받은 베토벤의 곡은?'}, {'answers': [{'text': '1839', 'answer_start': 0}], 'id': '5917067-0-0', 'question': '바그너가 파우스트를 처음으로 읽은 년도는?'}, {'answers': [{'text': '파리', 'answer_start': 410}], 'id': '5917067-0-1', 'question': '바그너가 처음 교향곡 작곡을 한 장소는?'}, {'answers': [{'text': '드레스덴', 'answer_start': 534}], 'id': '5917067-0-2', 'question': '바그너의 1악장의 초연은 어디서 연주되었는가?'}], 'context': '1839년 바그너는 괴테의 파우스트을 처음 읽고 그 내용에 마음이 끌려 이를 소재로 해서 하나의 교향곡을 쓰려는 뜻을 갖는다. 이 시기 바그너는 1838년에 빛 독촉으로 산전수전을 다 걲은 상황이라 좌절과 실망에 가득했으며 메피스토펠레스를 만나는 파우스트의 심경에 공감했다고 한다. 또한 파리에서 아브네크의 지휘로 파리 음악원 관현악단이 연주하는 베토벤의 교향곡 9번을 듣고 깊은 감명을 받았는데, 이것이 이듬해 1월에 파우스트의 서곡으로 쓰여진 이 작품에 조금이라도 영향을 끼쳤으리라는 것은 의심할 여지가 없다. 여기의 라단조 조성의 경우에도 그의 전기에 적혀 있는 것처럼 단순한 정신적 피로나 실의가 반영된 것이 아니라 베토벤의 합창교향곡 조성의 영향을 받은 것을 볼 수 있다. 그렇게 교향곡 작곡을 1839년부터 40년에 걸쳐 파리에서 착수했으나 1악장을 쓴 뒤에 중단했다. 또한 작품의 완성과 동시에 그는 이 서곡(1악장)을 파리 음악원의 연주회에서 연주할 파트보까지 준비하였으나, 실제로는 이루어지지는 않았다. 결국 초연은 4년 반이 지난 후에 드레스덴에서 연주되었고 재연도 이루어졌지만, 이후에 그대로 방치되고 말았다. 그 사이에 그는 리엔치와 방황하는 네덜란드인을 완성하고 탄호이저에도 착수하는 등 분주한 시간을 보냈는데, 그런 바쁜 생활이 이 곡을 잊게 한 것이 아닌가 하는 의견도 있다.'}\n"
     ]
    }
   ],
   "source": [
    "with open(corpus_fname,'r') as f1:\n",
    "    dataset_json = json.load(f1)\n",
    "    dataset = dataset_json['data']\n",
    "    print(dataset[0]['paragraphs'][0])"
   ]
  },
  {
   "cell_type": "code",
   "execution_count": 34,
   "metadata": {},
   "outputs": [],
   "source": [
    "f1 = open(corpus_fname,'r') \n",
    "dataset_json = json.load(f1)\n",
    "dataset = dataset_json['data']\n",
    "f1.close()"
   ]
  },
  {
   "cell_type": "code",
   "execution_count": 40,
   "metadata": {},
   "outputs": [
    {
     "data": {
      "text/plain": [
       "dict_keys(['paragraphs', 'title'])"
      ]
     },
     "execution_count": 40,
     "metadata": {},
     "output_type": "execute_result"
    }
   ],
   "source": [
    "dataset[0].keys()"
   ]
  },
  {
   "cell_type": "code",
   "execution_count": 42,
   "metadata": {},
   "outputs": [
    {
     "data": {
      "text/plain": [
       "{'qas': [{'answers': [{'text': '교향곡', 'answer_start': 54}],\n",
       "   'id': '6566495-0-0',\n",
       "   'question': '바그너는 괴테의 파우스트를 읽고 무엇을 쓰고자 했는가?'},\n",
       "  {'answers': [{'text': '1악장', 'answer_start': 421}],\n",
       "   'id': '6566495-0-1',\n",
       "   'question': '바그너는 교향곡 작곡을 어디까지 쓴 뒤에 중단했는가?'},\n",
       "  {'answers': [{'text': '베토벤의 교향곡 9번', 'answer_start': 194}],\n",
       "   'id': '6566495-0-2',\n",
       "   'question': '바그너가 파우스트 서곡을 쓸 때 어떤 곡의 영향을 받았는가?'},\n",
       "  {'answers': [{'text': '파우스트', 'answer_start': 15}],\n",
       "   'id': '6566518-0-0',\n",
       "   'question': '1839년 바그너가 교향곡의 소재로 쓰려고 했던 책은?'},\n",
       "  {'answers': [{'text': '합창교향곡', 'answer_start': 354}],\n",
       "   'id': '6566518-0-1',\n",
       "   'question': '파우스트 서곡의 라단조 조성이 영향을 받은 베토벤의 곡은?'},\n",
       "  {'answers': [{'text': '1839', 'answer_start': 0}],\n",
       "   'id': '5917067-0-0',\n",
       "   'question': '바그너가 파우스트를 처음으로 읽은 년도는?'},\n",
       "  {'answers': [{'text': '파리', 'answer_start': 410}],\n",
       "   'id': '5917067-0-1',\n",
       "   'question': '바그너가 처음 교향곡 작곡을 한 장소는?'},\n",
       "  {'answers': [{'text': '드레스덴', 'answer_start': 534}],\n",
       "   'id': '5917067-0-2',\n",
       "   'question': '바그너의 1악장의 초연은 어디서 연주되었는가?'}],\n",
       " 'context': '1839년 바그너는 괴테의 파우스트을 처음 읽고 그 내용에 마음이 끌려 이를 소재로 해서 하나의 교향곡을 쓰려는 뜻을 갖는다. 이 시기 바그너는 1838년에 빛 독촉으로 산전수전을 다 걲은 상황이라 좌절과 실망에 가득했으며 메피스토펠레스를 만나는 파우스트의 심경에 공감했다고 한다. 또한 파리에서 아브네크의 지휘로 파리 음악원 관현악단이 연주하는 베토벤의 교향곡 9번을 듣고 깊은 감명을 받았는데, 이것이 이듬해 1월에 파우스트의 서곡으로 쓰여진 이 작품에 조금이라도 영향을 끼쳤으리라는 것은 의심할 여지가 없다. 여기의 라단조 조성의 경우에도 그의 전기에 적혀 있는 것처럼 단순한 정신적 피로나 실의가 반영된 것이 아니라 베토벤의 합창교향곡 조성의 영향을 받은 것을 볼 수 있다. 그렇게 교향곡 작곡을 1839년부터 40년에 걸쳐 파리에서 착수했으나 1악장을 쓴 뒤에 중단했다. 또한 작품의 완성과 동시에 그는 이 서곡(1악장)을 파리 음악원의 연주회에서 연주할 파트보까지 준비하였으나, 실제로는 이루어지지는 않았다. 결국 초연은 4년 반이 지난 후에 드레스덴에서 연주되었고 재연도 이루어졌지만, 이후에 그대로 방치되고 말았다. 그 사이에 그는 리엔치와 방황하는 네덜란드인을 완성하고 탄호이저에도 착수하는 등 분주한 시간을 보냈는데, 그런 바쁜 생활이 이 곡을 잊게 한 것이 아닌가 하는 의견도 있다.'}"
      ]
     },
     "execution_count": 42,
     "metadata": {},
     "output_type": "execute_result"
    }
   ],
   "source": [
    "dataset[0]['paragraphs'][0]"
   ]
  },
  {
   "cell_type": "code",
   "execution_count": 43,
   "metadata": {},
   "outputs": [
    {
     "data": {
      "text/plain": [
       "'1839년 바그너는 괴테의 파우스트을 처음 읽고 그 내용에 마음이 끌려 이를 소재로 해서 하나의 교향곡을 쓰려는 뜻을 갖는다. 이 시기 바그너는 1838년에 빛 독촉으로 산전수전을 다 걲은 상황이라 좌절과 실망에 가득했으며 메피스토펠레스를 만나는 파우스트의 심경에 공감했다고 한다. 또한 파리에서 아브네크의 지휘로 파리 음악원 관현악단이 연주하는 베토벤의 교향곡 9번을 듣고 깊은 감명을 받았는데, 이것이 이듬해 1월에 파우스트의 서곡으로 쓰여진 이 작품에 조금이라도 영향을 끼쳤으리라는 것은 의심할 여지가 없다. 여기의 라단조 조성의 경우에도 그의 전기에 적혀 있는 것처럼 단순한 정신적 피로나 실의가 반영된 것이 아니라 베토벤의 합창교향곡 조성의 영향을 받은 것을 볼 수 있다. 그렇게 교향곡 작곡을 1839년부터 40년에 걸쳐 파리에서 착수했으나 1악장을 쓴 뒤에 중단했다. 또한 작품의 완성과 동시에 그는 이 서곡(1악장)을 파리 음악원의 연주회에서 연주할 파트보까지 준비하였으나, 실제로는 이루어지지는 않았다. 결국 초연은 4년 반이 지난 후에 드레스덴에서 연주되었고 재연도 이루어졌지만, 이후에 그대로 방치되고 말았다. 그 사이에 그는 리엔치와 방황하는 네덜란드인을 완성하고 탄호이저에도 착수하는 등 분주한 시간을 보냈는데, 그런 바쁜 생활이 이 곡을 잊게 한 것이 아닌가 하는 의견도 있다.'"
      ]
     },
     "execution_count": 43,
     "metadata": {},
     "output_type": "execute_result"
    }
   ],
   "source": [
    "dataset[0]['paragraphs'][0]['context']"
   ]
  },
  {
   "cell_type": "code",
   "execution_count": 44,
   "metadata": {},
   "outputs": [
    {
     "data": {
      "text/plain": [
       "[{'answers': [{'text': '교향곡', 'answer_start': 54}],\n",
       "  'id': '6566495-0-0',\n",
       "  'question': '바그너는 괴테의 파우스트를 읽고 무엇을 쓰고자 했는가?'},\n",
       " {'answers': [{'text': '1악장', 'answer_start': 421}],\n",
       "  'id': '6566495-0-1',\n",
       "  'question': '바그너는 교향곡 작곡을 어디까지 쓴 뒤에 중단했는가?'},\n",
       " {'answers': [{'text': '베토벤의 교향곡 9번', 'answer_start': 194}],\n",
       "  'id': '6566495-0-2',\n",
       "  'question': '바그너가 파우스트 서곡을 쓸 때 어떤 곡의 영향을 받았는가?'},\n",
       " {'answers': [{'text': '파우스트', 'answer_start': 15}],\n",
       "  'id': '6566518-0-0',\n",
       "  'question': '1839년 바그너가 교향곡의 소재로 쓰려고 했던 책은?'},\n",
       " {'answers': [{'text': '합창교향곡', 'answer_start': 354}],\n",
       "  'id': '6566518-0-1',\n",
       "  'question': '파우스트 서곡의 라단조 조성이 영향을 받은 베토벤의 곡은?'},\n",
       " {'answers': [{'text': '1839', 'answer_start': 0}],\n",
       "  'id': '5917067-0-0',\n",
       "  'question': '바그너가 파우스트를 처음으로 읽은 년도는?'},\n",
       " {'answers': [{'text': '파리', 'answer_start': 410}],\n",
       "  'id': '5917067-0-1',\n",
       "  'question': '바그너가 처음 교향곡 작곡을 한 장소는?'},\n",
       " {'answers': [{'text': '드레스덴', 'answer_start': 534}],\n",
       "  'id': '5917067-0-2',\n",
       "  'question': '바그너의 1악장의 초연은 어디서 연주되었는가?'}]"
      ]
     },
     "execution_count": 44,
     "metadata": {},
     "output_type": "execute_result"
    }
   ],
   "source": [
    "dataset[0]['paragraphs'][0]['qas']"
   ]
  },
  {
   "cell_type": "code",
   "execution_count": 53,
   "metadata": {},
   "outputs": [
    {
     "name": "stdout",
     "output_type": "stream",
     "text": [
      "바그너는 괴테의 파우스트를 읽고 무엇을 쓰고자 했는가? 교향곡\n",
      "바그너는 교향곡 작곡을 어디까지 쓴 뒤에 중단했는가? 1악장\n",
      "바그너가 파우스트 서곡을 쓸 때 어떤 곡의 영향을 받았는가? 베토벤의 교향곡 9번\n",
      "1839년 바그너가 교향곡의 소재로 쓰려고 했던 책은? 파우스트\n",
      "파우스트 서곡의 라단조 조성이 영향을 받은 베토벤의 곡은? 합창교향곡\n",
      "바그너가 파우스트를 처음으로 읽은 년도는? 1839\n",
      "바그너가 처음 교향곡 작곡을 한 장소는? 파리\n",
      "바그너의 1악장의 초연은 어디서 연주되었는가? 드레스덴\n"
     ]
    }
   ],
   "source": [
    "for data in dataset[0]['paragraphs'][0]['qas']:\n",
    "    print(data['question'],data['answers'][0]['text'])"
   ]
  },
  {
   "cell_type": "markdown",
   "metadata": {},
   "source": [
    "위의 시도를 토대로 다음과 같은 최종 버전 작성"
   ]
  },
  {
   "cell_type": "code",
   "execution_count": 83,
   "metadata": {},
   "outputs": [
    {
     "ename": "JSONDecodeError",
     "evalue": "Expecting value: line 1 column 1 (char 0)",
     "output_type": "error",
     "traceback": [
      "\u001b[1;31m---------------------------------------------------------------------------\u001b[0m",
      "\u001b[1;31mJSONDecodeError\u001b[0m                           Traceback (most recent call last)",
      "\u001b[1;32m<ipython-input-83-d9abbb3375ec>\u001b[0m in \u001b[0;36m<module>\u001b[1;34m\u001b[0m\n\u001b[0;32m      1\u001b[0m \u001b[1;32mwith\u001b[0m \u001b[0mopen\u001b[0m\u001b[1;33m(\u001b[0m\u001b[0mcorpus_fname\u001b[0m\u001b[1;33m,\u001b[0m\u001b[1;34m'r'\u001b[0m\u001b[1;33m,\u001b[0m\u001b[0mencoding\u001b[0m\u001b[1;33m=\u001b[0m\u001b[1;34m'utf-8'\u001b[0m\u001b[1;33m)\u001b[0m \u001b[1;32mas\u001b[0m \u001b[0mf1\u001b[0m\u001b[1;33m,\u001b[0m \u001b[0mopen\u001b[0m\u001b[1;33m(\u001b[0m\u001b[0moutput_fname\u001b[0m\u001b[1;33m,\u001b[0m\u001b[1;34m'w'\u001b[0m\u001b[1;33m,\u001b[0m\u001b[0mencoding\u001b[0m\u001b[1;33m=\u001b[0m\u001b[1;34m'utf-8'\u001b[0m\u001b[1;33m)\u001b[0m \u001b[1;32mas\u001b[0m \u001b[0mf2\u001b[0m\u001b[1;33m:\u001b[0m\u001b[1;33m\u001b[0m\u001b[1;33m\u001b[0m\u001b[0m\n\u001b[1;32m----> 2\u001b[1;33m     \u001b[0mdataset_json\u001b[0m \u001b[1;33m=\u001b[0m \u001b[0mjson\u001b[0m\u001b[1;33m.\u001b[0m\u001b[0mload\u001b[0m\u001b[1;33m(\u001b[0m\u001b[0mf1\u001b[0m\u001b[1;33m)\u001b[0m\u001b[1;33m\u001b[0m\u001b[1;33m\u001b[0m\u001b[0m\n\u001b[0m\u001b[0;32m      3\u001b[0m     \u001b[0mdataset\u001b[0m \u001b[1;33m=\u001b[0m \u001b[0mdataset_json\u001b[0m\u001b[1;33m[\u001b[0m\u001b[1;34m'data'\u001b[0m\u001b[1;33m]\u001b[0m\u001b[1;33m\u001b[0m\u001b[1;33m\u001b[0m\u001b[0m\n\u001b[0;32m      4\u001b[0m     \u001b[1;32mfor\u001b[0m \u001b[0mdata\u001b[0m \u001b[1;32min\u001b[0m \u001b[0mdataset\u001b[0m\u001b[1;33m[\u001b[0m\u001b[1;33m:\u001b[0m\u001b[1;36m2\u001b[0m\u001b[1;33m]\u001b[0m\u001b[1;33m:\u001b[0m\u001b[1;33m\u001b[0m\u001b[1;33m\u001b[0m\u001b[0m\n\u001b[0;32m      5\u001b[0m         \u001b[0mw_lines\u001b[0m \u001b[1;33m=\u001b[0m \u001b[1;33m[\u001b[0m\u001b[1;33m]\u001b[0m\u001b[1;33m\u001b[0m\u001b[1;33m\u001b[0m\u001b[0m\n",
      "\u001b[1;32mg:\\anaconda3\\envs\\tf2\\lib\\json\\__init__.py\u001b[0m in \u001b[0;36mload\u001b[1;34m(fp, cls, object_hook, parse_float, parse_int, parse_constant, object_pairs_hook, **kw)\u001b[0m\n\u001b[0;32m    294\u001b[0m         \u001b[0mcls\u001b[0m\u001b[1;33m=\u001b[0m\u001b[0mcls\u001b[0m\u001b[1;33m,\u001b[0m \u001b[0mobject_hook\u001b[0m\u001b[1;33m=\u001b[0m\u001b[0mobject_hook\u001b[0m\u001b[1;33m,\u001b[0m\u001b[1;33m\u001b[0m\u001b[1;33m\u001b[0m\u001b[0m\n\u001b[0;32m    295\u001b[0m         \u001b[0mparse_float\u001b[0m\u001b[1;33m=\u001b[0m\u001b[0mparse_float\u001b[0m\u001b[1;33m,\u001b[0m \u001b[0mparse_int\u001b[0m\u001b[1;33m=\u001b[0m\u001b[0mparse_int\u001b[0m\u001b[1;33m,\u001b[0m\u001b[1;33m\u001b[0m\u001b[1;33m\u001b[0m\u001b[0m\n\u001b[1;32m--> 296\u001b[1;33m         parse_constant=parse_constant, object_pairs_hook=object_pairs_hook, **kw)\n\u001b[0m\u001b[0;32m    297\u001b[0m \u001b[1;33m\u001b[0m\u001b[0m\n\u001b[0;32m    298\u001b[0m \u001b[1;33m\u001b[0m\u001b[0m\n",
      "\u001b[1;32mg:\\anaconda3\\envs\\tf2\\lib\\json\\__init__.py\u001b[0m in \u001b[0;36mloads\u001b[1;34m(s, encoding, cls, object_hook, parse_float, parse_int, parse_constant, object_pairs_hook, **kw)\u001b[0m\n\u001b[0;32m    346\u001b[0m             \u001b[0mparse_int\u001b[0m \u001b[1;32mis\u001b[0m \u001b[1;32mNone\u001b[0m \u001b[1;32mand\u001b[0m \u001b[0mparse_float\u001b[0m \u001b[1;32mis\u001b[0m \u001b[1;32mNone\u001b[0m \u001b[1;32mand\u001b[0m\u001b[1;33m\u001b[0m\u001b[1;33m\u001b[0m\u001b[0m\n\u001b[0;32m    347\u001b[0m             parse_constant is None and object_pairs_hook is None and not kw):\n\u001b[1;32m--> 348\u001b[1;33m         \u001b[1;32mreturn\u001b[0m \u001b[0m_default_decoder\u001b[0m\u001b[1;33m.\u001b[0m\u001b[0mdecode\u001b[0m\u001b[1;33m(\u001b[0m\u001b[0ms\u001b[0m\u001b[1;33m)\u001b[0m\u001b[1;33m\u001b[0m\u001b[1;33m\u001b[0m\u001b[0m\n\u001b[0m\u001b[0;32m    349\u001b[0m     \u001b[1;32mif\u001b[0m \u001b[0mcls\u001b[0m \u001b[1;32mis\u001b[0m \u001b[1;32mNone\u001b[0m\u001b[1;33m:\u001b[0m\u001b[1;33m\u001b[0m\u001b[1;33m\u001b[0m\u001b[0m\n\u001b[0;32m    350\u001b[0m         \u001b[0mcls\u001b[0m \u001b[1;33m=\u001b[0m \u001b[0mJSONDecoder\u001b[0m\u001b[1;33m\u001b[0m\u001b[1;33m\u001b[0m\u001b[0m\n",
      "\u001b[1;32mg:\\anaconda3\\envs\\tf2\\lib\\json\\decoder.py\u001b[0m in \u001b[0;36mdecode\u001b[1;34m(self, s, _w)\u001b[0m\n\u001b[0;32m    335\u001b[0m \u001b[1;33m\u001b[0m\u001b[0m\n\u001b[0;32m    336\u001b[0m         \"\"\"\n\u001b[1;32m--> 337\u001b[1;33m         \u001b[0mobj\u001b[0m\u001b[1;33m,\u001b[0m \u001b[0mend\u001b[0m \u001b[1;33m=\u001b[0m \u001b[0mself\u001b[0m\u001b[1;33m.\u001b[0m\u001b[0mraw_decode\u001b[0m\u001b[1;33m(\u001b[0m\u001b[0ms\u001b[0m\u001b[1;33m,\u001b[0m \u001b[0midx\u001b[0m\u001b[1;33m=\u001b[0m\u001b[0m_w\u001b[0m\u001b[1;33m(\u001b[0m\u001b[0ms\u001b[0m\u001b[1;33m,\u001b[0m \u001b[1;36m0\u001b[0m\u001b[1;33m)\u001b[0m\u001b[1;33m.\u001b[0m\u001b[0mend\u001b[0m\u001b[1;33m(\u001b[0m\u001b[1;33m)\u001b[0m\u001b[1;33m)\u001b[0m\u001b[1;33m\u001b[0m\u001b[1;33m\u001b[0m\u001b[0m\n\u001b[0m\u001b[0;32m    338\u001b[0m         \u001b[0mend\u001b[0m \u001b[1;33m=\u001b[0m \u001b[0m_w\u001b[0m\u001b[1;33m(\u001b[0m\u001b[0ms\u001b[0m\u001b[1;33m,\u001b[0m \u001b[0mend\u001b[0m\u001b[1;33m)\u001b[0m\u001b[1;33m.\u001b[0m\u001b[0mend\u001b[0m\u001b[1;33m(\u001b[0m\u001b[1;33m)\u001b[0m\u001b[1;33m\u001b[0m\u001b[1;33m\u001b[0m\u001b[0m\n\u001b[0;32m    339\u001b[0m         \u001b[1;32mif\u001b[0m \u001b[0mend\u001b[0m \u001b[1;33m!=\u001b[0m \u001b[0mlen\u001b[0m\u001b[1;33m(\u001b[0m\u001b[0ms\u001b[0m\u001b[1;33m)\u001b[0m\u001b[1;33m:\u001b[0m\u001b[1;33m\u001b[0m\u001b[1;33m\u001b[0m\u001b[0m\n",
      "\u001b[1;32mg:\\anaconda3\\envs\\tf2\\lib\\json\\decoder.py\u001b[0m in \u001b[0;36mraw_decode\u001b[1;34m(self, s, idx)\u001b[0m\n\u001b[0;32m    353\u001b[0m             \u001b[0mobj\u001b[0m\u001b[1;33m,\u001b[0m \u001b[0mend\u001b[0m \u001b[1;33m=\u001b[0m \u001b[0mself\u001b[0m\u001b[1;33m.\u001b[0m\u001b[0mscan_once\u001b[0m\u001b[1;33m(\u001b[0m\u001b[0ms\u001b[0m\u001b[1;33m,\u001b[0m \u001b[0midx\u001b[0m\u001b[1;33m)\u001b[0m\u001b[1;33m\u001b[0m\u001b[1;33m\u001b[0m\u001b[0m\n\u001b[0;32m    354\u001b[0m         \u001b[1;32mexcept\u001b[0m \u001b[0mStopIteration\u001b[0m \u001b[1;32mas\u001b[0m \u001b[0merr\u001b[0m\u001b[1;33m:\u001b[0m\u001b[1;33m\u001b[0m\u001b[1;33m\u001b[0m\u001b[0m\n\u001b[1;32m--> 355\u001b[1;33m             \u001b[1;32mraise\u001b[0m \u001b[0mJSONDecodeError\u001b[0m\u001b[1;33m(\u001b[0m\u001b[1;34m\"Expecting value\"\u001b[0m\u001b[1;33m,\u001b[0m \u001b[0ms\u001b[0m\u001b[1;33m,\u001b[0m \u001b[0merr\u001b[0m\u001b[1;33m.\u001b[0m\u001b[0mvalue\u001b[0m\u001b[1;33m)\u001b[0m \u001b[1;32mfrom\u001b[0m \u001b[1;32mNone\u001b[0m\u001b[1;33m\u001b[0m\u001b[1;33m\u001b[0m\u001b[0m\n\u001b[0m\u001b[0;32m    356\u001b[0m         \u001b[1;32mreturn\u001b[0m \u001b[0mobj\u001b[0m\u001b[1;33m,\u001b[0m \u001b[0mend\u001b[0m\u001b[1;33m\u001b[0m\u001b[1;33m\u001b[0m\u001b[0m\n",
      "\u001b[1;31mJSONDecodeError\u001b[0m: Expecting value: line 1 column 1 (char 0)"
     ]
    }
   ],
   "source": [
    "with open(corpus_fname,'r',encoding='utf-8') as f1, open(output_fname,'w',encoding='utf-8') as f2:\n",
    "    dataset_json = json.load(f1)\n",
    "    dataset = dataset_json['data']\n",
    "    for data in dataset:\n",
    "        w_lines = []\n",
    "        for paragraph in data['paragraphs']:\n",
    "            w_lines.append(paragraph['context'])\n",
    "            for qa in paragraph['qas']:\n",
    "                q_text = qa['question']\n",
    "                for a in qa['answers']:\n",
    "                    a_text = a['text']\n",
    "                    w_lines.append(q_text+\" \"+a_text)\n",
    "        for line in w_lines:\n",
    "            f2.writelines(line+\"\\n\")"
   ]
  },
  {
   "cell_type": "markdown",
   "metadata": {},
   "source": [
    "### 3.1.3 네이버 영화 리뷰 말뭉치"
   ]
  },
  {
   "cell_type": "code",
   "execution_count": 79,
   "metadata": {},
   "outputs": [],
   "source": [
    "corpus_path = 'data/raw/ratings_train.txt'\n",
    "output_fname = 'data/processed/processed_ratings.txt'\n",
    "with_label = False"
   ]
  },
  {
   "cell_type": "code",
   "execution_count": 80,
   "metadata": {},
   "outputs": [
    {
     "name": "stdout",
     "output_type": "stream",
     "text": [
      "id\tdocument\tlabel\n",
      "\n",
      "9976970\t아 더빙.. 진짜 짜증나네요 목소리\t0\n",
      "\n",
      "3819312\t흠...포스터보고 초딩영화줄....오버연기조차 가볍지 않구나\t1\n",
      "\n",
      "10265843\t너무재밓었다그래서보는것을추천한다\t0\n",
      "\n",
      "9045019\t교도소 이야기구먼 ..솔직히 재미는 없다..평점 조정\t0\n",
      "\n"
     ]
    }
   ],
   "source": [
    "with open(corpus_path,'r',encoding='utf-8') as f1:\n",
    "    i = 0 \n",
    "    for line in f1:\n",
    "        print(line)\n",
    "        i += 1\n",
    "        if i==5:break"
   ]
  },
  {
   "cell_type": "code",
   "execution_count": 76,
   "metadata": {},
   "outputs": [],
   "source": [
    "with open(corpus_path,'r',encoding='utf-8') as f1,\\\n",
    "        open(corpus_fname,'w',encoding='utf-8') as f2:\n",
    "    i = 0 \n",
    "    next(f1)\n",
    "    for line in f1:\n",
    "        _, sentence, label = line.strip().split('\\t')\n",
    "\n",
    "        if not sentence: continue\n",
    "        if with_label:\n",
    "            f2.writelines(sentence+'\\u241E' + label + '\\n')\n",
    "        else:\n",
    "            f2.writelines(sentence+'\\n')\n",
    "        i += 1\n",
    "        if i==5:break"
   ]
  },
  {
   "cell_type": "code",
   "execution_count": 77,
   "metadata": {},
   "outputs": [
    {
     "name": "stdout",
     "output_type": "stream",
     "text": [
      "어릴때보고 지금다시봐도 재밌어요ㅋㅋ\n",
      "\n",
      "디자인을 배우는 학생으로, 외국디자이너와 그들이 일군 전통을 통해 발전해가는 문화산업이 부러웠는데. 사실 우리나라에서도 그 어려운시절에 끝까지 열정을 지킨 노라노 같은 전통이있어 저와 같은 사람들이 꿈을 꾸고 이뤄나갈 수 있다는 것에 감사합니다.\n",
      "\n",
      "폴리스스토리 시리즈는 1부터 뉴까지 버릴께 하나도 없음.. 최고.\n",
      "\n",
      "와.. 연기가 진짜 개쩔구나.. 지루할거라고 생각했는데 몰입해서 봤다.. 그래 이런게 진짜 영화지\n",
      "\n",
      "안개 자욱한 밤하늘에 떠 있는 초승달 같은 영화.\n",
      "\n"
     ]
    }
   ],
   "source": [
    "with open(corpus_fname,'r',encoding='utf-8') as f2:\n",
    "    for line in f2:\n",
    "        print(line)"
   ]
  },
  {
   "cell_type": "code",
   "execution_count": null,
   "metadata": {},
   "outputs": [],
   "source": []
  }
 ],
 "metadata": {
  "kernelspec": {
   "display_name": "Python 3",
   "language": "python",
   "name": "python3"
  },
  "language_info": {
   "codemirror_mode": {
    "name": "ipython",
    "version": 3
   },
   "file_extension": ".py",
   "mimetype": "text/x-python",
   "name": "python",
   "nbconvert_exporter": "python",
   "pygments_lexer": "ipython3",
   "version": "3.7.4"
  }
 },
 "nbformat": 4,
 "nbformat_minor": 2
}
