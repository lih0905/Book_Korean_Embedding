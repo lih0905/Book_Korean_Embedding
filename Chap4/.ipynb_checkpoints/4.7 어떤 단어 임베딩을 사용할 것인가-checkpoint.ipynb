{
 "cells": [
  {
   "cell_type": "markdown",
   "metadata": {},
   "source": [
    "root에서 실행시켜야 import가 제대로 됨. 학습 후 chap4 폴더로 이동시켰음."
   ]
  },
  {
   "cell_type": "code",
   "execution_count": 1,
   "metadata": {},
   "outputs": [],
   "source": [
    "import pandas as pd\n",
    "import numpy as np\n",
    "import matplotlib.pyplot as plt\n",
    "import seaborn as sns\n",
    "\n",
    "sns.set()\n",
    "plt.rcParams[\"font.family\"] = 'NanumBarunGothic'\n",
    "%matplotlib inline"
   ]
  },
  {
   "cell_type": "markdown",
   "metadata": {},
   "source": [
    "### 4.7.2 단어 유사도 평가\n",
    "\n",
    "단어 유사도 평가를 위해 데이터셋을 다운로드하자."
   ]
  },
  {
   "cell_type": "code",
   "execution_count": 7,
   "metadata": {
    "scrolled": true
   },
   "outputs": [
    {
     "name": "stdout",
     "output_type": "stream",
     "text": [
      "--2019-11-09 21:29:44--  https://github.com/dongjun-Lee/kor2vec/raw/master/test_dataset/kor_ws353.csv\n",
      "Resolving github.com (github.com)... 52.78.231.108\n",
      "접속 github.com (github.com)|52.78.231.108|:443... 접속됨.\n",
      "HTTP request sent, awaiting response... 302 Found\n",
      "Location: https://raw.githubusercontent.com/dongjun-Lee/kor2vec/master/test_dataset/kor_ws353.csv [following]\n",
      "--2019-11-09 21:29:44--  https://raw.githubusercontent.com/dongjun-Lee/kor2vec/master/test_dataset/kor_ws353.csv\n",
      "Resolving raw.githubusercontent.com (raw.githubusercontent.com)... 151.101.72.133\n",
      "접속 raw.githubusercontent.com (raw.githubusercontent.com)|151.101.72.133|:443... 접속됨.\n",
      "HTTP request sent, awaiting response... 200 OK\n",
      "Length: 6753 (6.6K) [text/plain]\n",
      "Saving to: ‘/home/inhwan/G_drive/Programming/한국어 임베딩/data/raw/kor_ws353.csv’\n",
      "\n",
      "kor_ws353.csv       100%[===================>]   6.59K  15.5KB/s    in 0.4s    \n",
      "\n",
      "2019-11-09 21:29:45 (15.5 KB/s) - ‘/home/inhwan/G_drive/Programming/한국어 임베딩/data/raw/kor_ws353.csv’ saved [6753/6753]\n",
      "\n"
     ]
    }
   ],
   "source": [
    "!wget https://github.com/dongjun-Lee/kor2vec/raw/master/test_dataset/kor_ws353.csv -P '/home/inhwan/G_drive/Programming/한국어 임베딩/data/raw'"
   ]
  },
  {
   "cell_type": "markdown",
   "metadata": {},
   "source": [
    "다운 받은 데이터를 살펴보자."
   ]
  },
  {
   "cell_type": "code",
   "execution_count": 2,
   "metadata": {},
   "outputs": [
    {
     "data": {
      "text/html": [
       "<div>\n",
       "<style scoped>\n",
       "    .dataframe tbody tr th:only-of-type {\n",
       "        vertical-align: middle;\n",
       "    }\n",
       "\n",
       "    .dataframe tbody tr th {\n",
       "        vertical-align: top;\n",
       "    }\n",
       "\n",
       "    .dataframe thead th {\n",
       "        text-align: right;\n",
       "    }\n",
       "</style>\n",
       "<table border=\"1\" class=\"dataframe\">\n",
       "  <thead>\n",
       "    <tr style=\"text-align: right;\">\n",
       "      <th></th>\n",
       "      <th>단어1</th>\n",
       "      <th>단어2</th>\n",
       "      <th>유사도</th>\n",
       "    </tr>\n",
       "  </thead>\n",
       "  <tbody>\n",
       "    <tr>\n",
       "      <th>0</th>\n",
       "      <td>사랑</td>\n",
       "      <td>섹스</td>\n",
       "      <td>6.77</td>\n",
       "    </tr>\n",
       "    <tr>\n",
       "      <th>1</th>\n",
       "      <td>호랑이</td>\n",
       "      <td>고양이</td>\n",
       "      <td>7.35</td>\n",
       "    </tr>\n",
       "    <tr>\n",
       "      <th>2</th>\n",
       "      <td>호랑이</td>\n",
       "      <td>호랑이</td>\n",
       "      <td>10.00</td>\n",
       "    </tr>\n",
       "    <tr>\n",
       "      <th>3</th>\n",
       "      <td>책</td>\n",
       "      <td>종이</td>\n",
       "      <td>7.46</td>\n",
       "    </tr>\n",
       "    <tr>\n",
       "      <th>4</th>\n",
       "      <td>컴퓨터</td>\n",
       "      <td>키보드</td>\n",
       "      <td>7.62</td>\n",
       "    </tr>\n",
       "  </tbody>\n",
       "</table>\n",
       "</div>"
      ],
      "text/plain": [
       "   단어1  단어2    유사도\n",
       "0   사랑   섹스   6.77\n",
       "1  호랑이  고양이   7.35\n",
       "2  호랑이  호랑이  10.00\n",
       "3    책   종이   7.46\n",
       "4  컴퓨터  키보드   7.62"
      ]
     },
     "execution_count": 2,
     "metadata": {},
     "output_type": "execute_result"
    }
   ],
   "source": [
    "df = pd.read_csv('data/raw/kor_ws353.csv', names = ['단어1','단어2','유사도'])\n",
    "df.head()"
   ]
  },
  {
   "cell_type": "code",
   "execution_count": 3,
   "metadata": {},
   "outputs": [
    {
     "data": {
      "text/plain": [
       "323"
      ]
     },
     "execution_count": 3,
     "metadata": {},
     "output_type": "execute_result"
    }
   ],
   "source": [
    "len(df)"
   ]
  },
  {
   "cell_type": "markdown",
   "metadata": {},
   "source": [
    "이제 드디어 WordEmbeddingEvaluator 을 써보자 ㅠㅠ"
   ]
  },
  {
   "cell_type": "code",
   "execution_count": 2,
   "metadata": {
    "scrolled": true
   },
   "outputs": [
    {
     "name": "stderr",
     "output_type": "stream",
     "text": [
      "/home/inhwan/Python/Pytorch_ev/lib/python3.7/site-packages/tensorflow/python/framework/dtypes.py:526: FutureWarning: Passing (type, 1) or '1type' as a synonym of type is deprecated; in a future version of numpy, it will be understood as (type, (1,)) / '(1,)type'.\n",
      "  _np_qint8 = np.dtype([(\"qint8\", np.int8, 1)])\n",
      "/home/inhwan/Python/Pytorch_ev/lib/python3.7/site-packages/tensorflow/python/framework/dtypes.py:527: FutureWarning: Passing (type, 1) or '1type' as a synonym of type is deprecated; in a future version of numpy, it will be understood as (type, (1,)) / '(1,)type'.\n",
      "  _np_quint8 = np.dtype([(\"quint8\", np.uint8, 1)])\n",
      "/home/inhwan/Python/Pytorch_ev/lib/python3.7/site-packages/tensorflow/python/framework/dtypes.py:528: FutureWarning: Passing (type, 1) or '1type' as a synonym of type is deprecated; in a future version of numpy, it will be understood as (type, (1,)) / '(1,)type'.\n",
      "  _np_qint16 = np.dtype([(\"qint16\", np.int16, 1)])\n",
      "/home/inhwan/Python/Pytorch_ev/lib/python3.7/site-packages/tensorflow/python/framework/dtypes.py:529: FutureWarning: Passing (type, 1) or '1type' as a synonym of type is deprecated; in a future version of numpy, it will be understood as (type, (1,)) / '(1,)type'.\n",
      "  _np_quint16 = np.dtype([(\"quint16\", np.uint16, 1)])\n",
      "/home/inhwan/Python/Pytorch_ev/lib/python3.7/site-packages/tensorflow/python/framework/dtypes.py:530: FutureWarning: Passing (type, 1) or '1type' as a synonym of type is deprecated; in a future version of numpy, it will be understood as (type, (1,)) / '(1,)type'.\n",
      "  _np_qint32 = np.dtype([(\"qint32\", np.int32, 1)])\n",
      "/home/inhwan/Python/Pytorch_ev/lib/python3.7/site-packages/tensorflow/python/framework/dtypes.py:535: FutureWarning: Passing (type, 1) or '1type' as a synonym of type is deprecated; in a future version of numpy, it will be understood as (type, (1,)) / '(1,)type'.\n",
      "  np_resource = np.dtype([(\"resource\", np.ubyte, 1)])\n"
     ]
    }
   ],
   "source": [
    "from models.word_eval import WordEmbeddingEvaluator"
   ]
  },
  {
   "cell_type": "code",
   "execution_count": 3,
   "metadata": {},
   "outputs": [],
   "source": [
    "def model_selector(model_name):\n",
    "    if model_name == 'word2vec':\n",
    "        model = WordEmbeddingEvaluator(\n",
    "            vecs_txt_fname = 'data/word-embeddings/word2vec/word2vec',\n",
    "            method='word2vec', dim=100, tokenizer_name='mecab')\n",
    "    elif model_name == 'fasttext':\n",
    "        model = WordEmbeddingEvaluator(\n",
    "            vecs_txt_fname = 'data/word-embeddings/fasttext/fasttext.vec',\n",
    "            vecs_bin_fname = 'data/word-embeddings/fasttext/fasttext.bin',\n",
    "            method='fasttext', dim=100, tokenizer_name='mecab')\n",
    "    elif model_name == 'glove':\n",
    "        model = WordEmbeddingEvaluator(\n",
    "            vecs_txt_fname = 'data/word-embeddings/glove/glove.vecs.txt',\n",
    "            method='glove', dim=100, tokenizer_name='mecab')\n",
    "    elif model_name == 'swivel':\n",
    "        model = WordEmbeddingEvaluator(\n",
    "            vecs_txt_fname = 'data/word-embeddings/swivel/row_embedding.tsv',\n",
    "            method='swivel', dim=100, tokenizer_name='mecab')\n",
    "    else:\n",
    "        print(\"model name error!\")\n",
    "    \n",
    "    return model"
   ]
  },
  {
   "cell_type": "code",
   "execution_count": 39,
   "metadata": {},
   "outputs": [
    {
     "name": "stdout",
     "output_type": "stream",
     "text": [
      "spearman corr: 0.5811240469400805 , pearson corr: 0.6005777002757634 , # of errors: 0\n"
     ]
    }
   ],
   "source": [
    "model = model_selector('word2vec')\n",
    "model.word_sim_test('data/raw/kor_ws353.csv')"
   ]
  },
  {
   "cell_type": "code",
   "execution_count": 40,
   "metadata": {},
   "outputs": [
    {
     "name": "stderr",
     "output_type": "stream",
     "text": [
      "\n"
     ]
    },
    {
     "name": "stdout",
     "output_type": "stream",
     "text": [
      "spearman corr: 0.6426818018434524 , pearson corr: 0.6371222332200525 , # of errors: 0\n"
     ]
    }
   ],
   "source": [
    "model = model_selector('fasttext')\n",
    "model.word_sim_test('data/raw/kor_ws353.csv')"
   ]
  },
  {
   "cell_type": "code",
   "execution_count": 43,
   "metadata": {},
   "outputs": [
    {
     "name": "stdout",
     "output_type": "stream",
     "text": [
      "spearman corr: 0.5023418426129077 , pearson corr: 0.5462748697086482 , # of errors: 0\n"
     ]
    }
   ],
   "source": [
    "model = model_selector('glove')\n",
    "model.word_sim_test('data/raw/kor_ws353.csv')"
   ]
  },
  {
   "cell_type": "code",
   "execution_count": 26,
   "metadata": {},
   "outputs": [
    {
     "name": "stdout",
     "output_type": "stream",
     "text": [
      "spearman corr: 0.5586441220028743 , pearson corr: 0.5750895340516221 , # of errors: 0\n"
     ]
    }
   ],
   "source": [
    "model = model_selector('swivel')\n",
    "model.word_sim_test('data/raw/kor_ws353.csv')"
   ]
  },
  {
   "cell_type": "markdown",
   "metadata": {},
   "source": [
    "이렇게 얻어진 결과들을 시각화해보자."
   ]
  },
  {
   "cell_type": "code",
   "execution_count": 27,
   "metadata": {},
   "outputs": [],
   "source": [
    "res = {\n",
    "    'word2vec':{'spearman':0.5811240469400805,'pearson': 0.6005777002757634 },\n",
    "    'fasttext':{'spearman':0.6426818018434524,'pearson': 0.6371222332200525 },\n",
    "    'glove':{'spearman':0.5023418426129077,'pearson': 0.5462748697086482 },\n",
    "    'swivel':{'spearman':0.5586441220028743, 'pearson':0.5750895340516221 }\n",
    "}"
   ]
  },
  {
   "cell_type": "code",
   "execution_count": 28,
   "metadata": {},
   "outputs": [
    {
     "data": {
      "text/html": [
       "<div>\n",
       "<style scoped>\n",
       "    .dataframe tbody tr th:only-of-type {\n",
       "        vertical-align: middle;\n",
       "    }\n",
       "\n",
       "    .dataframe tbody tr th {\n",
       "        vertical-align: top;\n",
       "    }\n",
       "\n",
       "    .dataframe thead th {\n",
       "        text-align: right;\n",
       "    }\n",
       "</style>\n",
       "<table border=\"1\" class=\"dataframe\">\n",
       "  <thead>\n",
       "    <tr style=\"text-align: right;\">\n",
       "      <th></th>\n",
       "      <th>spearman</th>\n",
       "      <th>pearson</th>\n",
       "    </tr>\n",
       "  </thead>\n",
       "  <tbody>\n",
       "    <tr>\n",
       "      <th>word2vec</th>\n",
       "      <td>0.581124</td>\n",
       "      <td>0.600578</td>\n",
       "    </tr>\n",
       "    <tr>\n",
       "      <th>fasttext</th>\n",
       "      <td>0.642682</td>\n",
       "      <td>0.637122</td>\n",
       "    </tr>\n",
       "    <tr>\n",
       "      <th>glove</th>\n",
       "      <td>0.502342</td>\n",
       "      <td>0.546275</td>\n",
       "    </tr>\n",
       "    <tr>\n",
       "      <th>swivel</th>\n",
       "      <td>0.558644</td>\n",
       "      <td>0.575090</td>\n",
       "    </tr>\n",
       "  </tbody>\n",
       "</table>\n",
       "</div>"
      ],
      "text/plain": [
       "          spearman   pearson\n",
       "word2vec  0.581124  0.600578\n",
       "fasttext  0.642682  0.637122\n",
       "glove     0.502342  0.546275\n",
       "swivel    0.558644  0.575090"
      ]
     },
     "execution_count": 28,
     "metadata": {},
     "output_type": "execute_result"
    }
   ],
   "source": [
    "df = pd.DataFrame.from_dict(res).transpose()\n",
    "df.head()"
   ]
  },
  {
   "cell_type": "code",
   "execution_count": 29,
   "metadata": {
    "scrolled": true
   },
   "outputs": [
    {
     "data": {
      "image/png": "[encoded data removed]",
      "text/plain": [
       "<Figure size 432x288 with 1 Axes>"
      ]
     },
     "metadata": {
      "needs_background": "light"
     },
     "output_type": "display_data"
    }
   ],
   "source": [
    "width = 0.3 \n",
    "ind = np.arange(len(df))\n",
    "\n",
    "p1 = plt.bar(ind, df['spearman'], width=width, color='b', alpha=0.8, label='spearman')\n",
    "p2 = plt.bar(ind+width, df['pearson'], width=width, color='r', alpha=0.8, label='pearson')\n",
    "\n",
    "plt.xlabel('word embedding')\n",
    "plt.ylabel('similarity')\n",
    "\n",
    "plt.xticks(ind + width / 2, df.index)\n",
    "plt.ylim(bottom=0.4)\n",
    "plt.legend()\n",
    "plt.show()"
   ]
  },
  {
   "cell_type": "markdown",
   "metadata": {},
   "source": [
    "### 4.7.3 단어 유추 평가\n",
    "\n",
    "마찬가지로 단어 유추 평가를 위한 데이터셋을 다운받자."
   ]
  },
  {
   "cell_type": "code",
   "execution_count": 103,
   "metadata": {},
   "outputs": [
    {
     "name": "stdout",
     "output_type": "stream",
     "text": [
      "--2019-11-09 22:48:24--  https://github.com/dongjun-Lee/kor2vec/raw/master/test_dataset/kor_analogy_semantic.txt\n",
      "Resolving github.com (github.com)... 15.164.81.167\n",
      "접속 github.com (github.com)|15.164.81.167|:443... 접속됨.\n",
      "HTTP request sent, awaiting response... 302 Found\n",
      "Location: https://raw.githubusercontent.com/dongjun-Lee/kor2vec/master/test_dataset/kor_analogy_semantic.txt [following]\n",
      "--2019-11-09 22:48:24--  https://raw.githubusercontent.com/dongjun-Lee/kor2vec/master/test_dataset/kor_analogy_semantic.txt\n",
      "Resolving raw.githubusercontent.com (raw.githubusercontent.com)... 151.101.228.133\n",
      "접속 raw.githubusercontent.com (raw.githubusercontent.com)|151.101.228.133|:443... 접속됨.\n",
      "HTTP request sent, awaiting response... 200 OK\n",
      "Length: 14759 (14K) [text/plain]\n",
      "Saving to: ‘/home/inhwan/G_drive/Programming/한국어 임베딩/data/raw/kor_analogy_semantic.txt’\n",
      "\n",
      "kor_analogy_semanti 100%[===================>]  14.41K  --.-KB/s    in 0.09s   \n",
      "\n",
      "2019-11-09 22:48:25 (169 KB/s) - ‘/home/inhwan/G_drive/Programming/한국어 임베딩/data/raw/kor_analogy_semantic.txt’ saved [14759/14759]\n",
      "\n"
     ]
    }
   ],
   "source": [
    "!wget https://github.com/dongjun-Lee/kor2vec/raw/master/test_dataset/kor_analogy_semantic.txt -P '/home/inhwan/G_drive/Programming/한국어 임베딩/data/raw'"
   ]
  },
  {
   "cell_type": "code",
   "execution_count": 112,
   "metadata": {},
   "outputs": [
    {
     "data": {
      "text/plain": [
       "[['대한민국', '서울', '일본', '도쿄'],\n",
       " ['대한민국', '서울', '중국', '베이징'],\n",
       " ['대한민국', '서울', '미국', '워싱턴'],\n",
       " ['대한민국', '서울', '영국', '런던'],\n",
       " ['대한민국', '서울', '프랑스', '파리'],\n",
       " ['대한민국', '서울', '독일', '베를린'],\n",
       " ['대한민국', '서울', '이탈리아', '로마'],\n",
       " ['대한민국', '서울', '말레이시아', '쿠알라룸푸르'],\n",
       " ['대한민국', '서울', '인도네시아', '자카르타'],\n",
       " ['대한민국', '서울', '러시아', '모스크바']]"
      ]
     },
     "execution_count": 112,
     "metadata": {},
     "output_type": "execute_result"
    }
   ],
   "source": [
    "analogy_data = [pairs.split() for pairs in open('data/raw/kor_analogy_semantic.txt', 'r')][1:]\n",
    "analogy_data[:10]"
   ]
  },
  {
   "cell_type": "code",
   "execution_count": 6,
   "metadata": {},
   "outputs": [
    {
     "name": "stdout",
     "output_type": "stream",
     "text": [
      "# of correct answer: 157 , # of data: 420 , # of errors: 0\n"
     ]
    }
   ],
   "source": [
    "model = model_selector('word2vec')\n",
    "model.word_analogy_test('data/raw/kor_analogy_semantic.txt', verbose=False)"
   ]
  },
  {
   "cell_type": "code",
   "execution_count": 8,
   "metadata": {},
   "outputs": [
    {
     "name": "stderr",
     "output_type": "stream",
     "text": [
      "\n"
     ]
    },
    {
     "name": "stdout",
     "output_type": "stream",
     "text": [
      "# of correct answer: 111 , # of data: 420 , # of errors: 0\n"
     ]
    }
   ],
   "source": [
    "model = model_selector('fasttext')\n",
    "model.word_analogy_test('data/raw/kor_analogy_semantic.txt', verbose=False)"
   ]
  },
  {
   "cell_type": "code",
   "execution_count": 9,
   "metadata": {},
   "outputs": [
    {
     "name": "stdout",
     "output_type": "stream",
     "text": [
      "# of correct answer: 143 , # of data: 420 , # of errors: 0\n"
     ]
    }
   ],
   "source": [
    "model = model_selector('glove')\n",
    "model.word_analogy_test('data/raw/kor_analogy_semantic.txt', verbose=False)"
   ]
  },
  {
   "cell_type": "code",
   "execution_count": 30,
   "metadata": {},
   "outputs": [
    {
     "name": "stdout",
     "output_type": "stream",
     "text": [
      "# of correct answer: 126 , # of data: 420 , # of errors: 0\n"
     ]
    }
   ],
   "source": [
    "model = model_selector('swivel')\n",
    "model.word_analogy_test('data/raw/kor_analogy_semantic.txt', verbose=False)"
   ]
  },
  {
   "cell_type": "code",
   "execution_count": 38,
   "metadata": {},
   "outputs": [],
   "source": [
    "res = {\n",
    "    'word2vec':{'correct':157, 'total_data':420},\n",
    "    'fasttext':{'correct':111, 'total_data':420},\n",
    "    'glove':{'correct':143, 'total_data':420},\n",
    "    'swivel':{'correct':126, 'total_data':420},\n",
    "}"
   ]
  },
  {
   "cell_type": "code",
   "execution_count": 39,
   "metadata": {},
   "outputs": [
    {
     "data": {
      "text/html": [
       "<div>\n",
       "<style scoped>\n",
       "    .dataframe tbody tr th:only-of-type {\n",
       "        vertical-align: middle;\n",
       "    }\n",
       "\n",
       "    .dataframe tbody tr th {\n",
       "        vertical-align: top;\n",
       "    }\n",
       "\n",
       "    .dataframe thead th {\n",
       "        text-align: right;\n",
       "    }\n",
       "</style>\n",
       "<table border=\"1\" class=\"dataframe\">\n",
       "  <thead>\n",
       "    <tr style=\"text-align: right;\">\n",
       "      <th></th>\n",
       "      <th>correct</th>\n",
       "      <th>total_data</th>\n",
       "      <th>analogy_res</th>\n",
       "    </tr>\n",
       "  </thead>\n",
       "  <tbody>\n",
       "    <tr>\n",
       "      <th>word2vec</th>\n",
       "      <td>157</td>\n",
       "      <td>420</td>\n",
       "      <td>0.373810</td>\n",
       "    </tr>\n",
       "    <tr>\n",
       "      <th>fasttext</th>\n",
       "      <td>111</td>\n",
       "      <td>420</td>\n",
       "      <td>0.264286</td>\n",
       "    </tr>\n",
       "    <tr>\n",
       "      <th>glove</th>\n",
       "      <td>143</td>\n",
       "      <td>420</td>\n",
       "      <td>0.340476</td>\n",
       "    </tr>\n",
       "    <tr>\n",
       "      <th>swivel</th>\n",
       "      <td>126</td>\n",
       "      <td>420</td>\n",
       "      <td>0.300000</td>\n",
       "    </tr>\n",
       "  </tbody>\n",
       "</table>\n",
       "</div>"
      ],
      "text/plain": [
       "          correct  total_data  analogy_res\n",
       "word2vec      157         420     0.373810\n",
       "fasttext      111         420     0.264286\n",
       "glove         143         420     0.340476\n",
       "swivel        126         420     0.300000"
      ]
     },
     "execution_count": 39,
     "metadata": {},
     "output_type": "execute_result"
    }
   ],
   "source": [
    "df = pd.DataFrame.from_dict(res).transpose()\n",
    "df['analogy_res'] = df['correct']/df['total_data']\n",
    "df.head()"
   ]
  },
  {
   "cell_type": "code",
   "execution_count": 40,
   "metadata": {},
   "outputs": [
    {
     "data": {
      "image/png": "[encoded data removed]",
      "text/plain": [
       "<Figure size 432x288 with 1 Axes>"
      ]
     },
     "metadata": {
      "needs_background": "light"
     },
     "output_type": "display_data"
    }
   ],
   "source": [
    "plt.bar(df.index, df['analogy_res'], color='b')\n",
    "\n",
    "plt.xlabel('word embedding')\n",
    "plt.ylabel('analogy result')\n",
    "\n",
    "plt.ylim(bottom=0.1)\n",
    "plt.show()"
   ]
  },
  {
   "cell_type": "markdown",
   "metadata": {},
   "source": [
    "### 단어 임베딩 시각화\n",
    "\n",
    "t-SNE 를 이용한 단어 시각화"
   ]
  },
  {
   "cell_type": "code",
   "execution_count": 13,
   "metadata": {},
   "outputs": [
    {
     "name": "stdout",
     "output_type": "stream",
     "text": [
      "save @ words.png\n",
      "save @ between-words.png\n"
     ]
    }
   ],
   "source": [
    "model_name = 'word2vec'\n",
    "model = model_selector(model_name)\n",
    "model.visualize_words('data/raw/kor_analogy_semantic.txt')\n",
    "model.visualize_between_words('data/raw/kor_analogy_semantic.txt')\n",
    "!mv words.png word2vec_words.png\n",
    "!mv between-words.png word2vec_between-words.png"
   ]
  },
  {
   "cell_type": "code",
   "execution_count": 15,
   "metadata": {},
   "outputs": [
    {
     "name": "stderr",
     "output_type": "stream",
     "text": [
      "\n"
     ]
    },
    {
     "name": "stdout",
     "output_type": "stream",
     "text": [
      "save @ words.png\n",
      "save @ between-words.png\n"
     ]
    }
   ],
   "source": [
    "model_name = 'fasttext'\n",
    "model = model_selector(model_name)\n",
    "model.visualize_words('data/raw/kor_analogy_semantic.txt')\n",
    "model.visualize_between_words('data/raw/kor_analogy_semantic.txt')\n",
    "!mv words.png fasttext_words.png\n",
    "!mv between-words.png fasttext_between-words.png"
   ]
  },
  {
   "cell_type": "code",
   "execution_count": 17,
   "metadata": {},
   "outputs": [
    {
     "name": "stdout",
     "output_type": "stream",
     "text": [
      "save @ words.png\n",
      "save @ between-words.png\n"
     ]
    }
   ],
   "source": [
    "model_name = 'glove'\n",
    "model = model_selector(model_name)\n",
    "model.visualize_words('data/raw/kor_analogy_semantic.txt')\n",
    "model.visualize_between_words('data/raw/kor_analogy_semantic.txt')\n",
    "!mv words.png glove_words.png\n",
    "!mv between-words.png glove_between-words.png"
   ]
  },
  {
   "cell_type": "code",
   "execution_count": 18,
   "metadata": {},
   "outputs": [
    {
     "name": "stdout",
     "output_type": "stream",
     "text": [
      "save @ words.png\n",
      "save @ between-words.png\n"
     ]
    }
   ],
   "source": [
    "model_name = 'swivel'\n",
    "model = model_selector(model_name)\n",
    "model.visualize_words('data/raw/kor_analogy_semantic.txt')\n",
    "model.visualize_between_words('data/raw/kor_analogy_semantic.txt')\n",
    "!mv words.png swivel_words.png\n",
    "!mv between-words.png swivel_between-words.png"
   ]
  },
  {
   "cell_type": "markdown",
   "metadata": {},
   "source": [
    "<img src=\"word2vec_words.png\" width=500> <img src=\"fasttext_words.png\" width=500> <img src=\"glove_words.png\" width=500> <img src=\"swivel_words.png\" width=500>"
   ]
  },
  {
   "cell_type": "markdown",
   "metadata": {},
   "source": [
    "<img src=\"word2vec_between-words.png\" width=500> <img src=\"fasttext_between-words.png\" width=500> <img src=\"glove_between-words.png\" width=500> <img src=\"swivel_between-words.png\" width=500>"
   ]
  },
  {
   "cell_type": "code",
   "execution_count": null,
   "metadata": {},
   "outputs": [],
   "source": []
  }
 ],
 "metadata": {
  "kernelspec": {
   "display_name": "Python 3",
   "language": "python",
   "name": "python3"
  },
  "language_info": {
   "codemirror_mode": {
    "name": "ipython",
    "version": 3
   },
   "file_extension": ".py",
   "mimetype": "text/x-python",
   "name": "python",
   "nbconvert_exporter": "python",
   "pygments_lexer": "ipython3",
   "version": "3.7.3"
  }
 },
 "nbformat": 4,
 "nbformat_minor": 2
}
