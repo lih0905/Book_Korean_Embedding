{
 "cells": [
  {
   "cell_type": "markdown",
   "metadata": {
    "colab_type": "text",
    "id": "AErK_lFmDJ9z"
   },
   "source": [
    "# 4.2 Word2Vec\n",
    "\n",
    "먼저 책 내용을 따라한 후 파이토치로 구현해보자!"
   ]
  },
  {
   "cell_type": "code",
   "execution_count": 1,
   "metadata": {
    "colab": {},
    "colab_type": "code",
    "id": "q6T4dBW2DJ91"
   },
   "outputs": [],
   "source": [
    "#corpus_fname = '../data/tokenized/korquad_mecab.txt'\n",
    "corpus_fname = '../data/tokenized/corpus_mecab.txt'\n",
    "model_fname = '../data/word_embeddings/word2vec/word2vec'\n",
    "\n",
    "from gensim.models import Word2Vec"
   ]
  },
  {
   "cell_type": "code",
   "execution_count": 2,
   "metadata": {
    "colab": {},
    "colab_type": "code",
    "id": "NJ1KmXkpDJ94",
    "outputId": "ebe67006-2f14-4386-cd5c-6086b1f763d0"
   },
   "outputs": [
    {
     "name": "stdout",
     "output_type": "stream",
     "text": [
      "Wall time: 1h 14min 41s\n"
     ]
    }
   ],
   "source": [
    "%%time\n",
    "corpus = [sent.strip().split(\" \") for sent in open(corpus_fname, 'r', encoding='utf-8').readlines()]\n",
    "model = Word2Vec(corpus, size=100, workers=4, sg=1)\n",
    "model.save(model_fname)"
   ]
  },
  {
   "cell_type": "markdown",
   "metadata": {},
   "source": [
    "책에서는 미리 만들어둔 클래스를 쓰는데 그게 khaiii를 필요로 하므로, 여기선 그냥 gensim 라이브러리 사용법이나 익혀보자."
   ]
  },
  {
   "cell_type": "code",
   "execution_count": 6,
   "metadata": {},
   "outputs": [
    {
     "data": {
      "text/plain": [
       "0.7600878"
      ]
     },
     "execution_count": 6,
     "metadata": {},
     "output_type": "execute_result"
    }
   ],
   "source": [
    "# 두 단어 사이의 유사도\n",
    "model.wv.similarity('한국','일본')"
   ]
  },
  {
   "cell_type": "code",
   "execution_count": 7,
   "metadata": {},
   "outputs": [
    {
     "data": {
      "text/plain": [
       "[('일본', 0.7600878477096558),\n",
       " ('미국', 0.7370491027832031),\n",
       " ('중국', 0.7336530685424805),\n",
       " ('대한민국', 0.6903994083404541),\n",
       " ('우리나라', 0.6695072650909424),\n",
       " ('국내', 0.6565845012664795),\n",
       " ('최고', 0.6536493301391602),\n",
       " ('북한', 0.6467779874801636),\n",
       " ('나라', 0.6412838697433472),\n",
       " ('산증인', 0.6291565895080566)]"
      ]
     },
     "execution_count": 7,
     "metadata": {},
     "output_type": "execute_result"
    }
   ],
   "source": [
    "# 가장 유사한 단어 찾기\n",
    "model.wv.most_similar('한국') # 옵션은 topn=10 이 디폴트"
   ]
  },
  {
   "cell_type": "code",
   "execution_count": 8,
   "metadata": {},
   "outputs": [
    {
     "name": "stdout",
     "output_type": "stream",
     "text": [
      "Wall time: 30 ms\n"
     ]
    },
    {
     "data": {
      "text/plain": [
       "[('하드웨어', 0.819138765335083),\n",
       " ('주변기기', 0.7951250076293945),\n",
       " ('임베디드', 0.7927801609039307),\n",
       " ('PDA', 0.7920290231704712),\n",
       " ('노트북', 0.7857601642608643),\n",
       " ('컴퓨팅', 0.7803535461425781),\n",
       " ('데스크톱', 0.776055634021759),\n",
       " ('마이크로컴퓨터', 0.7725406885147095),\n",
       " ('응용', 0.7718737125396729),\n",
       " ('랩톱', 0.7710766792297363)]"
      ]
     },
     "execution_count": 8,
     "metadata": {},
     "output_type": "execute_result"
    }
   ],
   "source": [
    "%%time\n",
    "model.wv.most_similar('컴퓨터') # 옵션은 topn=10 이 디폴트"
   ]
  },
  {
   "cell_type": "code",
   "execution_count": 10,
   "metadata": {},
   "outputs": [
    {
     "data": {
      "text/plain": [
       "[('왕국', 0.7107855081558228),\n",
       " ('여왕', 0.7011860609054565),\n",
       " ('군주', 0.6778603792190552)]"
      ]
     },
     "execution_count": 10,
     "metadata": {},
     "output_type": "execute_result"
    }
   ],
   "source": [
    "# word analogy는 다음과 같이 사용 가능\n",
    "model.wv.most_similar(positive=['왕','여자'],negative=['남자'],topn=3)"
   ]
  },
  {
   "cell_type": "code",
   "execution_count": 11,
   "metadata": {},
   "outputs": [
    {
     "data": {
      "text/plain": [
       "[('파리', 0.694817066192627),\n",
       " ('툴루즈', 0.6836140155792236),\n",
       " ('낭시', 0.6809982657432556)]"
      ]
     },
     "execution_count": 11,
     "metadata": {},
     "output_type": "execute_result"
    }
   ],
   "source": [
    "model.wv.most_similar(positive=['서울','프랑스'],negative=['한국'],topn=3)"
   ]
  },
  {
   "cell_type": "code",
   "execution_count": 12,
   "metadata": {},
   "outputs": [
    {
     "data": {
      "text/plain": [
       "[('득점', 0.6441534161567688),\n",
       " ('타점', 0.6425706744194031),\n",
       " ('호골', 0.6362104415893555)]"
      ]
     },
     "execution_count": 12,
     "metadata": {},
     "output_type": "execute_result"
    }
   ],
   "source": [
    "model.wv.most_similar(positive=['홈런','축구'],negative=['야구'],topn=3)"
   ]
  },
  {
   "cell_type": "code",
   "execution_count": 16,
   "metadata": {},
   "outputs": [
    {
     "data": {
      "text/plain": [
       "(100,)"
      ]
     },
     "execution_count": 16,
     "metadata": {},
     "output_type": "execute_result"
    }
   ],
   "source": [
    "# 벡터 표현은 어떻게 ?\n",
    "model.wv['한국'].shape"
   ]
  },
  {
   "cell_type": "code",
   "execution_count": 20,
   "metadata": {},
   "outputs": [
    {
     "data": {
      "text/plain": [
       "358043"
      ]
     },
     "execution_count": 20,
     "metadata": {},
     "output_type": "execute_result"
    }
   ],
   "source": [
    "# 단어 갯수\n",
    "len(model.wv.vocab)"
   ]
  },
  {
   "cell_type": "code",
   "execution_count": 24,
   "metadata": {},
   "outputs": [
    {
     "data": {
      "text/plain": [
       "'인터넷'"
      ]
     },
     "execution_count": 24,
     "metadata": {},
     "output_type": "execute_result"
    }
   ],
   "source": [
    "# index 와 단어\n",
    "model.wv.index2word[1000]"
   ]
  },
  {
   "cell_type": "code",
   "execution_count": 28,
   "metadata": {},
   "outputs": [],
   "source": [
    "word_to_id = dict([])\n",
    "\n",
    "for i in range(len(model.wv.vocab)):\n",
    "    word = model.wv.index2word[i]\n",
    "    word_to_id[word] = i"
   ]
  },
  {
   "cell_type": "code",
   "execution_count": 29,
   "metadata": {},
   "outputs": [
    {
     "data": {
      "text/plain": [
       "1000"
      ]
     },
     "execution_count": 29,
     "metadata": {},
     "output_type": "execute_result"
    }
   ],
   "source": [
    "word_to_id['인터넷']"
   ]
  },
  {
   "cell_type": "markdown",
   "metadata": {},
   "source": [
    "이런 식으로 워드벡터를 얻을 수 있다!"
   ]
  },
  {
   "cell_type": "code",
   "execution_count": null,
   "metadata": {},
   "outputs": [],
   "source": []
  },
  {
   "cell_type": "code",
   "execution_count": 0,
   "metadata": {
    "colab": {},
    "colab_type": "code",
    "id": "nEPzoxJVDJ99"
   },
   "outputs": [],
   "source": [
    "import os, sys\n",
    "sys.path.append('F:\\Google 드라이브\\Programming\\한국어 임베딩')"
   ]
  },
  {
   "cell_type": "code",
   "execution_count": 0,
   "metadata": {
    "colab": {},
    "colab_type": "code",
    "id": "2Zciqg0oDJ9_",
    "outputId": "90ba44a7-2311-408a-fbe5-304382e3492f",
    "scrolled": true
   },
   "outputs": [
    {
     "ename": "ModuleNotFoundError",
     "evalue": "No module named 'khaiii'",
     "output_type": "error",
     "traceback": [
      "\u001b[1;31m---------------------------------------------------------------------------\u001b[0m",
      "\u001b[1;31mModuleNotFoundError\u001b[0m                       Traceback (most recent call last)",
      "\u001b[1;32m<ipython-input-39-d16ae914f038>\u001b[0m in \u001b[0;36m<module>\u001b[1;34m\u001b[0m\n\u001b[1;32m----> 1\u001b[1;33m \u001b[1;32mfrom\u001b[0m \u001b[0mmodels\u001b[0m\u001b[1;33m.\u001b[0m\u001b[0mword_eval\u001b[0m \u001b[1;32mimport\u001b[0m \u001b[0mWordEmbeddingEvaluator\u001b[0m\u001b[1;33m\u001b[0m\u001b[1;33m\u001b[0m\u001b[0m\n\u001b[0m\u001b[0;32m      2\u001b[0m model = WordEmbeddingEvaluator('../data/word_embeddings/word2vec/word2vec',\\\n\u001b[0;32m      3\u001b[0m                               dim=100, tokenizer_name='mecab')\n",
      "\u001b[1;32mF:\\Google 드라이브\\Programming\\한국어 임베딩\\models\\word_eval.py\u001b[0m in \u001b[0;36m<module>\u001b[1;34m\u001b[0m\n\u001b[0;32m      7\u001b[0m \u001b[1;33m\u001b[0m\u001b[0m\n\u001b[0;32m      8\u001b[0m \u001b[1;32mfrom\u001b[0m \u001b[0msoynlp\u001b[0m\u001b[1;33m.\u001b[0m\u001b[0mhangle\u001b[0m \u001b[1;32mimport\u001b[0m \u001b[0mcompose\u001b[0m\u001b[1;33m,\u001b[0m \u001b[0mcharacter_is_korean\u001b[0m\u001b[1;33m\u001b[0m\u001b[1;33m\u001b[0m\u001b[0m\n\u001b[1;32m----> 9\u001b[1;33m \u001b[1;32mfrom\u001b[0m \u001b[0mpreprocess\u001b[0m \u001b[1;32mimport\u001b[0m \u001b[0mget_tokenizer\u001b[0m\u001b[1;33m,\u001b[0m \u001b[0mjamo_sentence\u001b[0m\u001b[1;33m\u001b[0m\u001b[1;33m\u001b[0m\u001b[0m\n\u001b[0m\u001b[0;32m     10\u001b[0m \u001b[1;33m\u001b[0m\u001b[0m\n\u001b[0;32m     11\u001b[0m \u001b[0msys\u001b[0m\u001b[1;33m.\u001b[0m\u001b[0mpath\u001b[0m\u001b[1;33m.\u001b[0m\u001b[0mappend\u001b[0m\u001b[1;33m(\u001b[0m\u001b[1;34m'models'\u001b[0m\u001b[1;33m)\u001b[0m\u001b[1;33m\u001b[0m\u001b[1;33m\u001b[0m\u001b[0m\n",
      "\u001b[1;32mF:\\Google 드라이브\\Programming\\한국어 임베딩\\preprocess\\__init__.py\u001b[0m in \u001b[0;36m<module>\u001b[1;34m\u001b[0m\n\u001b[1;32m----> 1\u001b[1;33m \u001b[1;32mfrom\u001b[0m \u001b[1;33m.\u001b[0m\u001b[0msupervised_nlputils\u001b[0m \u001b[1;32mimport\u001b[0m \u001b[0mget_tokenizer\u001b[0m\u001b[1;33m,\u001b[0m \u001b[0mpost_processing\u001b[0m\u001b[1;33m\u001b[0m\u001b[1;33m\u001b[0m\u001b[0m\n\u001b[0m\u001b[0;32m      2\u001b[0m \u001b[1;32mfrom\u001b[0m \u001b[1;33m.\u001b[0m\u001b[0munsupervised_nlputils\u001b[0m \u001b[1;32mimport\u001b[0m \u001b[0mjamo_sentence\u001b[0m\u001b[1;33m\u001b[0m\u001b[1;33m\u001b[0m\u001b[0m\n",
      "\u001b[1;32mF:\\Google 드라이브\\Programming\\한국어 임베딩\\preprocess\\supervised_nlputils.py\u001b[0m in \u001b[0;36m<module>\u001b[1;34m\u001b[0m\n\u001b[0;32m      1\u001b[0m \u001b[1;32mimport\u001b[0m \u001b[0msys\u001b[0m\u001b[1;33m,\u001b[0m \u001b[0mre\u001b[0m\u001b[1;33m,\u001b[0m \u001b[0margparse\u001b[0m\u001b[1;33m\u001b[0m\u001b[1;33m\u001b[0m\u001b[0m\n\u001b[1;32m----> 2\u001b[1;33m \u001b[1;32mfrom\u001b[0m \u001b[0mkhaiii\u001b[0m \u001b[1;32mimport\u001b[0m \u001b[0mKhaiiiApi\u001b[0m\u001b[1;33m\u001b[0m\u001b[1;33m\u001b[0m\u001b[0m\n\u001b[0m\u001b[0;32m      3\u001b[0m \u001b[1;32mfrom\u001b[0m \u001b[0mkonlpy\u001b[0m\u001b[1;33m.\u001b[0m\u001b[0mtag\u001b[0m \u001b[1;32mimport\u001b[0m \u001b[0mOkt\u001b[0m\u001b[1;33m,\u001b[0m \u001b[0mKomoran\u001b[0m\u001b[1;33m,\u001b[0m \u001b[0mMecab\u001b[0m\u001b[1;33m,\u001b[0m \u001b[0mHannanum\u001b[0m\u001b[1;33m,\u001b[0m \u001b[0mKkma\u001b[0m\u001b[1;33m\u001b[0m\u001b[1;33m\u001b[0m\u001b[0m\n\u001b[0;32m      4\u001b[0m \u001b[1;33m\u001b[0m\u001b[0m\n\u001b[0;32m      5\u001b[0m \u001b[1;33m\u001b[0m\u001b[0m\n",
      "\u001b[1;31mModuleNotFoundError\u001b[0m: No module named 'khaiii'"
     ]
    }
   ],
   "source": [
    "from models.word_eval import WordEmbeddingEvaluator\n",
    "model = WordEmbeddingEvaluator('../data/word_embeddings/word2vec/word2vec',\\\n",
    "                              dim=100, tokenizer_name='mecab')"
   ]
  },
  {
   "cell_type": "code",
   "execution_count": 0,
   "metadata": {
    "colab": {},
    "colab_type": "code",
    "id": "M1QDa0EWDJ-B",
    "outputId": "27ba8c37-b188-4901-9ff7-6a53ff55771c"
   },
   "outputs": [
    {
     "ename": "ValueError",
     "evalue": "attempted relative import beyond top-level package",
     "output_type": "error",
     "traceback": [
      "\u001b[1;31m---------------------------------------------------------------------------\u001b[0m",
      "\u001b[1;31mValueError\u001b[0m                                Traceback (most recent call last)",
      "\u001b[1;32m<ipython-input-19-4c113a03f1d7>\u001b[0m in \u001b[0;36m<module>\u001b[1;34m\u001b[0m\n\u001b[1;32m----> 1\u001b[1;33m \u001b[1;32mfrom\u001b[0m \u001b[1;33m.\u001b[0m\u001b[1;33m.\u001b[0m\u001b[0mmodels\u001b[0m\u001b[1;33m.\u001b[0m\u001b[0mword_eval\u001b[0m \u001b[1;32mimport\u001b[0m \u001b[0mWordEmbeddingEvaluator\u001b[0m\u001b[1;33m\u001b[0m\u001b[1;33m\u001b[0m\u001b[0m\n\u001b[0m\u001b[0;32m      2\u001b[0m model = WordEmbeddingEvaluator('../data/word_embeddings/word2vec/word2vec',\\\n\u001b[0;32m      3\u001b[0m                               dim=100, tokenizer_name='mecab')\n",
      "\u001b[1;31mValueError\u001b[0m: attempted relative import beyond top-level package"
     ]
    }
   ],
   "source": []
  },
  {
   "cell_type": "markdown",
   "metadata": {
    "colab_type": "text",
    "id": "_ojSnhkODJ-D"
   },
   "source": [
    "에라이 망...\n",
    "\n",
    "구현이나 해보자.\n",
    "먼저 텍스트 데이터 생성부터 하자."
   ]
  },
  {
   "cell_type": "code",
   "execution_count": 1,
   "metadata": {
    "colab": {
     "base_uri": "https://localhost:8080/",
     "height": 34
    },
    "colab_type": "code",
    "executionInfo": {
     "elapsed": 2040,
     "status": "ok",
     "timestamp": 1572059602448,
     "user": {
      "displayName": "Inhwan Lee",
      "photoUrl": "https://lh5.googleusercontent.com/-5lUmIvfg1FQ/AAAAAAAAAAI/AAAAAAAAB20/zcaOdBSgGnE/s64/photo.jpg",
      "userId": "00207258631190759901"
     },
     "user_tz": -540
    },
    "id": "DKuCH4YRDJ-E",
    "outputId": "d23f5b45-f18a-4ffe-c418-d5d546ea7962"
   },
   "outputs": [
    {
     "data": {
      "text/plain": [
       "device(type='cuda')"
      ]
     },
     "execution_count": 1,
     "metadata": {
      "tags": []
     },
     "output_type": "execute_result"
    }
   ],
   "source": [
    "%matplotlib inline\n",
    "\n",
    "import torch\n",
    "import torch.nn as nn\n",
    "import torch.nn.functional as F\n",
    "import torch.optim as optim\n",
    "import numpy as np\n",
    "import matplotlib.pyplot as plt\n",
    "import time\n",
    "\n",
    "dev = torch.device('cuda') if torch.cuda.is_available() else torch.device('cpu')\n",
    "dev"
   ]
  },
  {
   "cell_type": "code",
   "execution_count": 0,
   "metadata": {
    "colab": {},
    "colab_type": "code",
    "id": "ejMuRDOgDT0r"
   },
   "outputs": [],
   "source": [
    "from pydrive.auth import GoogleAuth\n",
    "from pydrive.drive import GoogleDrive\n",
    "from google.colab import auth\n",
    "from oauth2client.client import GoogleCredentials\n",
    "   \n",
    "# PyDrive Authentication\n",
    "auth.authenticate_user()\n",
    "gauth = GoogleAuth()\n",
    "gauth.credentials = GoogleCredentials.get_application_default()\n",
    "drive = GoogleDrive(gauth)"
   ]
  },
  {
   "cell_type": "code",
   "execution_count": 3,
   "metadata": {
    "colab": {
     "base_uri": "https://localhost:8080/",
     "height": 125
    },
    "colab_type": "code",
    "executionInfo": {
     "elapsed": 30111,
     "status": "ok",
     "timestamp": 1572059696396,
     "user": {
      "displayName": "Inhwan Lee",
      "photoUrl": "https://lh5.googleusercontent.com/-5lUmIvfg1FQ/AAAAAAAAAAI/AAAAAAAAB20/zcaOdBSgGnE/s64/photo.jpg",
      "userId": "00207258631190759901"
     },
     "user_tz": -540
    },
    "id": "GUq5bH-uDtHk",
    "outputId": "573afe00-8ef3-450d-e083-4e3e932ad233"
   },
   "outputs": [
    {
     "name": "stdout",
     "output_type": "stream",
     "text": [
      "Go to this URL in a browser: https://accounts.google.com/o/oauth2/auth?client_id=947318989803-6bn6qk8qdgf4n4g3pfee6491hc0brc4i.apps.googleusercontent.com&redirect_uri=urn%3Aietf%3Awg%3Aoauth%3A2.0%3Aoob&scope=email%20https%3A%2F%2Fwww.googleapis.com%2Fauth%2Fdocs.test%20https%3A%2F%2Fwww.googleapis.com%2Fauth%2Fdrive%20https%3A%2F%2Fwww.googleapis.com%2Fauth%2Fdrive.photos.readonly%20https%3A%2F%2Fwww.googleapis.com%2Fauth%2Fpeopleapi.readonly&response_type=code\n",
      "\n",
      "Enter your authorization code:\n",
      "··········\n",
      "Mounted at /gdrive\n"
     ]
    }
   ],
   "source": [
    "from google.colab import drive\n",
    "drive.mount('/gdrive', force_remount=True)"
   ]
  },
  {
   "cell_type": "code",
   "execution_count": 6,
   "metadata": {
    "colab": {
     "base_uri": "https://localhost:8080/",
     "height": 34
    },
    "colab_type": "code",
    "executionInfo": {
     "elapsed": 1427,
     "status": "ok",
     "timestamp": 1572059742293,
     "user": {
      "displayName": "Inhwan Lee",
      "photoUrl": "https://lh5.googleusercontent.com/-5lUmIvfg1FQ/AAAAAAAAAAI/AAAAAAAAB20/zcaOdBSgGnE/s64/photo.jpg",
      "userId": "00207258631190759901"
     },
     "user_tz": -540
    },
    "id": "_4YLBkdkD10G",
    "outputId": "621ec7ed-d357-41a6-f52a-307493fc7589"
   },
   "outputs": [
    {
     "name": "stdout",
     "output_type": "stream",
     "text": [
      "Chap3  Chap4  data  images  models  preprocess\tREADME.md\n"
     ]
    }
   ],
   "source": [
    "!ls \"/gdrive/My Drive/Programming/한국어 임베딩\""
   ]
  },
  {
   "cell_type": "code",
   "execution_count": 0,
   "metadata": {
    "colab": {},
    "colab_type": "code",
    "id": "eSxvTxUXDJ-G"
   },
   "outputs": [],
   "source": [
    "N = 3 # 윈도우 갯수\n",
    "VEC_DIM = 100 # 임베딩 차원"
   ]
  },
  {
   "cell_type": "code",
   "execution_count": 0,
   "metadata": {
    "colab": {},
    "colab_type": "code",
    "id": "lLJcjFyBDJ-I"
   },
   "outputs": [],
   "source": [
    "#txt_path = '../data/tokenized/korquad_mecab.txt'\n",
    "txt_path = '/gdrive/My Drive/Programming/한국어 임베딩/data/tokenized/korquad_mecab.txt'\n",
    "corpus = [sent.strip().split() for sent in open(txt_path, 'r', encoding='utf-8').readlines()]"
   ]
  },
  {
   "cell_type": "code",
   "execution_count": 0,
   "metadata": {
    "colab": {},
    "colab_type": "code",
    "id": "2rDVd1eSDJ-K"
   },
   "outputs": [],
   "source": [
    "#txt_path2 = '../data/tokenized/ratings_mecab.txt'\n",
    "txt_path2 = '/gdrive/My Drive/Programming/한국어 임베딩/data/tokenized/ratings_mecab.txt'\n",
    "corpus2 = [sent.strip().split() for sent in open(txt_path2, 'r', encoding='utf-8').readlines()]"
   ]
  },
  {
   "cell_type": "code",
   "execution_count": 15,
   "metadata": {
    "colab": {
     "base_uri": "https://localhost:8080/",
     "height": 34
    },
    "colab_type": "code",
    "executionInfo": {
     "elapsed": 436,
     "status": "ok",
     "timestamp": 1572059879768,
     "user": {
      "displayName": "Inhwan Lee",
      "photoUrl": "https://lh5.googleusercontent.com/-5lUmIvfg1FQ/AAAAAAAAAAI/AAAAAAAAB20/zcaOdBSgGnE/s64/photo.jpg",
      "userId": "00207258631190759901"
     },
     "user_tz": -540
    },
    "id": "AqGUhNb9EfVh",
    "outputId": "7b6bfc8c-e89e-4a4a-c280-c9bcde3faaa9"
   },
   "outputs": [
    {
     "data": {
      "text/plain": [
       "['대박', '이', '였', '지', '이건', '한마디', '로', '.', '.']"
      ]
     },
     "execution_count": 15,
     "metadata": {
      "tags": []
     },
     "output_type": "execute_result"
    }
   ],
   "source": [
    "corpus2[100]"
   ]
  },
  {
   "cell_type": "code",
   "execution_count": 0,
   "metadata": {
    "colab": {},
    "colab_type": "code",
    "id": "sRrVCkNeDJ-M"
   },
   "outputs": [],
   "source": [
    "corpus_data = corpus# + corpus2"
   ]
  },
  {
   "cell_type": "code",
   "execution_count": 0,
   "metadata": {
    "colab": {},
    "colab_type": "code",
    "id": "IVX7RsbXDJ-O"
   },
   "outputs": [],
   "source": [
    "corpus_data[0]"
   ]
  },
  {
   "cell_type": "code",
   "execution_count": 18,
   "metadata": {
    "colab": {
     "base_uri": "https://localhost:8080/",
     "height": 34
    },
    "colab_type": "code",
    "executionInfo": {
     "elapsed": 679,
     "status": "ok",
     "timestamp": 1572059951645,
     "user": {
      "displayName": "Inhwan Lee",
      "photoUrl": "https://lh5.googleusercontent.com/-5lUmIvfg1FQ/AAAAAAAAAAI/AAAAAAAAB20/zcaOdBSgGnE/s64/photo.jpg",
      "userId": "00207258631190759901"
     },
     "user_tz": -540
    },
    "id": "1pjqc3ZnDJ-Q",
    "outputId": "97180e6a-f44f-4505-910f-24ee37584802"
   },
   "outputs": [
    {
     "name": "stdout",
     "output_type": "stream",
     "text": [
      "단어 갯수 : 83593\n"
     ]
    }
   ],
   "source": [
    "vocab = set()\n",
    "for i in range(len(corpus_data)):\n",
    "    vocab.update(corpus_data[i])\n",
    "    \n",
    "print('단어 갯수 : ' + str(len(vocab)))\n",
    "\n",
    "word_to_id = dict()\n",
    "for word in vocab:\n",
    "    word_to_id[word]=len(word_to_id)    \n",
    "    \n",
    "id_to_word = []\n",
    "for word in word_to_id.keys():\n",
    "    id_to_word.append(word)"
   ]
  },
  {
   "cell_type": "code",
   "execution_count": 0,
   "metadata": {
    "colab": {},
    "colab_type": "code",
    "id": "xnMnhkX8DJ-S"
   },
   "outputs": [],
   "source": [
    "corpus[1]"
   ]
  },
  {
   "cell_type": "code",
   "execution_count": 0,
   "metadata": {
    "colab": {},
    "colab_type": "code",
    "id": "aLqgdfpiDJ-U"
   },
   "outputs": [],
   "source": [
    "def sent_to_ngram(n, sent):\n",
    "    ngrams = []\n",
    "    \n",
    "    for i in range(n, len(sent)-n):\n",
    "        ngram = []\n",
    "        for j in range(-n,n+1):\n",
    "            ngram.append(sent[i+j])\n",
    "        ngrams.append(ngram)\n",
    "            \n",
    "    return ngrams"
   ]
  },
  {
   "cell_type": "code",
   "execution_count": 20,
   "metadata": {
    "colab": {
     "base_uri": "https://localhost:8080/",
     "height": 193
    },
    "colab_type": "code",
    "executionInfo": {
     "elapsed": 437,
     "status": "ok",
     "timestamp": 1572059960211,
     "user": {
      "displayName": "Inhwan Lee",
      "photoUrl": "https://lh5.googleusercontent.com/-5lUmIvfg1FQ/AAAAAAAAAAI/AAAAAAAAB20/zcaOdBSgGnE/s64/photo.jpg",
      "userId": "00207258631190759901"
     },
     "user_tz": -540
    },
    "id": "jM2juGk0DJ-W",
    "outputId": "c02ff180-cc0e-405c-c66d-a6448a2fb81e"
   },
   "outputs": [
    {
     "data": {
      "text/plain": [
       "[['바그너', '는', '괴테', '의', '파우스트', '를', '읽'],\n",
       " ['는', '괴테', '의', '파우스트', '를', '읽', '고'],\n",
       " ['괴테', '의', '파우스트', '를', '읽', '고', '무엇'],\n",
       " ['의', '파우스트', '를', '읽', '고', '무엇', '을'],\n",
       " ['파우스트', '를', '읽', '고', '무엇', '을', '쓰'],\n",
       " ['를', '읽', '고', '무엇', '을', '쓰', '고자'],\n",
       " ['읽', '고', '무엇', '을', '쓰', '고자', '했'],\n",
       " ['고', '무엇', '을', '쓰', '고자', '했', '는가'],\n",
       " ['무엇', '을', '쓰', '고자', '했', '는가', '?'],\n",
       " ['을', '쓰', '고자', '했', '는가', '?', '교향곡']]"
      ]
     },
     "execution_count": 20,
     "metadata": {
      "tags": []
     },
     "output_type": "execute_result"
    }
   ],
   "source": [
    "sent_to_ngram(3,corpus[1])"
   ]
  },
  {
   "cell_type": "code",
   "execution_count": 0,
   "metadata": {
    "colab": {},
    "colab_type": "code",
    "id": "sEd0QQOxDJ-Y"
   },
   "outputs": [],
   "source": [
    "train_data = []\n",
    "for i in range(len(corpus_data)):\n",
    "    train_data += sent_to_ngram(N, corpus_data[i])"
   ]
  },
  {
   "cell_type": "code",
   "execution_count": 0,
   "metadata": {
    "colab": {},
    "colab_type": "code",
    "id": "2rhM85sPDJ-b"
   },
   "outputs": [],
   "source": [
    "def sent_to_vec(sent):\n",
    "    vec = []\n",
    "    for word in sent:\n",
    "        vec.append(word_to_id[word])\n",
    "    return vec"
   ]
  },
  {
   "cell_type": "code",
   "execution_count": 23,
   "metadata": {
    "colab": {
     "base_uri": "https://localhost:8080/",
     "height": 34
    },
    "colab_type": "code",
    "executionInfo": {
     "elapsed": 7611,
     "status": "ok",
     "timestamp": 1572059971826,
     "user": {
      "displayName": "Inhwan Lee",
      "photoUrl": "https://lh5.googleusercontent.com/-5lUmIvfg1FQ/AAAAAAAAAAI/AAAAAAAAB20/zcaOdBSgGnE/s64/photo.jpg",
      "userId": "00207258631190759901"
     },
     "user_tz": -540
    },
    "id": "jNUHZgIlDJ-d",
    "outputId": "d6c34ead-cfae-4998-d5ae-1b79a1ee96c6"
   },
   "outputs": [
    {
     "data": {
      "text/plain": [
       "['바그너', '는', '괴테', '의', '파우스트', '를', '읽']"
      ]
     },
     "execution_count": 23,
     "metadata": {
      "tags": []
     },
     "output_type": "execute_result"
    }
   ],
   "source": [
    "sent_to_ngram(3,corpus_data[1])[0]"
   ]
  },
  {
   "cell_type": "code",
   "execution_count": 0,
   "metadata": {
    "colab": {},
    "colab_type": "code",
    "id": "OgjihJXLDJ-f",
    "outputId": "973c215f-1548-4f67-e942-f1990f85da83"
   },
   "outputs": [
    {
     "data": {
      "text/plain": [
       "([26494, 31901, 26200, 81583, 14801, 45264, 59443],\n",
       " [31901, 26200, 81583, 14801, 45264, 59443, 70316])"
      ]
     },
     "execution_count": 92,
     "metadata": {
      "tags": []
     },
     "output_type": "execute_result"
    }
   ],
   "source": [
    "sent_to_vec(train_data[0]),sent_to_vec(train_data[1])"
   ]
  },
  {
   "cell_type": "code",
   "execution_count": 0,
   "metadata": {
    "colab": {},
    "colab_type": "code",
    "id": "DUS_bd6wDJ-i"
   },
   "outputs": [],
   "source": [
    "train_input = []\n",
    "train_target = []\n",
    "for data in train_data:\n",
    "    train_input.append(sent_to_vec(data[:N])+sent_to_vec(data[N+1:]))\n",
    "    train_target.append(word_to_id[data[N]])"
   ]
  },
  {
   "cell_type": "code",
   "execution_count": 0,
   "metadata": {
    "colab": {},
    "colab_type": "code",
    "id": "D_yOXZ4aDJ-l"
   },
   "outputs": [],
   "source": [
    "train = torch.utils.data.TensorDataset(torch.tensor(train_input), torch.tensor(train_target))"
   ]
  },
  {
   "cell_type": "markdown",
   "metadata": {
    "colab_type": "text",
    "id": "bHX__YfEDJ-o"
   },
   "source": [
    "CBOW 모델 생성"
   ]
  },
  {
   "cell_type": "code",
   "execution_count": 0,
   "metadata": {
    "colab": {},
    "colab_type": "code",
    "id": "FpctVDoHDJ-o"
   },
   "outputs": [],
   "source": [
    "class CBOW(nn.Module):\n",
    "    def __init__(self, vec_dim):\n",
    "        super(CBOW,self).__init__()\n",
    "        self.emb = nn.Embedding(len(vocab), vec_dim)\n",
    "        self.lin = nn.Linear(vec_dim, len(vocab), bias=False)\n",
    "        \n",
    "    def forward(self, x):\n",
    "        x = torch.mean(self.emb(x), dim=1)\n",
    "        x = self.lin(x).view(-1,len(vocab))\n",
    "        return x"
   ]
  },
  {
   "cell_type": "code",
   "execution_count": 0,
   "metadata": {
    "colab": {},
    "colab_type": "code",
    "id": "WzsE4W1nDJ-q"
   },
   "outputs": [],
   "source": [
    "model = CBOW(VEC_DIM)"
   ]
  },
  {
   "cell_type": "code",
   "execution_count": 0,
   "metadata": {
    "colab": {},
    "colab_type": "code",
    "id": "MbLserK6DJ-s"
   },
   "outputs": [],
   "source": [
    "loss_f = nn.CrossEntropyLoss()"
   ]
  },
  {
   "cell_type": "code",
   "execution_count": 0,
   "metadata": {
    "colab": {},
    "colab_type": "code",
    "id": "3JikFOW2DJ-t",
    "outputId": "0db0bd41-a22e-4742-cbc7-df288c5251fb"
   },
   "outputs": [
    {
     "data": {
      "text/plain": [
       "CBOW(\n",
       "  (emb): Embedding(83593, 100)\n",
       "  (lin): Linear(in_features=100, out_features=83593, bias=False)\n",
       ")"
      ]
     },
     "execution_count": 97,
     "metadata": {
      "tags": []
     },
     "output_type": "execute_result"
    }
   ],
   "source": [
    "model.to(dev)"
   ]
  },
  {
   "cell_type": "code",
   "execution_count": 0,
   "metadata": {
    "colab": {},
    "colab_type": "code",
    "id": "C5GHJj61DJ-v"
   },
   "outputs": [],
   "source": [
    "BATCH_SIZE = 128\n",
    "optimizer = optim.Adam(model.parameters(), lr=0.01)"
   ]
  },
  {
   "cell_type": "code",
   "execution_count": 0,
   "metadata": {
    "colab": {},
    "colab_type": "code",
    "id": "WOYY6kgBDJ-x"
   },
   "outputs": [],
   "source": [
    "input_loader = torch.utils.data.DataLoader(train, batch_size=BATCH_SIZE)"
   ]
  },
  {
   "cell_type": "code",
   "execution_count": 0,
   "metadata": {
    "colab": {},
    "colab_type": "code",
    "id": "NwoyI7PcDJ-z"
   },
   "outputs": [],
   "source": [
    "check = 1000\n",
    "epoch = 1"
   ]
  },
  {
   "cell_type": "code",
   "execution_count": 0,
   "metadata": {
    "colab": {},
    "colab_type": "code",
    "id": "g-RG6LJADJ-0",
    "outputId": "eabae16d-a063-479a-8c35-ddecc185db0c"
   },
   "outputs": [
    {
     "name": "stdout",
     "output_type": "stream",
     "text": [
      "Epoch : 0, Iteration : 0, Loss : 0.01, Elapsed time : 0h 0m 0s\n",
      "Epoch : 0, Iteration : 1000, Loss : 6.90, Elapsed time : 0h 0m 18s\n",
      "Epoch : 0, Iteration : 2000, Loss : 6.76, Elapsed time : 0h 0m 37s\n",
      "Epoch : 0, Iteration : 3000, Loss : 6.66, Elapsed time : 0h 0m 56s\n",
      "Epoch : 0, Iteration : 4000, Loss : 6.46, Elapsed time : 0h 1m 15s\n",
      "Epoch : 0, Iteration : 5000, Loss : 6.39, Elapsed time : 0h 1m 34s\n",
      "Epoch : 0, Iteration : 6000, Loss : 6.29, Elapsed time : 0h 1m 53s\n",
      "Epoch : 0, Iteration : 7000, Loss : 6.30, Elapsed time : 0h 2m 12s\n",
      "Epoch : 0, Iteration : 8000, Loss : 6.31, Elapsed time : 0h 2m 31s\n",
      "Epoch : 0, Iteration : 9000, Loss : 6.32, Elapsed time : 0h 2m 50s\n",
      "Epoch : 0, Iteration : 10000, Loss : 6.05, Elapsed time : 0h 3m 8s\n",
      "Epoch : 0, Iteration : 11000, Loss : 5.86, Elapsed time : 0h 3m 27s\n",
      "Epoch : 0, Iteration : 12000, Loss : 6.04, Elapsed time : 0h 3m 46s\n",
      "Epoch : 0, Iteration : 13000, Loss : 6.02, Elapsed time : 0h 4m 4s\n",
      "Epoch : 0, Iteration : 14000, Loss : 5.98, Elapsed time : 0h 4m 23s\n",
      "Epoch : 0, Iteration : 15000, Loss : 5.93, Elapsed time : 0h 4m 41s\n",
      "Epoch : 0, Iteration : 16000, Loss : 5.97, Elapsed time : 0h 5m 0s\n",
      "Epoch : 0, Iteration : 17000, Loss : 5.90, Elapsed time : 0h 5m 19s\n",
      "Epoch : 0, Iteration : 18000, Loss : 5.87, Elapsed time : 0h 5m 37s\n",
      "Epoch : 0, Iteration : 19000, Loss : 5.82, Elapsed time : 0h 5m 56s\n",
      "Epoch : 0, Iteration : 20000, Loss : 5.85, Elapsed time : 0h 6m 15s\n",
      "Epoch : 0, Iteration : 21000, Loss : 5.74, Elapsed time : 0h 6m 34s\n",
      "Epoch : 0, Iteration : 22000, Loss : 5.96, Elapsed time : 0h 6m 52s\n",
      "Epoch : 0, Iteration : 23000, Loss : 5.90, Elapsed time : 0h 7m 11s\n",
      "Epoch : 0, Iteration : 24000, Loss : 5.82, Elapsed time : 0h 7m 30s\n",
      "Epoch : 0, Iteration : 25000, Loss : 5.81, Elapsed time : 0h 7m 49s\n",
      "Epoch : 0, Iteration : 26000, Loss : 5.74, Elapsed time : 0h 8m 7s\n",
      "Epoch : 0, Iteration : 27000, Loss : 5.71, Elapsed time : 0h 8m 26s\n",
      "Epoch : 0, Iteration : 28000, Loss : 5.78, Elapsed time : 0h 8m 45s\n"
     ]
    }
   ],
   "source": [
    "# GPU time\n",
    "start = time.time()\n",
    "\n",
    "loss_list = []\n",
    "\n",
    "for epo in range(epoch):\n",
    "    loss_sum = 0\n",
    "    for i, (x, y) in enumerate(input_loader):\n",
    "\n",
    "        x,y = x.to(dev), y.to(dev)\n",
    "        optimizer.zero_grad()\n",
    "        \n",
    "        output = model(x)\n",
    "        \n",
    "        loss = loss_f(output, y)\n",
    "        loss.backward()\n",
    "        optimizer.step()\n",
    "        \n",
    "        loss_sum += loss.item()\n",
    "        \n",
    "        \n",
    "        if i % check == 0:        \n",
    "            elap = int(time.time() - start)\n",
    "            loss_list.append(loss_sum/check)\n",
    "            print('Epoch : {}, Iteration : {}, Loss : {:.2f}, Elapsed time : {:.0f}h {:.0f}m {}s'.format(\\\n",
    "                epo, i, loss_sum / check, elap // 3600, (elap % 3600) // 60, str(int((elap % 3600) % 60))))\n",
    "            loss_sum = 0"
   ]
  },
  {
   "cell_type": "code",
   "execution_count": 0,
   "metadata": {
    "colab": {},
    "colab_type": "code",
    "id": "2v9oUOGCDJ-2",
    "outputId": "66ffae35-732d-44bf-9f66-59334ff5283d"
   },
   "outputs": [
    {
     "data": {
      "text/plain": [
       "[<matplotlib.lines.Line2D at 0x1f0e4b3a0c8>]"
      ]
     },
     "execution_count": 102,
     "metadata": {
      "tags": []
     },
     "output_type": "execute_result"
    },
    {
     "data": {
      "image/png": "[encoded data removed]",
      "text/plain": [
       "<Figure size 432x288 with 1 Axes>"
      ]
     },
     "metadata": {
      "needs_background": "light",
      "tags": []
     },
     "output_type": "display_data"
    }
   ],
   "source": [
    "plt.plot(loss_list)"
   ]
  },
  {
   "cell_type": "code",
   "execution_count": 0,
   "metadata": {
    "colab": {},
    "colab_type": "code",
    "id": "0cLeWO3XDJ-4"
   },
   "outputs": [],
   "source": [
    "save_path = 'CBOW_N3_1epoch.pt'#.format(epoch)\n",
    "torch.save(model.state_dict(), save_path)"
   ]
  },
  {
   "cell_type": "code",
   "execution_count": 0,
   "metadata": {
    "colab": {},
    "colab_type": "code",
    "id": "ltpD-3q6DJ-6",
    "outputId": "9e250019-e6af-4a36-8151-812266955556"
   },
   "outputs": [
    {
     "data": {
      "text/plain": [
       "CBOW(\n",
       "  (emb): Embedding(114937, 100)\n",
       "  (lin): Linear(in_features=100, out_features=114937, bias=False)\n",
       ")"
      ]
     },
     "execution_count": 21,
     "metadata": {
      "tags": []
     },
     "output_type": "execute_result"
    }
   ],
   "source": [
    "path = 'CBOW_5epoch.pt'\n",
    "model = CBOW(VEC_DIM)\n",
    "model.load_state_dict(torch.load(path))\n",
    "model.eval()"
   ]
  },
  {
   "cell_type": "code",
   "execution_count": 0,
   "metadata": {
    "colab": {},
    "colab_type": "code",
    "id": "J6JKSOzDDJ-7"
   },
   "outputs": [],
   "source": [
    "def similar_words(model, word, k=10):\n",
    "    cos = nn.CosineSimilarity(dim=1, eps=1e-6)\n",
    "    \n",
    "    word_id = torch.tensor([word_to_id[word]])\n",
    "    word_vec = model.emb(word_id)\n",
    "    word_mat = next(iter(model.emb.parameters())).detach()\n",
    "    \n",
    "    cos_mat = cos(word_vec, word_mat)\n",
    "    sim, indices = torch.topk(cos_mat,k+1)\n",
    "    \n",
    "    \n",
    "    word_list = []\n",
    "    for i in indices:\n",
    "        if i != word_id:\n",
    "            word_list.append(id_to_word[i])\n",
    "    return word_list, sim[1:].detach()"
   ]
  },
  {
   "cell_type": "code",
   "execution_count": 0,
   "metadata": {
    "colab": {},
    "colab_type": "code",
    "id": "9SbtV70YDJ--",
    "outputId": "274b6c61-7801-4654-9b98-8115a008c477"
   },
   "outputs": [
    {
     "data": {
      "text/plain": [
       "(['곳', '시장', '민족', '구간', '빌리치', '영역', '지방', '나라', '간담', '붕당'],\n",
       " tensor([0.6377, 0.5033, 0.4792, 0.4789, 0.4776, 0.4514, 0.4473, 0.4390, 0.4388,\n",
       "         0.4383]))"
      ]
     },
     "execution_count": 180,
     "metadata": {
      "tags": []
     },
     "output_type": "execute_result"
    }
   ],
   "source": [
    "similar_words(model.to('cpu'), '지역')"
   ]
  },
  {
   "cell_type": "code",
   "execution_count": 0,
   "metadata": {
    "colab": {},
    "colab_type": "code",
    "id": "llKe0CvlDJ_B",
    "outputId": "7ddf9127-6f3f-46bf-8e22-afa07a1fac4d"
   },
   "outputs": [
    {
     "data": {
      "text/plain": [
       "(['아버지', '아내', '그녀', '크기', '진정서', '인제', '피해자', '엄마', '정부', '세조'],\n",
       " tensor([0.5977, 0.5660, 0.5630, 0.5254, 0.5107, 0.4938, 0.4917, 0.4824, 0.4766,\n",
       "         0.4732]))"
      ]
     },
     "execution_count": 181,
     "metadata": {
      "tags": []
     },
     "output_type": "execute_result"
    }
   ],
   "source": [
    "similar_words(model.to('cpu'), '어머니')"
   ]
  },
  {
   "cell_type": "code",
   "execution_count": 0,
   "metadata": {
    "colab": {},
    "colab_type": "code",
    "id": "QfwgR-v5DJ_D",
    "outputId": "a9f29517-b813-4e9b-ffa6-07c70caf3c6d"
   },
   "outputs": [
    {
     "data": {
      "text/plain": [
       "(['일본', '한국', '미국', '우라야스', '자국', '중국', '에스토니아', '왜관', 'Στίλβων', '대부분'],\n",
       " tensor([0.5484, 0.4867, 0.4831, 0.4346, 0.4197, 0.4153, 0.4115, 0.4053, 0.4029,\n",
       "         0.4027]))"
      ]
     },
     "execution_count": 182,
     "metadata": {
      "tags": []
     },
     "output_type": "execute_result"
    }
   ],
   "source": [
    "similar_words(model.to('cpu'), '대한민국')"
   ]
  },
  {
   "cell_type": "code",
   "execution_count": 0,
   "metadata": {
    "colab": {},
    "colab_type": "code",
    "id": "qeQVflCcDJ_F",
    "outputId": "ffea182a-3a53-484e-9183-6fb4c18da48e"
   },
   "outputs": [
    {
     "data": {
      "text/plain": [
       "(['정보', '캐릭터', '성능', '예물', '상식', '가치', '인터페이스', '변화', '으신다', '병리'],\n",
       " tensor([0.4606, 0.4514, 0.4488, 0.4450, 0.4408, 0.4169, 0.4166, 0.4081, 0.4036,\n",
       "         0.4032]))"
      ]
     },
     "execution_count": 183,
     "metadata": {
      "tags": []
     },
     "output_type": "execute_result"
    }
   ],
   "source": [
    "similar_words(model.to('cpu'), '컴퓨터')"
   ]
  },
  {
   "cell_type": "code",
   "execution_count": 0,
   "metadata": {
    "colab": {},
    "colab_type": "code",
    "id": "xG62X_DXDJ_H"
   },
   "outputs": [],
   "source": [
    "similar_words(model.to('cpu'), '')"
   ]
  },
  {
   "cell_type": "code",
   "execution_count": 0,
   "metadata": {
    "colab": {},
    "colab_type": "code",
    "id": "O96y7S0mDJ_J"
   },
   "outputs": [],
   "source": [
    "def analogy(model, word1, word2, word3,k=10):\n",
    "    cos = nn.CosineSimilarity(dim=1, eps=1e-6)\n",
    "    \n",
    "    word_id1 = torch.tensor([word_to_id[word1]])\n",
    "    word_id2 = torch.tensor([word_to_id[word2]])\n",
    "    word_id3 = torch.tensor([word_to_id[word3]])\n",
    "    word_vec1 = model.emb(word_id1)\n",
    "    word_vec2 = model.emb(word_id2)\n",
    "    word_vec3 = model.emb(word_id3)\n",
    "    word_mat = next(iter(model.emb.parameters())).detach()\n",
    "    \n",
    "    cos_mat = cos(word_vec1-word_vec2+word_vec3, word_mat)\n",
    "    sim, indices = torch.topk(cos_mat,k)\n",
    "    \n",
    "    \n",
    "    word_list = []\n",
    "    for i in indices:\n",
    "        word_list.append(id_to_word[i])\n",
    "    return word_list, sim[1:].detach()"
   ]
  },
  {
   "cell_type": "code",
   "execution_count": 0,
   "metadata": {
    "colab": {},
    "colab_type": "code",
    "id": "5xJd1fNvDJ_M",
    "outputId": "f1e6c5e9-790c-49d8-a5ad-3ffa9394812b",
    "scrolled": true
   },
   "outputs": [
    {
     "data": {
      "text/plain": [
       "(['파리', '한국', '참전', '산량', '입대', '사염', '걸쳐서', '프랑스와', '달했으며', '발매되'],\n",
       " tensor([0.5320, 0.5006, 0.3921, 0.3908, 0.3891, 0.3889, 0.3769, 0.3733, 0.3731]))"
      ]
     },
     "execution_count": 112,
     "metadata": {
      "tags": []
     },
     "output_type": "execute_result"
    }
   ],
   "source": [
    "analogy(model,'한국','서울','파리')"
   ]
  },
  {
   "cell_type": "code",
   "execution_count": 0,
   "metadata": {
    "colab": {},
    "colab_type": "code",
    "id": "NTuA-jqsDJ_N",
    "outputId": "f732ccae-5ff9-44db-81d9-70a468456a96"
   },
   "outputs": [
    {
     "data": {
      "text/plain": [
       "(['왕', '동반성', '합당', '신탁', '핀란드어', '왕위', '여자', '와이드', '크시슈토프', '콜먼'],\n",
       " tensor([0.4096, 0.4065, 0.4057, 0.3908, 0.3795, 0.3704, 0.3678, 0.3669, 0.3643]))"
      ]
     },
     "execution_count": 113,
     "metadata": {
      "tags": []
     },
     "output_type": "execute_result"
    }
   ],
   "source": [
    "analogy(model,'왕','남자','여자')"
   ]
  },
  {
   "cell_type": "markdown",
   "metadata": {
    "colab_type": "text",
    "id": "TFIsRWXHDJ_P"
   },
   "source": [
    "N=5 일때보다 N=3 으로 하니까 뭔가 잘되는 느낌...\n",
    "이제 skip-gram으로 해보자."
   ]
  },
  {
   "cell_type": "markdown",
   "metadata": {
    "colab_type": "text",
    "id": "6WTHFCjaDJ_P"
   },
   "source": [
    "### 이번엔 Skip-gram 모델...\n",
    "\n",
    "먼저 훈련데이터 형식을 [중심단어, 문맥단어] 으로 바꾸자."
   ]
  },
  {
   "cell_type": "code",
   "execution_count": 24,
   "metadata": {
    "colab": {
     "base_uri": "https://localhost:8080/",
     "height": 52
    },
    "colab_type": "code",
    "executionInfo": {
     "elapsed": 14983,
     "status": "ok",
     "timestamp": 1572059987212,
     "user": {
      "displayName": "Inhwan Lee",
      "photoUrl": "https://lh5.googleusercontent.com/-5lUmIvfg1FQ/AAAAAAAAAAI/AAAAAAAAB20/zcaOdBSgGnE/s64/photo.jpg",
      "userId": "00207258631190759901"
     },
     "user_tz": -540
    },
    "id": "9Lzdr-lmDJ_Q",
    "outputId": "e438428e-3a27-4b87-cd55-c557b518edc5"
   },
   "outputs": [
    {
     "name": "stdout",
     "output_type": "stream",
     "text": [
      "CPU times: user 14.2 s, sys: 259 ms, total: 14.4 s\n",
      "Wall time: 14.5 s\n"
     ]
    }
   ],
   "source": [
    "%%time\n",
    "train_input = []\n",
    "train_target = []\n",
    "for data in train_data:\n",
    "    target = sent_to_vec(data[:N])+sent_to_vec(data[N+1:])\n",
    "    for i in range(len(target)):\n",
    "        train_input.append(word_to_id[data[N]])\n",
    "        train_target.append(target[i])\n"
   ]
  },
  {
   "cell_type": "code",
   "execution_count": 26,
   "metadata": {
    "colab": {
     "base_uri": "https://localhost:8080/",
     "height": 34
    },
    "colab_type": "code",
    "executionInfo": {
     "elapsed": 443,
     "status": "ok",
     "timestamp": 1572060004442,
     "user": {
      "displayName": "Inhwan Lee",
      "photoUrl": "https://lh5.googleusercontent.com/-5lUmIvfg1FQ/AAAAAAAAAAI/AAAAAAAAB20/zcaOdBSgGnE/s64/photo.jpg",
      "userId": "00207258631190759901"
     },
     "user_tz": -540
    },
    "id": "PbZBtdJbDJ_S",
    "outputId": "4b085476-8422-42c6-d21c-c9cffcb12a42"
   },
   "outputs": [
    {
     "data": {
      "text/plain": [
       "(['1', '8', '3', '9', '년', '바그너', '는'], ['8', '3', '9', '년', '바그너', '는', '괴테'])"
      ]
     },
     "execution_count": 26,
     "metadata": {
      "tags": []
     },
     "output_type": "execute_result"
    }
   ],
   "source": [
    "train_data[0], train_data[1]"
   ]
  },
  {
   "cell_type": "code",
   "execution_count": 27,
   "metadata": {
    "colab": {
     "base_uri": "https://localhost:8080/",
     "height": 34
    },
    "colab_type": "code",
    "executionInfo": {
     "elapsed": 437,
     "status": "ok",
     "timestamp": 1572060005954,
     "user": {
      "displayName": "Inhwan Lee",
      "photoUrl": "https://lh5.googleusercontent.com/-5lUmIvfg1FQ/AAAAAAAAAAI/AAAAAAAAB20/zcaOdBSgGnE/s64/photo.jpg",
      "userId": "00207258631190759901"
     },
     "user_tz": -540
    },
    "id": "JXMcQSM5DJ_V",
    "outputId": "da0826c8-fd13-4f09-857a-a24707ba9f39"
   },
   "outputs": [
    {
     "data": {
      "text/plain": [
       "[29472, 15343, 34852, 42498, 51549, 73060, 47173]"
      ]
     },
     "execution_count": 27,
     "metadata": {
      "tags": []
     },
     "output_type": "execute_result"
    }
   ],
   "source": [
    "sent_to_vec(train_data[0])"
   ]
  },
  {
   "cell_type": "code",
   "execution_count": 28,
   "metadata": {
    "colab": {
     "base_uri": "https://localhost:8080/",
     "height": 34
    },
    "colab_type": "code",
    "executionInfo": {
     "elapsed": 440,
     "status": "ok",
     "timestamp": 1572060008320,
     "user": {
      "displayName": "Inhwan Lee",
      "photoUrl": "https://lh5.googleusercontent.com/-5lUmIvfg1FQ/AAAAAAAAAAI/AAAAAAAAB20/zcaOdBSgGnE/s64/photo.jpg",
      "userId": "00207258631190759901"
     },
     "user_tz": -540
    },
    "id": "uXFmgQWTDJ_Y",
    "outputId": "8fa6e481-0044-4fdf-9ee3-6d3fd32f72cb"
   },
   "outputs": [
    {
     "data": {
      "text/plain": [
       "(42498, 29472)"
      ]
     },
     "execution_count": 28,
     "metadata": {
      "tags": []
     },
     "output_type": "execute_result"
    }
   ],
   "source": [
    "train_input[0], train_target[0]"
   ]
  },
  {
   "cell_type": "code",
   "execution_count": 29,
   "metadata": {
    "colab": {
     "base_uri": "https://localhost:8080/",
     "height": 34
    },
    "colab_type": "code",
    "executionInfo": {
     "elapsed": 528,
     "status": "ok",
     "timestamp": 1572060009011,
     "user": {
      "displayName": "Inhwan Lee",
      "photoUrl": "https://lh5.googleusercontent.com/-5lUmIvfg1FQ/AAAAAAAAAAI/AAAAAAAAB20/zcaOdBSgGnE/s64/photo.jpg",
      "userId": "00207258631190759901"
     },
     "user_tz": -540
    },
    "id": "tRwdKtrNDJ_b",
    "outputId": "69ade421-ad50-4bf1-c778-f49145f1d4ea"
   },
   "outputs": [
    {
     "data": {
      "text/plain": [
       "(21793818, 21793818)"
      ]
     },
     "execution_count": 29,
     "metadata": {
      "tags": []
     },
     "output_type": "execute_result"
    }
   ],
   "source": [
    "len(train_input), len(train_target)"
   ]
  },
  {
   "cell_type": "code",
   "execution_count": 0,
   "metadata": {
    "colab": {},
    "colab_type": "code",
    "id": "5v2uf65sDJ_j"
   },
   "outputs": [],
   "source": [
    "train = torch.utils.data.TensorDataset(torch.tensor(train_input), torch.tensor(train_target))"
   ]
  },
  {
   "cell_type": "code",
   "execution_count": 0,
   "metadata": {
    "colab": {},
    "colab_type": "code",
    "id": "R5ciL2f-DJ_m"
   },
   "outputs": [],
   "source": [
    "emb = nn.Embedding(len(vocab), VEC_DIM)\n",
    "lin = nn.Linear(VEC_DIM, len(vocab), bias=False)"
   ]
  },
  {
   "cell_type": "code",
   "execution_count": 0,
   "metadata": {
    "colab": {},
    "colab_type": "code",
    "id": "MCyiJGv2DJ_n"
   },
   "outputs": [],
   "source": [
    "BATCH_SIZE=128\n",
    "input_loader = torch.utils.data.DataLoader(train, batch_size=BATCH_SIZE, shuffle=True)"
   ]
  },
  {
   "cell_type": "code",
   "execution_count": 0,
   "metadata": {
    "colab": {},
    "colab_type": "code",
    "id": "OxJiEvU4DJ_p"
   },
   "outputs": [],
   "source": [
    "class Skipgram(nn.Module):\n",
    "    def __init__(self, vec_dim):\n",
    "        super(Skipgram,self).__init__()\n",
    "        self.emb = nn.Embedding(len(vocab), vec_dim)\n",
    "        self.lin = nn.Linear(vec_dim, len(vocab), bias=False)\n",
    "        \n",
    "    def forward(self, x):\n",
    "        x = self.emb(x)\n",
    "        x = self.lin(x)#.view(-1,len(vocab))\n",
    "        return x"
   ]
  },
  {
   "cell_type": "code",
   "execution_count": 0,
   "metadata": {
    "colab": {},
    "colab_type": "code",
    "id": "k0t7PA3vDJ_r"
   },
   "outputs": [],
   "source": [
    "model_sg = Skipgram(VEC_DIM).to(dev)"
   ]
  },
  {
   "cell_type": "code",
   "execution_count": 0,
   "metadata": {
    "colab": {},
    "colab_type": "code",
    "id": "OXGjXeyVDJ_s"
   },
   "outputs": [],
   "source": [
    "loss_f = nn.CrossEntropyLoss()\n",
    "optimizer = optim.Adagrad(model_sg.parameters(), lr=0.01)"
   ]
  },
  {
   "cell_type": "code",
   "execution_count": 0,
   "metadata": {
    "colab": {},
    "colab_type": "code",
    "id": "T4fh_gxFDJ_u"
   },
   "outputs": [],
   "source": [
    "check = 5000\n",
    "epoch = 3"
   ]
  },
  {
   "cell_type": "code",
   "execution_count": 37,
   "metadata": {
    "colab": {
     "base_uri": "https://localhost:8080/",
     "height": 87
    },
    "colab_type": "code",
    "executionInfo": {
     "elapsed": 419,
     "status": "ok",
     "timestamp": 1572060081373,
     "user": {
      "displayName": "Inhwan Lee",
      "photoUrl": "https://lh5.googleusercontent.com/-5lUmIvfg1FQ/AAAAAAAAAAI/AAAAAAAAB20/zcaOdBSgGnE/s64/photo.jpg",
      "userId": "00207258631190759901"
     },
     "user_tz": -540
    },
    "id": "36Im6l3ADJ_w",
    "outputId": "54092478-8b3a-4f6d-fe0b-a6f147a8445e"
   },
   "outputs": [
    {
     "data": {
      "text/plain": [
       "Skipgram(\n",
       "  (emb): Embedding(83593, 100)\n",
       "  (lin): Linear(in_features=100, out_features=83593, bias=False)\n",
       ")"
      ]
     },
     "execution_count": 37,
     "metadata": {
      "tags": []
     },
     "output_type": "execute_result"
    }
   ],
   "source": [
    "model_sg.to(dev)"
   ]
  },
  {
   "cell_type": "code",
   "execution_count": 39,
   "metadata": {
    "colab": {
     "base_uri": "https://localhost:8080/",
     "height": 1000
    },
    "colab_type": "code",
    "executionInfo": {
     "elapsed": 9506558,
     "status": "ok",
     "timestamp": 1572069611868,
     "user": {
      "displayName": "Inhwan Lee",
      "photoUrl": "https://lh5.googleusercontent.com/-5lUmIvfg1FQ/AAAAAAAAAAI/AAAAAAAAB20/zcaOdBSgGnE/s64/photo.jpg",
      "userId": "00207258631190759901"
     },
     "user_tz": -540
    },
    "id": "znmUiptyDJ_x",
    "outputId": "fad57c39-4de9-4813-f64f-1b3a860e3f40"
   },
   "outputs": [
    {
     "name": "stdout",
     "output_type": "stream",
     "text": [
      "Epoch : 0, Iteration : 0, Loss : 0.00, Elapsed time : 0h 0m 2s\n",
      "Epoch : 0, Iteration : 5000, Loss : 8.50, Elapsed time : 0h 1m 35s\n",
      "Epoch : 0, Iteration : 10000, Loss : 7.86, Elapsed time : 0h 3m 7s\n",
      "Epoch : 0, Iteration : 15000, Loss : 7.64, Elapsed time : 0h 4m 40s\n",
      "Epoch : 0, Iteration : 20000, Loss : 7.52, Elapsed time : 0h 6m 13s\n",
      "Epoch : 0, Iteration : 25000, Loss : 7.45, Elapsed time : 0h 7m 47s\n",
      "Epoch : 0, Iteration : 30000, Loss : 7.38, Elapsed time : 0h 9m 20s\n",
      "Epoch : 0, Iteration : 35000, Loss : 7.33, Elapsed time : 0h 10m 53s\n",
      "Epoch : 0, Iteration : 40000, Loss : 7.29, Elapsed time : 0h 12m 26s\n",
      "Epoch : 0, Iteration : 45000, Loss : 7.26, Elapsed time : 0h 13m 59s\n",
      "Epoch : 0, Iteration : 50000, Loss : 7.22, Elapsed time : 0h 15m 32s\n",
      "Epoch : 0, Iteration : 55000, Loss : 7.21, Elapsed time : 0h 17m 5s\n",
      "Epoch : 0, Iteration : 60000, Loss : 7.19, Elapsed time : 0h 18m 39s\n",
      "Epoch : 0, Iteration : 65000, Loss : 7.17, Elapsed time : 0h 20m 12s\n",
      "Epoch : 0, Iteration : 70000, Loss : 7.15, Elapsed time : 0h 21m 45s\n",
      "Epoch : 0, Iteration : 75000, Loss : 7.14, Elapsed time : 0h 23m 18s\n",
      "Epoch : 0, Iteration : 80000, Loss : 7.12, Elapsed time : 0h 24m 51s\n",
      "Epoch : 0, Iteration : 85000, Loss : 7.11, Elapsed time : 0h 26m 24s\n",
      "Epoch : 0, Iteration : 90000, Loss : 7.10, Elapsed time : 0h 27m 57s\n",
      "Epoch : 0, Iteration : 95000, Loss : 7.09, Elapsed time : 0h 29m 30s\n",
      "Epoch : 0, Iteration : 100000, Loss : 7.08, Elapsed time : 0h 31m 2s\n",
      "Epoch : 0, Iteration : 105000, Loss : 7.06, Elapsed time : 0h 32m 34s\n",
      "Epoch : 0, Iteration : 110000, Loss : 7.05, Elapsed time : 0h 34m 6s\n",
      "Epoch : 0, Iteration : 115000, Loss : 7.05, Elapsed time : 0h 35m 39s\n",
      "Epoch : 0, Iteration : 120000, Loss : 7.04, Elapsed time : 0h 37m 11s\n",
      "Epoch : 0, Iteration : 125000, Loss : 7.03, Elapsed time : 0h 38m 43s\n",
      "Epoch : 0, Iteration : 130000, Loss : 7.02, Elapsed time : 0h 40m 15s\n",
      "Epoch : 0, Iteration : 135000, Loss : 7.02, Elapsed time : 0h 41m 48s\n",
      "Epoch : 0, Iteration : 140000, Loss : 7.02, Elapsed time : 0h 43m 20s\n",
      "Epoch : 0, Iteration : 145000, Loss : 7.01, Elapsed time : 0h 44m 52s\n",
      "Epoch : 0, Iteration : 150000, Loss : 7.00, Elapsed time : 0h 46m 25s\n",
      "Epoch : 0, Iteration : 155000, Loss : 7.00, Elapsed time : 0h 47m 57s\n",
      "Epoch : 0, Iteration : 160000, Loss : 6.99, Elapsed time : 0h 49m 29s\n",
      "Epoch : 0, Iteration : 165000, Loss : 6.99, Elapsed time : 0h 51m 2s\n",
      "Epoch : 0, Iteration : 170000, Loss : 6.99, Elapsed time : 0h 52m 34s\n",
      "Epoch : 1, Iteration : 0, Loss : 0.00, Elapsed time : 0h 52m 41s\n",
      "Epoch : 1, Iteration : 5000, Loss : 6.94, Elapsed time : 0h 54m 14s\n",
      "Epoch : 1, Iteration : 10000, Loss : 6.94, Elapsed time : 0h 55m 47s\n",
      "Epoch : 1, Iteration : 15000, Loss : 6.94, Elapsed time : 0h 57m 19s\n",
      "Epoch : 1, Iteration : 20000, Loss : 6.93, Elapsed time : 0h 58m 52s\n",
      "Epoch : 1, Iteration : 25000, Loss : 6.93, Elapsed time : 1h 0m 24s\n",
      "Epoch : 1, Iteration : 30000, Loss : 6.92, Elapsed time : 1h 1m 56s\n",
      "Epoch : 1, Iteration : 35000, Loss : 6.92, Elapsed time : 1h 3m 29s\n",
      "Epoch : 1, Iteration : 40000, Loss : 6.92, Elapsed time : 1h 5m 2s\n",
      "Epoch : 1, Iteration : 45000, Loss : 6.91, Elapsed time : 1h 6m 34s\n",
      "Epoch : 1, Iteration : 50000, Loss : 6.91, Elapsed time : 1h 8m 7s\n",
      "Epoch : 1, Iteration : 55000, Loss : 6.91, Elapsed time : 1h 9m 39s\n",
      "Epoch : 1, Iteration : 60000, Loss : 6.90, Elapsed time : 1h 11m 12s\n",
      "Epoch : 1, Iteration : 65000, Loss : 6.90, Elapsed time : 1h 12m 45s\n",
      "Epoch : 1, Iteration : 70000, Loss : 6.89, Elapsed time : 1h 14m 18s\n",
      "Epoch : 1, Iteration : 75000, Loss : 6.90, Elapsed time : 1h 15m 51s\n",
      "Epoch : 1, Iteration : 80000, Loss : 6.90, Elapsed time : 1h 17m 23s\n",
      "Epoch : 1, Iteration : 85000, Loss : 6.89, Elapsed time : 1h 18m 56s\n",
      "Epoch : 1, Iteration : 90000, Loss : 6.89, Elapsed time : 1h 20m 29s\n",
      "Epoch : 1, Iteration : 95000, Loss : 6.88, Elapsed time : 1h 22m 3s\n",
      "Epoch : 1, Iteration : 100000, Loss : 6.88, Elapsed time : 1h 23m 36s\n",
      "Epoch : 1, Iteration : 105000, Loss : 6.89, Elapsed time : 1h 25m 9s\n",
      "Epoch : 1, Iteration : 110000, Loss : 6.88, Elapsed time : 1h 26m 42s\n",
      "Epoch : 1, Iteration : 115000, Loss : 6.89, Elapsed time : 1h 28m 16s\n",
      "Epoch : 1, Iteration : 120000, Loss : 6.88, Elapsed time : 1h 29m 50s\n",
      "Epoch : 1, Iteration : 125000, Loss : 6.88, Elapsed time : 1h 31m 24s\n",
      "Epoch : 1, Iteration : 130000, Loss : 6.88, Elapsed time : 1h 32m 56s\n",
      "Epoch : 1, Iteration : 135000, Loss : 6.87, Elapsed time : 1h 34m 29s\n",
      "Epoch : 1, Iteration : 140000, Loss : 6.87, Elapsed time : 1h 36m 2s\n",
      "Epoch : 1, Iteration : 145000, Loss : 6.87, Elapsed time : 1h 37m 34s\n",
      "Epoch : 1, Iteration : 150000, Loss : 6.86, Elapsed time : 1h 39m 8s\n",
      "Epoch : 1, Iteration : 155000, Loss : 6.86, Elapsed time : 1h 40m 40s\n",
      "Epoch : 1, Iteration : 160000, Loss : 6.87, Elapsed time : 1h 42m 14s\n",
      "Epoch : 1, Iteration : 165000, Loss : 6.86, Elapsed time : 1h 43m 47s\n",
      "Epoch : 1, Iteration : 170000, Loss : 6.86, Elapsed time : 1h 45m 20s\n",
      "Epoch : 2, Iteration : 0, Loss : 0.00, Elapsed time : 1h 45m 28s\n",
      "Epoch : 2, Iteration : 5000, Loss : 6.84, Elapsed time : 1h 47m 1s\n",
      "Epoch : 2, Iteration : 10000, Loss : 6.83, Elapsed time : 1h 48m 36s\n",
      "Epoch : 2, Iteration : 15000, Loss : 6.84, Elapsed time : 1h 50m 10s\n",
      "Epoch : 2, Iteration : 20000, Loss : 6.83, Elapsed time : 1h 51m 43s\n",
      "Epoch : 2, Iteration : 25000, Loss : 6.83, Elapsed time : 1h 53m 16s\n",
      "Epoch : 2, Iteration : 30000, Loss : 6.83, Elapsed time : 1h 54m 48s\n",
      "Epoch : 2, Iteration : 35000, Loss : 6.84, Elapsed time : 1h 56m 21s\n",
      "Epoch : 2, Iteration : 40000, Loss : 6.84, Elapsed time : 1h 57m 54s\n",
      "Epoch : 2, Iteration : 45000, Loss : 6.83, Elapsed time : 1h 59m 27s\n",
      "Epoch : 2, Iteration : 50000, Loss : 6.83, Elapsed time : 2h 1m 0s\n",
      "Epoch : 2, Iteration : 55000, Loss : 6.83, Elapsed time : 2h 2m 33s\n",
      "Epoch : 2, Iteration : 60000, Loss : 6.83, Elapsed time : 2h 4m 7s\n",
      "Epoch : 2, Iteration : 65000, Loss : 6.82, Elapsed time : 2h 5m 40s\n",
      "Epoch : 2, Iteration : 70000, Loss : 6.83, Elapsed time : 2h 7m 13s\n",
      "Epoch : 2, Iteration : 75000, Loss : 6.83, Elapsed time : 2h 8m 47s\n",
      "Epoch : 2, Iteration : 80000, Loss : 6.82, Elapsed time : 2h 10m 21s\n",
      "Epoch : 2, Iteration : 85000, Loss : 6.82, Elapsed time : 2h 11m 55s\n",
      "Epoch : 2, Iteration : 90000, Loss : 6.82, Elapsed time : 2h 13m 28s\n",
      "Epoch : 2, Iteration : 95000, Loss : 6.82, Elapsed time : 2h 15m 1s\n",
      "Epoch : 2, Iteration : 100000, Loss : 6.81, Elapsed time : 2h 16m 34s\n",
      "Epoch : 2, Iteration : 105000, Loss : 6.82, Elapsed time : 2h 18m 7s\n",
      "Epoch : 2, Iteration : 110000, Loss : 6.81, Elapsed time : 2h 19m 40s\n",
      "Epoch : 2, Iteration : 115000, Loss : 6.81, Elapsed time : 2h 21m 13s\n",
      "Epoch : 2, Iteration : 120000, Loss : 6.81, Elapsed time : 2h 22m 47s\n",
      "Epoch : 2, Iteration : 125000, Loss : 6.82, Elapsed time : 2h 24m 20s\n",
      "Epoch : 2, Iteration : 130000, Loss : 6.81, Elapsed time : 2h 25m 54s\n",
      "Epoch : 2, Iteration : 135000, Loss : 6.81, Elapsed time : 2h 27m 28s\n",
      "Epoch : 2, Iteration : 140000, Loss : 6.81, Elapsed time : 2h 29m 2s\n",
      "Epoch : 2, Iteration : 145000, Loss : 6.80, Elapsed time : 2h 30m 36s\n",
      "Epoch : 2, Iteration : 150000, Loss : 6.81, Elapsed time : 2h 32m 9s\n",
      "Epoch : 2, Iteration : 155000, Loss : 6.81, Elapsed time : 2h 33m 42s\n",
      "Epoch : 2, Iteration : 160000, Loss : 6.81, Elapsed time : 2h 35m 15s\n",
      "Epoch : 2, Iteration : 165000, Loss : 6.81, Elapsed time : 2h 36m 48s\n",
      "Epoch : 2, Iteration : 170000, Loss : 6.81, Elapsed time : 2h 38m 21s\n"
     ]
    }
   ],
   "source": [
    "# GPU time\n",
    "start = time.time()\n",
    "\n",
    "loss_list = []\n",
    "\n",
    "for epo in range(epoch):\n",
    "    loss_sum = 0\n",
    "    for i, (x, y) in enumerate(input_loader):\n",
    "\n",
    "        x,y = x.to(dev), y.to(dev)\n",
    "        optimizer.zero_grad()\n",
    "        \n",
    "        output = model_sg(x)\n",
    "        \n",
    "        loss = loss_f(output, y)\n",
    "        loss.backward()\n",
    "        optimizer.step()\n",
    "        \n",
    "        loss_sum += loss.item()\n",
    "        \n",
    "        \n",
    "        if i % check == 0 && i != 0:        \n",
    "            elap = int(time.time() - start)\n",
    "            loss_list.append(loss_sum/check)\n",
    "            print('Epoch : {}, Iteration : {}, Loss : {:.2f}, Elapsed time : {:.0f}h {:.0f}m {}s'.format(\\\n",
    "                epo+1, i, loss_sum / check, elap // 3600, (elap % 3600) // 60, str(int((elap % 3600) % 60))))\n",
    "            loss_sum = 0"
   ]
  },
  {
   "cell_type": "code",
   "execution_count": 40,
   "metadata": {
    "colab": {
     "base_uri": "https://localhost:8080/",
     "height": 282
    },
    "colab_type": "code",
    "executionInfo": {
     "elapsed": 696,
     "status": "ok",
     "timestamp": 1572069648787,
     "user": {
      "displayName": "Inhwan Lee",
      "photoUrl": "https://lh5.googleusercontent.com/-5lUmIvfg1FQ/AAAAAAAAAAI/AAAAAAAAB20/zcaOdBSgGnE/s64/photo.jpg",
      "userId": "00207258631190759901"
     },
     "user_tz": -540
    },
    "id": "r0cgPKTDDJ_z",
    "outputId": "bc9546c6-ac82-4a44-8827-3fbf3d279477"
   },
   "outputs": [
    {
     "data": {
      "text/plain": [
       "[<matplotlib.lines.Line2D at 0x7f03c2f4d240>]"
      ]
     },
     "execution_count": 40,
     "metadata": {
      "tags": []
     },
     "output_type": "execute_result"
    },
    {
     "data": {
      "image/png": "[encoded data removed]",
      "text/plain": [
       "<Figure size 432x288 with 1 Axes>"
      ]
     },
     "metadata": {
      "tags": []
     },
     "output_type": "display_data"
    }
   ],
   "source": [
    "plt.plot(loss_list)"
   ]
  },
  {
   "cell_type": "code",
   "execution_count": 0,
   "metadata": {
    "colab": {},
    "colab_type": "code",
    "id": "hxksGqUKDJ_0"
   },
   "outputs": [],
   "source": [
    "save_path = 'SG_N3_3epoch.pt'#.format(epoch)\n",
    "torch.save(model_sg.state_dict(), save_path)"
   ]
  },
  {
   "cell_type": "code",
   "execution_count": 45,
   "metadata": {
    "colab": {
     "base_uri": "https://localhost:8080/",
     "height": 70
    },
    "colab_type": "code",
    "executionInfo": {
     "elapsed": 446,
     "status": "ok",
     "timestamp": 1572069682950,
     "user": {
      "displayName": "Inhwan Lee",
      "photoUrl": "https://lh5.googleusercontent.com/-5lUmIvfg1FQ/AAAAAAAAAAI/AAAAAAAAB20/zcaOdBSgGnE/s64/photo.jpg",
      "userId": "00207258631190759901"
     },
     "user_tz": -540
    },
    "id": "JaoBjLgUDJ_1",
    "outputId": "d734b7db-dce0-4c0b-832f-12bb66bb138e"
   },
   "outputs": [
    {
     "data": {
      "text/plain": [
       "(['우주국', '書局', '創出', '장례식장', '래이', '영재', '쿨타임', 'Ysengrimus', '스카디', '미세눔'],\n",
       " tensor([0.4386, 0.4089, 0.4015, 0.3868, 0.3860, 0.3851, 0.3845, 0.3842, 0.3791,\n",
       "         0.3789]))"
      ]
     },
     "execution_count": 45,
     "metadata": {
      "tags": []
     },
     "output_type": "execute_result"
    }
   ],
   "source": [
    "similar_words(model_sg.to('cpu'), '지역')"
   ]
  },
  {
   "cell_type": "code",
   "execution_count": 46,
   "metadata": {
    "colab": {
     "base_uri": "https://localhost:8080/",
     "height": 70
    },
    "colab_type": "code",
    "executionInfo": {
     "elapsed": 439,
     "status": "ok",
     "timestamp": 1572069685476,
     "user": {
      "displayName": "Inhwan Lee",
      "photoUrl": "https://lh5.googleusercontent.com/-5lUmIvfg1FQ/AAAAAAAAAAI/AAAAAAAAB20/zcaOdBSgGnE/s64/photo.jpg",
      "userId": "00207258631190759901"
     },
     "user_tz": -540
    },
    "id": "YGDXvhENDJ_3",
    "outputId": "6c318871-6759-4680-c04c-3333ebba058e"
   },
   "outputs": [
    {
     "data": {
      "text/plain": [
       "(['하인하르트', '단방', '코리', '장물아비', '옐친', '은금', '우터', '가상적국', '이려', 'CJ'],\n",
       " tensor([0.3991, 0.3911, 0.3765, 0.3765, 0.3760, 0.3723, 0.3722, 0.3718, 0.3674,\n",
       "         0.3632]))"
      ]
     },
     "execution_count": 46,
     "metadata": {
      "tags": []
     },
     "output_type": "execute_result"
    }
   ],
   "source": [
    "similar_words(model_sg.to('cpu'), '어머니')"
   ]
  },
  {
   "cell_type": "code",
   "execution_count": 47,
   "metadata": {
    "colab": {
     "base_uri": "https://localhost:8080/",
     "height": 70
    },
    "colab_type": "code",
    "executionInfo": {
     "elapsed": 435,
     "status": "ok",
     "timestamp": 1572069686940,
     "user": {
      "displayName": "Inhwan Lee",
      "photoUrl": "https://lh5.googleusercontent.com/-5lUmIvfg1FQ/AAAAAAAAAAI/AAAAAAAAB20/zcaOdBSgGnE/s64/photo.jpg",
      "userId": "00207258631190759901"
     },
     "user_tz": -540
    },
    "id": "XWL1lzArDJ_6",
    "outputId": "c0a9e541-55d2-4513-9a46-3b724be2a1f1"
   },
   "outputs": [
    {
     "data": {
      "text/plain": [
       "(['여전히', '과르디올라', '曹', '클레어', '무르시아', '르레', '가쓰라', '몰', '암살', '대납'],\n",
       " tensor([0.4307, 0.4155, 0.3974, 0.3910, 0.3882, 0.3862, 0.3861, 0.3860, 0.3850,\n",
       "         0.3839]))"
      ]
     },
     "execution_count": 47,
     "metadata": {
      "tags": []
     },
     "output_type": "execute_result"
    }
   ],
   "source": [
    "similar_words(model_sg.to('cpu'), '대한민국')"
   ]
  },
  {
   "cell_type": "code",
   "execution_count": 48,
   "metadata": {
    "colab": {
     "base_uri": "https://localhost:8080/",
     "height": 70
    },
    "colab_type": "code",
    "executionInfo": {
     "elapsed": 467,
     "status": "ok",
     "timestamp": 1572069705526,
     "user": {
      "displayName": "Inhwan Lee",
      "photoUrl": "https://lh5.googleusercontent.com/-5lUmIvfg1FQ/AAAAAAAAAAI/AAAAAAAAB20/zcaOdBSgGnE/s64/photo.jpg",
      "userId": "00207258631190759901"
     },
     "user_tz": -540
    },
    "id": "ZCr3-2BTDJ_8",
    "outputId": "2d8e0895-5f7a-4434-e5c5-737de79fb23b"
   },
   "outputs": [
    {
     "data": {
      "text/plain": [
       "(['농경', '작곡', '무네타카', '덧붙여서', '에버', '미래', '도날드', '도합', '盟', '열어젖혔'],\n",
       " tensor([0.4262, 0.4255, 0.4025, 0.3987, 0.3985, 0.3980, 0.3969, 0.3926, 0.3808,\n",
       "         0.3790]))"
      ]
     },
     "execution_count": 48,
     "metadata": {
      "tags": []
     },
     "output_type": "execute_result"
    }
   ],
   "source": [
    "similar_words(model_sg.to('cpu'), '컴퓨터')"
   ]
  },
  {
   "cell_type": "code",
   "execution_count": 49,
   "metadata": {
    "colab": {
     "base_uri": "https://localhost:8080/",
     "height": 52
    },
    "colab_type": "code",
    "executionInfo": {
     "elapsed": 592,
     "status": "ok",
     "timestamp": 1572069706834,
     "user": {
      "displayName": "Inhwan Lee",
      "photoUrl": "https://lh5.googleusercontent.com/-5lUmIvfg1FQ/AAAAAAAAAAI/AAAAAAAAB20/zcaOdBSgGnE/s64/photo.jpg",
      "userId": "00207258631190759901"
     },
     "user_tz": -540
    },
    "id": "mEOkdQNXDJ_9",
    "outputId": "3caf7db3-764d-49b3-e6ca-5b0f7e9a6f40"
   },
   "outputs": [
    {
     "data": {
      "text/plain": [
       "(['파리', '한국', '이누도', '疫', 'Staré', '『', 'League', '측우기', '로번', '관복'],\n",
       " tensor([0.5916, 0.3849, 0.3783, 0.3755, 0.3751, 0.3736, 0.3722, 0.3714, 0.3713]))"
      ]
     },
     "execution_count": 49,
     "metadata": {
      "tags": []
     },
     "output_type": "execute_result"
    }
   ],
   "source": [
    "analogy(model_sg,'한국','서울','파리')"
   ]
  },
  {
   "cell_type": "code",
   "execution_count": 0,
   "metadata": {
    "colab": {},
    "colab_type": "code",
    "id": "C672ujAgDKAA"
   },
   "outputs": [],
   "source": []
  }
 ],
 "metadata": {
  "accelerator": "GPU",
  "colab": {
   "name": "4.2 Word2Vec.ipynb",
   "provenance": []
  },
  "kernelspec": {
   "display_name": "Python 3",
   "language": "python",
   "name": "python3"
  },
  "language_info": {
   "codemirror_mode": {
    "name": "ipython",
    "version": 3
   },
   "file_extension": ".py",
   "mimetype": "text/x-python",
   "name": "python",
   "nbconvert_exporter": "python",
   "pygments_lexer": "ipython3",
   "version": "3.7.4"
  }
 },
 "nbformat": 4,
 "nbformat_minor": 1
}
