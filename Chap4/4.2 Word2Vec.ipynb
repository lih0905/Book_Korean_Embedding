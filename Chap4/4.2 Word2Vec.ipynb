{
 "cells": [
  {
   "cell_type": "markdown",
   "metadata": {},
   "source": [
    "# 4.2 Word2Vec\n",
    "\n",
    "먼저 책 내용을 따라한 후 파이토치로 구현해보자!"
   ]
  },
  {
   "cell_type": "code",
   "execution_count": 4,
   "metadata": {},
   "outputs": [],
   "source": [
    "corpus_fname = '../data/tokenized/korquad_mecab.txt'\n",
    "model_fname = '../data/word_embeddings/word2vec/word2vec'\n",
    "\n",
    "from gensim.models import Word2Vec"
   ]
  },
  {
   "cell_type": "code",
   "execution_count": 5,
   "metadata": {},
   "outputs": [
    {
     "name": "stdout",
     "output_type": "stream",
     "text": [
      "Wall time: 39.7 s\n"
     ]
    }
   ],
   "source": [
    "%%time\n",
    "corpus = [sent.strip().split(\" \") for sent in open(corpus_fname, 'r', encoding='utf-8').readlines()]\n",
    "model = Word2Vec(corpus, size=100, workers=4, sg=1)\n",
    "model.save(model_fname)"
   ]
  },
  {
   "cell_type": "code",
   "execution_count": 40,
   "metadata": {},
   "outputs": [
    {
     "ename": "TypeError",
     "evalue": "'Word2VecKeyedVectors' object is not callable",
     "output_type": "error",
     "traceback": [
      "\u001b[1;31m---------------------------------------------------------------------------\u001b[0m",
      "\u001b[1;31mTypeError\u001b[0m                                 Traceback (most recent call last)",
      "\u001b[1;32m<ipython-input-40-e856058743b3>\u001b[0m in \u001b[0;36m<module>\u001b[1;34m\u001b[0m\n\u001b[1;32m----> 1\u001b[1;33m \u001b[0mmodel\u001b[0m\u001b[1;33m.\u001b[0m\u001b[0mwv\u001b[0m\u001b[1;33m(\u001b[0m\u001b[1;34m'한글'\u001b[0m\u001b[1;33m)\u001b[0m\u001b[1;33m\u001b[0m\u001b[1;33m\u001b[0m\u001b[0m\n\u001b[0m",
      "\u001b[1;31mTypeError\u001b[0m: 'Word2VecKeyedVectors' object is not callable"
     ]
    }
   ],
   "source": [
    "model.wv('한글')"
   ]
  },
  {
   "cell_type": "code",
   "execution_count": 35,
   "metadata": {},
   "outputs": [],
   "source": [
    "import os, sys\n",
    "sys.path.append('F:\\Google 드라이브\\Programming\\한국어 임베딩')"
   ]
  },
  {
   "cell_type": "code",
   "execution_count": 39,
   "metadata": {
    "scrolled": true
   },
   "outputs": [
    {
     "ename": "ModuleNotFoundError",
     "evalue": "No module named 'khaiii'",
     "output_type": "error",
     "traceback": [
      "\u001b[1;31m---------------------------------------------------------------------------\u001b[0m",
      "\u001b[1;31mModuleNotFoundError\u001b[0m                       Traceback (most recent call last)",
      "\u001b[1;32m<ipython-input-39-d16ae914f038>\u001b[0m in \u001b[0;36m<module>\u001b[1;34m\u001b[0m\n\u001b[1;32m----> 1\u001b[1;33m \u001b[1;32mfrom\u001b[0m \u001b[0mmodels\u001b[0m\u001b[1;33m.\u001b[0m\u001b[0mword_eval\u001b[0m \u001b[1;32mimport\u001b[0m \u001b[0mWordEmbeddingEvaluator\u001b[0m\u001b[1;33m\u001b[0m\u001b[1;33m\u001b[0m\u001b[0m\n\u001b[0m\u001b[0;32m      2\u001b[0m model = WordEmbeddingEvaluator('../data/word_embeddings/word2vec/word2vec',\\\n\u001b[0;32m      3\u001b[0m                               dim=100, tokenizer_name='mecab')\n",
      "\u001b[1;32mF:\\Google 드라이브\\Programming\\한국어 임베딩\\models\\word_eval.py\u001b[0m in \u001b[0;36m<module>\u001b[1;34m\u001b[0m\n\u001b[0;32m      7\u001b[0m \u001b[1;33m\u001b[0m\u001b[0m\n\u001b[0;32m      8\u001b[0m \u001b[1;32mfrom\u001b[0m \u001b[0msoynlp\u001b[0m\u001b[1;33m.\u001b[0m\u001b[0mhangle\u001b[0m \u001b[1;32mimport\u001b[0m \u001b[0mcompose\u001b[0m\u001b[1;33m,\u001b[0m \u001b[0mcharacter_is_korean\u001b[0m\u001b[1;33m\u001b[0m\u001b[1;33m\u001b[0m\u001b[0m\n\u001b[1;32m----> 9\u001b[1;33m \u001b[1;32mfrom\u001b[0m \u001b[0mpreprocess\u001b[0m \u001b[1;32mimport\u001b[0m \u001b[0mget_tokenizer\u001b[0m\u001b[1;33m,\u001b[0m \u001b[0mjamo_sentence\u001b[0m\u001b[1;33m\u001b[0m\u001b[1;33m\u001b[0m\u001b[0m\n\u001b[0m\u001b[0;32m     10\u001b[0m \u001b[1;33m\u001b[0m\u001b[0m\n\u001b[0;32m     11\u001b[0m \u001b[0msys\u001b[0m\u001b[1;33m.\u001b[0m\u001b[0mpath\u001b[0m\u001b[1;33m.\u001b[0m\u001b[0mappend\u001b[0m\u001b[1;33m(\u001b[0m\u001b[1;34m'models'\u001b[0m\u001b[1;33m)\u001b[0m\u001b[1;33m\u001b[0m\u001b[1;33m\u001b[0m\u001b[0m\n",
      "\u001b[1;32mF:\\Google 드라이브\\Programming\\한국어 임베딩\\preprocess\\__init__.py\u001b[0m in \u001b[0;36m<module>\u001b[1;34m\u001b[0m\n\u001b[1;32m----> 1\u001b[1;33m \u001b[1;32mfrom\u001b[0m \u001b[1;33m.\u001b[0m\u001b[0msupervised_nlputils\u001b[0m \u001b[1;32mimport\u001b[0m \u001b[0mget_tokenizer\u001b[0m\u001b[1;33m,\u001b[0m \u001b[0mpost_processing\u001b[0m\u001b[1;33m\u001b[0m\u001b[1;33m\u001b[0m\u001b[0m\n\u001b[0m\u001b[0;32m      2\u001b[0m \u001b[1;32mfrom\u001b[0m \u001b[1;33m.\u001b[0m\u001b[0munsupervised_nlputils\u001b[0m \u001b[1;32mimport\u001b[0m \u001b[0mjamo_sentence\u001b[0m\u001b[1;33m\u001b[0m\u001b[1;33m\u001b[0m\u001b[0m\n",
      "\u001b[1;32mF:\\Google 드라이브\\Programming\\한국어 임베딩\\preprocess\\supervised_nlputils.py\u001b[0m in \u001b[0;36m<module>\u001b[1;34m\u001b[0m\n\u001b[0;32m      1\u001b[0m \u001b[1;32mimport\u001b[0m \u001b[0msys\u001b[0m\u001b[1;33m,\u001b[0m \u001b[0mre\u001b[0m\u001b[1;33m,\u001b[0m \u001b[0margparse\u001b[0m\u001b[1;33m\u001b[0m\u001b[1;33m\u001b[0m\u001b[0m\n\u001b[1;32m----> 2\u001b[1;33m \u001b[1;32mfrom\u001b[0m \u001b[0mkhaiii\u001b[0m \u001b[1;32mimport\u001b[0m \u001b[0mKhaiiiApi\u001b[0m\u001b[1;33m\u001b[0m\u001b[1;33m\u001b[0m\u001b[0m\n\u001b[0m\u001b[0;32m      3\u001b[0m \u001b[1;32mfrom\u001b[0m \u001b[0mkonlpy\u001b[0m\u001b[1;33m.\u001b[0m\u001b[0mtag\u001b[0m \u001b[1;32mimport\u001b[0m \u001b[0mOkt\u001b[0m\u001b[1;33m,\u001b[0m \u001b[0mKomoran\u001b[0m\u001b[1;33m,\u001b[0m \u001b[0mMecab\u001b[0m\u001b[1;33m,\u001b[0m \u001b[0mHannanum\u001b[0m\u001b[1;33m,\u001b[0m \u001b[0mKkma\u001b[0m\u001b[1;33m\u001b[0m\u001b[1;33m\u001b[0m\u001b[0m\n\u001b[0;32m      4\u001b[0m \u001b[1;33m\u001b[0m\u001b[0m\n\u001b[0;32m      5\u001b[0m \u001b[1;33m\u001b[0m\u001b[0m\n",
      "\u001b[1;31mModuleNotFoundError\u001b[0m: No module named 'khaiii'"
     ]
    }
   ],
   "source": [
    "from models.word_eval import WordEmbeddingEvaluator\n",
    "model = WordEmbeddingEvaluator('../data/word_embeddings/word2vec/word2vec',\\\n",
    "                              dim=100, tokenizer_name='mecab')"
   ]
  },
  {
   "cell_type": "code",
   "execution_count": 19,
   "metadata": {},
   "outputs": [
    {
     "ename": "ValueError",
     "evalue": "attempted relative import beyond top-level package",
     "output_type": "error",
     "traceback": [
      "\u001b[1;31m---------------------------------------------------------------------------\u001b[0m",
      "\u001b[1;31mValueError\u001b[0m                                Traceback (most recent call last)",
      "\u001b[1;32m<ipython-input-19-4c113a03f1d7>\u001b[0m in \u001b[0;36m<module>\u001b[1;34m\u001b[0m\n\u001b[1;32m----> 1\u001b[1;33m \u001b[1;32mfrom\u001b[0m \u001b[1;33m.\u001b[0m\u001b[1;33m.\u001b[0m\u001b[0mmodels\u001b[0m\u001b[1;33m.\u001b[0m\u001b[0mword_eval\u001b[0m \u001b[1;32mimport\u001b[0m \u001b[0mWordEmbeddingEvaluator\u001b[0m\u001b[1;33m\u001b[0m\u001b[1;33m\u001b[0m\u001b[0m\n\u001b[0m\u001b[0;32m      2\u001b[0m model = WordEmbeddingEvaluator('../data/word_embeddings/word2vec/word2vec',\\\n\u001b[0;32m      3\u001b[0m                               dim=100, tokenizer_name='mecab')\n",
      "\u001b[1;31mValueError\u001b[0m: attempted relative import beyond top-level package"
     ]
    }
   ],
   "source": []
  },
  {
   "cell_type": "markdown",
   "metadata": {},
   "source": [
    "에라이 망...\n",
    "\n",
    "구현이나 해보자.\n",
    "먼저 텍스트 데이터 생성부터 하자."
   ]
  },
  {
   "cell_type": "code",
   "execution_count": 1,
   "metadata": {},
   "outputs": [],
   "source": [
    "%matplotlib inline\n",
    "\n",
    "import torch\n",
    "import torch.nn as nn\n",
    "import torch.nn.functional as F\n",
    "import torch.optim as optim\n",
    "import numpy as np\n",
    "import matplotlib.pyplot as plt\n",
    "import time\n",
    "\n",
    "dev = torch.device('cuda') if torch.cuda.is_available() else torch.device('cpu')"
   ]
  },
  {
   "cell_type": "code",
   "execution_count": 87,
   "metadata": {},
   "outputs": [],
   "source": [
    "N = 3 # 윈도우 갯수\n",
    "VEC_DIM = 100 # 임베딩 차원"
   ]
  },
  {
   "cell_type": "code",
   "execution_count": 3,
   "metadata": {},
   "outputs": [],
   "source": [
    "txt_path = '../data/tokenized/korquad_mecab.txt'\n",
    "corpus = [sent.strip().split() for sent in open(txt_path, 'r', encoding='utf-8').readlines()]"
   ]
  },
  {
   "cell_type": "code",
   "execution_count": 4,
   "metadata": {},
   "outputs": [],
   "source": [
    "txt_path2 = '../data/tokenized/ratings_mecab.txt'\n",
    "corpus2 = [sent.strip().split() for sent in open(txt_path2, 'r', encoding='utf-8').readlines()]"
   ]
  },
  {
   "cell_type": "code",
   "execution_count": 43,
   "metadata": {},
   "outputs": [],
   "source": [
    "corpus_data = corpus# + corpus2"
   ]
  },
  {
   "cell_type": "code",
   "execution_count": 44,
   "metadata": {},
   "outputs": [
    {
     "data": {
      "text/plain": [
       "['1',\n",
       " '8',\n",
       " '3',\n",
       " '9',\n",
       " '년',\n",
       " '바그너',\n",
       " '는',\n",
       " '괴테',\n",
       " '의',\n",
       " '파우스트',\n",
       " '을',\n",
       " '처음',\n",
       " '읽',\n",
       " '고',\n",
       " '그',\n",
       " '내용',\n",
       " '에',\n",
       " '마음',\n",
       " '이',\n",
       " '끌려',\n",
       " '이',\n",
       " '를',\n",
       " '소재',\n",
       " '로',\n",
       " '해서',\n",
       " '하나',\n",
       " '의',\n",
       " '교향곡',\n",
       " '을',\n",
       " '쓰',\n",
       " '려는',\n",
       " '뜻',\n",
       " '을',\n",
       " '갖',\n",
       " '는다',\n",
       " '.',\n",
       " '이',\n",
       " '시기',\n",
       " '바그너',\n",
       " '는',\n",
       " '1',\n",
       " '8',\n",
       " '3',\n",
       " '8',\n",
       " '년',\n",
       " '에',\n",
       " '빛',\n",
       " '독촉',\n",
       " '으로',\n",
       " '산전수전',\n",
       " '을',\n",
       " '다',\n",
       " '걲은',\n",
       " '상황',\n",
       " '이',\n",
       " '라',\n",
       " '좌절',\n",
       " '과',\n",
       " '실망',\n",
       " '에',\n",
       " '가득',\n",
       " '했으며',\n",
       " '메피스토펠레스',\n",
       " '를',\n",
       " '만나',\n",
       " '는',\n",
       " '파우스트',\n",
       " '의',\n",
       " '심경',\n",
       " '에',\n",
       " '공감',\n",
       " '했',\n",
       " '다고',\n",
       " '한다',\n",
       " '.',\n",
       " '또한',\n",
       " '파리',\n",
       " '에서',\n",
       " '아',\n",
       " '브네',\n",
       " '크',\n",
       " '의',\n",
       " '지휘',\n",
       " '로',\n",
       " '파리',\n",
       " '음악원',\n",
       " '관현악단',\n",
       " '이',\n",
       " '연주',\n",
       " '하',\n",
       " '는',\n",
       " '베토벤',\n",
       " '의',\n",
       " '교향곡',\n",
       " '9',\n",
       " '번',\n",
       " '을',\n",
       " '듣',\n",
       " '고',\n",
       " '깊',\n",
       " '은',\n",
       " '감명',\n",
       " '을',\n",
       " '받',\n",
       " '았',\n",
       " '는데',\n",
       " ',',\n",
       " '이것',\n",
       " '이',\n",
       " '이듬해',\n",
       " '1',\n",
       " '월',\n",
       " '에',\n",
       " '파우스트',\n",
       " '의',\n",
       " '서곡',\n",
       " '으로',\n",
       " '쓰여진',\n",
       " '이',\n",
       " '작품',\n",
       " '에',\n",
       " '조금',\n",
       " '이',\n",
       " '라도',\n",
       " '영향',\n",
       " '을',\n",
       " '끼쳤',\n",
       " '으리라는',\n",
       " '것',\n",
       " '은',\n",
       " '의심',\n",
       " '할',\n",
       " '여지',\n",
       " '가',\n",
       " '없',\n",
       " '다',\n",
       " '.',\n",
       " '여기',\n",
       " '의',\n",
       " '라단조',\n",
       " '조성',\n",
       " '의',\n",
       " '경우',\n",
       " '에',\n",
       " '도',\n",
       " '그',\n",
       " '의',\n",
       " '전기',\n",
       " '에',\n",
       " '적혀',\n",
       " '있',\n",
       " '는',\n",
       " '것',\n",
       " '처럼',\n",
       " '단순',\n",
       " '한',\n",
       " '정신',\n",
       " '적',\n",
       " '피로',\n",
       " '나',\n",
       " '실의',\n",
       " '가',\n",
       " '반영',\n",
       " '된',\n",
       " '것',\n",
       " '이',\n",
       " '아니',\n",
       " '라',\n",
       " '베토벤',\n",
       " '의',\n",
       " '합창',\n",
       " '교향곡',\n",
       " '조성',\n",
       " '의',\n",
       " '영향',\n",
       " '을',\n",
       " '받',\n",
       " '은',\n",
       " '것',\n",
       " '을',\n",
       " '볼',\n",
       " '수',\n",
       " '있',\n",
       " '다',\n",
       " '.',\n",
       " '그렇게',\n",
       " '교향곡',\n",
       " '작곡',\n",
       " '을',\n",
       " '1',\n",
       " '8',\n",
       " '3',\n",
       " '9',\n",
       " '년',\n",
       " '부터',\n",
       " '4',\n",
       " '0',\n",
       " '년',\n",
       " '에',\n",
       " '걸쳐',\n",
       " '파리',\n",
       " '에서',\n",
       " '착수',\n",
       " '했으나',\n",
       " '1',\n",
       " '악장',\n",
       " '을',\n",
       " '쓴',\n",
       " '뒤',\n",
       " '에',\n",
       " '중단',\n",
       " '했',\n",
       " '다',\n",
       " '.',\n",
       " '또한',\n",
       " '작품',\n",
       " '의',\n",
       " '완성',\n",
       " '과',\n",
       " '동시',\n",
       " '에',\n",
       " '그',\n",
       " '는',\n",
       " '이',\n",
       " '서곡',\n",
       " '(',\n",
       " '1',\n",
       " '악장',\n",
       " ')',\n",
       " '을',\n",
       " '파리',\n",
       " '음악원',\n",
       " '의',\n",
       " '연주회',\n",
       " '에서',\n",
       " '연주',\n",
       " '할',\n",
       " '파트',\n",
       " '보',\n",
       " '까지',\n",
       " '준비',\n",
       " '하',\n",
       " '였으나',\n",
       " ',',\n",
       " '실제로',\n",
       " '는',\n",
       " '이루',\n",
       " '어',\n",
       " '지지',\n",
       " '는',\n",
       " '않',\n",
       " '았',\n",
       " '다',\n",
       " '.',\n",
       " '결국',\n",
       " '초연',\n",
       " '은',\n",
       " '4',\n",
       " '년',\n",
       " '반',\n",
       " '이',\n",
       " '지난',\n",
       " '후',\n",
       " '에',\n",
       " '드레스덴',\n",
       " '에서',\n",
       " '연주',\n",
       " '되',\n",
       " '었',\n",
       " '고',\n",
       " '재연',\n",
       " '도',\n",
       " '이루',\n",
       " '어',\n",
       " '졌',\n",
       " '지만',\n",
       " ',',\n",
       " '이후',\n",
       " '에',\n",
       " '그대로',\n",
       " '방치',\n",
       " '되',\n",
       " '고',\n",
       " '말',\n",
       " '았',\n",
       " '다',\n",
       " '.',\n",
       " '그',\n",
       " '사이',\n",
       " '에',\n",
       " '그',\n",
       " '는',\n",
       " '리엔치',\n",
       " '와',\n",
       " '방황',\n",
       " '하',\n",
       " '는',\n",
       " '네덜란드인',\n",
       " '을',\n",
       " '완성',\n",
       " '하',\n",
       " '고',\n",
       " '탄호이저',\n",
       " '에',\n",
       " '도',\n",
       " '착수',\n",
       " '하',\n",
       " '는',\n",
       " '등',\n",
       " '분주',\n",
       " '한',\n",
       " '시간',\n",
       " '을',\n",
       " '보냈',\n",
       " '는데',\n",
       " ',',\n",
       " '그런',\n",
       " '바쁜',\n",
       " '생활',\n",
       " '이',\n",
       " '이',\n",
       " '곡',\n",
       " '을',\n",
       " '잊',\n",
       " '게',\n",
       " '한',\n",
       " '것',\n",
       " '이',\n",
       " '아닌가',\n",
       " '하',\n",
       " '는',\n",
       " '의견',\n",
       " '도',\n",
       " '있',\n",
       " '다',\n",
       " '.']"
      ]
     },
     "execution_count": 44,
     "metadata": {},
     "output_type": "execute_result"
    }
   ],
   "source": [
    "corpus_data[0]"
   ]
  },
  {
   "cell_type": "code",
   "execution_count": 45,
   "metadata": {},
   "outputs": [
    {
     "name": "stdout",
     "output_type": "stream",
     "text": [
      "단어 갯수 : 83593\n"
     ]
    }
   ],
   "source": [
    "vocab = set()\n",
    "for i in range(len(corpus_data)):\n",
    "    vocab.update(corpus_data[i])\n",
    "    \n",
    "print('단어 갯수 : ' + str(len(vocab)))\n",
    "\n",
    "word_to_id = dict()\n",
    "for word in vocab:\n",
    "    word_to_id[word]=len(word_to_id)    \n",
    "    \n",
    "id_to_word = []\n",
    "for word in word_to_id.keys():\n",
    "    id_to_word.append(word)"
   ]
  },
  {
   "cell_type": "code",
   "execution_count": 46,
   "metadata": {},
   "outputs": [
    {
     "data": {
      "text/plain": [
       "['바그너',\n",
       " '는',\n",
       " '괴테',\n",
       " '의',\n",
       " '파우스트',\n",
       " '를',\n",
       " '읽',\n",
       " '고',\n",
       " '무엇',\n",
       " '을',\n",
       " '쓰',\n",
       " '고자',\n",
       " '했',\n",
       " '는가',\n",
       " '?',\n",
       " '교향곡']"
      ]
     },
     "execution_count": 46,
     "metadata": {},
     "output_type": "execute_result"
    }
   ],
   "source": [
    "corpus[1]"
   ]
  },
  {
   "cell_type": "code",
   "execution_count": 47,
   "metadata": {},
   "outputs": [],
   "source": [
    "def sent_to_ngram(n, sent):\n",
    "    ngrams = []\n",
    "    \n",
    "    for i in range(n, len(sent)-n):\n",
    "        ngram = []\n",
    "        for j in range(-n,n+1):\n",
    "            ngram.append(sent[i+j])\n",
    "        ngrams.append(ngram)\n",
    "            \n",
    "    return ngrams"
   ]
  },
  {
   "cell_type": "code",
   "execution_count": 88,
   "metadata": {},
   "outputs": [
    {
     "data": {
      "text/plain": [
       "[['바그너', '는', '괴테', '의', '파우스트', '를', '읽'],\n",
       " ['는', '괴테', '의', '파우스트', '를', '읽', '고'],\n",
       " ['괴테', '의', '파우스트', '를', '읽', '고', '무엇'],\n",
       " ['의', '파우스트', '를', '읽', '고', '무엇', '을'],\n",
       " ['파우스트', '를', '읽', '고', '무엇', '을', '쓰'],\n",
       " ['를', '읽', '고', '무엇', '을', '쓰', '고자'],\n",
       " ['읽', '고', '무엇', '을', '쓰', '고자', '했'],\n",
       " ['고', '무엇', '을', '쓰', '고자', '했', '는가'],\n",
       " ['무엇', '을', '쓰', '고자', '했', '는가', '?'],\n",
       " ['을', '쓰', '고자', '했', '는가', '?', '교향곡']]"
      ]
     },
     "execution_count": 88,
     "metadata": {},
     "output_type": "execute_result"
    }
   ],
   "source": [
    "sent_to_ngram(3,corpus[1])"
   ]
  },
  {
   "cell_type": "code",
   "execution_count": 89,
   "metadata": {},
   "outputs": [],
   "source": [
    "train_data = []\n",
    "for i in range(len(corpus_data)):\n",
    "    train_data += sent_to_ngram(N, corpus_data[i])"
   ]
  },
  {
   "cell_type": "code",
   "execution_count": 90,
   "metadata": {},
   "outputs": [],
   "source": [
    "def sent_to_vec(sent):\n",
    "    vec = []\n",
    "    for word in sent:\n",
    "        vec.append(word_to_id[word])\n",
    "    return vec"
   ]
  },
  {
   "cell_type": "code",
   "execution_count": 91,
   "metadata": {},
   "outputs": [
    {
     "data": {
      "text/plain": [
       "['바그너', '는', '괴테', '의', '파우스트', '를', '읽']"
      ]
     },
     "execution_count": 91,
     "metadata": {},
     "output_type": "execute_result"
    }
   ],
   "source": [
    "sent_to_ngram(3,corpus_data[1])[0]"
   ]
  },
  {
   "cell_type": "code",
   "execution_count": 92,
   "metadata": {},
   "outputs": [
    {
     "data": {
      "text/plain": [
       "([26494, 31901, 26200, 81583, 14801, 45264, 59443],\n",
       " [31901, 26200, 81583, 14801, 45264, 59443, 70316])"
      ]
     },
     "execution_count": 92,
     "metadata": {},
     "output_type": "execute_result"
    }
   ],
   "source": [
    "sent_to_vec(train_data[0]),sent_to_vec(train_data[1])"
   ]
  },
  {
   "cell_type": "code",
   "execution_count": 93,
   "metadata": {},
   "outputs": [],
   "source": [
    "train_input = []\n",
    "train_target = []\n",
    "for data in train_data:\n",
    "    train_input.append(sent_to_vec(data[:N])+sent_to_vec(data[N+1:]))\n",
    "    train_target.append(word_to_id[data[N]])"
   ]
  },
  {
   "cell_type": "code",
   "execution_count": 94,
   "metadata": {},
   "outputs": [],
   "source": [
    "train = torch.utils.data.TensorDataset(torch.tensor(train_input), torch.tensor(train_target))"
   ]
  },
  {
   "cell_type": "markdown",
   "metadata": {},
   "source": [
    "CBOW 모델 생성"
   ]
  },
  {
   "cell_type": "code",
   "execution_count": 55,
   "metadata": {},
   "outputs": [],
   "source": [
    "class CBOW(nn.Module):\n",
    "    def __init__(self, vec_dim):\n",
    "        super(CBOW,self).__init__()\n",
    "        self.emb = nn.Embedding(len(vocab), vec_dim)\n",
    "        self.lin = nn.Linear(vec_dim, len(vocab), bias=False)\n",
    "        \n",
    "    def forward(self, x):\n",
    "        x = torch.mean(self.emb(x), dim=1)\n",
    "        x = self.lin(x).view(-1,len(vocab))\n",
    "        return x"
   ]
  },
  {
   "cell_type": "code",
   "execution_count": 95,
   "metadata": {},
   "outputs": [],
   "source": [
    "model = CBOW(VEC_DIM)"
   ]
  },
  {
   "cell_type": "code",
   "execution_count": 96,
   "metadata": {},
   "outputs": [],
   "source": [
    "loss_f = nn.CrossEntropyLoss()"
   ]
  },
  {
   "cell_type": "code",
   "execution_count": 97,
   "metadata": {},
   "outputs": [
    {
     "data": {
      "text/plain": [
       "CBOW(\n",
       "  (emb): Embedding(83593, 100)\n",
       "  (lin): Linear(in_features=100, out_features=83593, bias=False)\n",
       ")"
      ]
     },
     "execution_count": 97,
     "metadata": {},
     "output_type": "execute_result"
    }
   ],
   "source": [
    "model.to(dev)"
   ]
  },
  {
   "cell_type": "code",
   "execution_count": 98,
   "metadata": {},
   "outputs": [],
   "source": [
    "BATCH_SIZE = 128\n",
    "optimizer = optim.Adam(model.parameters(), lr=0.01)"
   ]
  },
  {
   "cell_type": "code",
   "execution_count": 99,
   "metadata": {},
   "outputs": [],
   "source": [
    "input_loader = torch.utils.data.DataLoader(train, batch_size=BATCH_SIZE)"
   ]
  },
  {
   "cell_type": "code",
   "execution_count": 100,
   "metadata": {},
   "outputs": [],
   "source": [
    "check = 1000\n",
    "epoch = 1"
   ]
  },
  {
   "cell_type": "code",
   "execution_count": 101,
   "metadata": {},
   "outputs": [
    {
     "name": "stdout",
     "output_type": "stream",
     "text": [
      "Epoch : 0, Iteration : 0, Loss : 0.01, Elapsed time : 0h 0m 0s\n",
      "Epoch : 0, Iteration : 1000, Loss : 6.90, Elapsed time : 0h 0m 18s\n",
      "Epoch : 0, Iteration : 2000, Loss : 6.76, Elapsed time : 0h 0m 37s\n",
      "Epoch : 0, Iteration : 3000, Loss : 6.66, Elapsed time : 0h 0m 56s\n",
      "Epoch : 0, Iteration : 4000, Loss : 6.46, Elapsed time : 0h 1m 15s\n",
      "Epoch : 0, Iteration : 5000, Loss : 6.39, Elapsed time : 0h 1m 34s\n",
      "Epoch : 0, Iteration : 6000, Loss : 6.29, Elapsed time : 0h 1m 53s\n",
      "Epoch : 0, Iteration : 7000, Loss : 6.30, Elapsed time : 0h 2m 12s\n",
      "Epoch : 0, Iteration : 8000, Loss : 6.31, Elapsed time : 0h 2m 31s\n",
      "Epoch : 0, Iteration : 9000, Loss : 6.32, Elapsed time : 0h 2m 50s\n",
      "Epoch : 0, Iteration : 10000, Loss : 6.05, Elapsed time : 0h 3m 8s\n",
      "Epoch : 0, Iteration : 11000, Loss : 5.86, Elapsed time : 0h 3m 27s\n",
      "Epoch : 0, Iteration : 12000, Loss : 6.04, Elapsed time : 0h 3m 46s\n",
      "Epoch : 0, Iteration : 13000, Loss : 6.02, Elapsed time : 0h 4m 4s\n",
      "Epoch : 0, Iteration : 14000, Loss : 5.98, Elapsed time : 0h 4m 23s\n",
      "Epoch : 0, Iteration : 15000, Loss : 5.93, Elapsed time : 0h 4m 41s\n",
      "Epoch : 0, Iteration : 16000, Loss : 5.97, Elapsed time : 0h 5m 0s\n",
      "Epoch : 0, Iteration : 17000, Loss : 5.90, Elapsed time : 0h 5m 19s\n",
      "Epoch : 0, Iteration : 18000, Loss : 5.87, Elapsed time : 0h 5m 37s\n",
      "Epoch : 0, Iteration : 19000, Loss : 5.82, Elapsed time : 0h 5m 56s\n",
      "Epoch : 0, Iteration : 20000, Loss : 5.85, Elapsed time : 0h 6m 15s\n",
      "Epoch : 0, Iteration : 21000, Loss : 5.74, Elapsed time : 0h 6m 34s\n",
      "Epoch : 0, Iteration : 22000, Loss : 5.96, Elapsed time : 0h 6m 52s\n",
      "Epoch : 0, Iteration : 23000, Loss : 5.90, Elapsed time : 0h 7m 11s\n",
      "Epoch : 0, Iteration : 24000, Loss : 5.82, Elapsed time : 0h 7m 30s\n",
      "Epoch : 0, Iteration : 25000, Loss : 5.81, Elapsed time : 0h 7m 49s\n",
      "Epoch : 0, Iteration : 26000, Loss : 5.74, Elapsed time : 0h 8m 7s\n",
      "Epoch : 0, Iteration : 27000, Loss : 5.71, Elapsed time : 0h 8m 26s\n",
      "Epoch : 0, Iteration : 28000, Loss : 5.78, Elapsed time : 0h 8m 45s\n"
     ]
    }
   ],
   "source": [
    "# GPU time\n",
    "start = time.time()\n",
    "\n",
    "loss_list = []\n",
    "\n",
    "for epo in range(epoch):\n",
    "    loss_sum = 0\n",
    "    for i, (x, y) in enumerate(input_loader):\n",
    "\n",
    "        x,y = x.to(dev), y.to(dev)\n",
    "        optimizer.zero_grad()\n",
    "        \n",
    "        output = model(x)\n",
    "        \n",
    "        loss = loss_f(output, y)\n",
    "        loss.backward()\n",
    "        optimizer.step()\n",
    "        \n",
    "        loss_sum += loss.item()\n",
    "        \n",
    "        \n",
    "        if i % check == 0:        \n",
    "            elap = int(time.time() - start)\n",
    "            loss_list.append(loss_sum/check)\n",
    "            print('Epoch : {}, Iteration : {}, Loss : {:.2f}, Elapsed time : {:.0f}h {:.0f}m {}s'.format(\\\n",
    "                epo, i, loss_sum / check, elap // 3600, (elap % 3600) // 60, str(int((elap % 3600) % 60))))\n",
    "            loss_sum = 0"
   ]
  },
  {
   "cell_type": "code",
   "execution_count": 102,
   "metadata": {},
   "outputs": [
    {
     "data": {
      "text/plain": [
       "[<matplotlib.lines.Line2D at 0x1f0e4b3a0c8>]"
      ]
     },
     "execution_count": 102,
     "metadata": {},
     "output_type": "execute_result"
    },
    {
     "data": {
      "image/png": "[encoded data removed]",
      "text/plain": [
       "<Figure size 432x288 with 1 Axes>"
      ]
     },
     "metadata": {
      "needs_background": "light"
     },
     "output_type": "display_data"
    }
   ],
   "source": [
    "plt.plot(loss_list)"
   ]
  },
  {
   "cell_type": "code",
   "execution_count": 103,
   "metadata": {},
   "outputs": [],
   "source": [
    "save_path = 'CBOW_N3_1epoch.pt'#.format(epoch)\n",
    "torch.save(model.state_dict(), save_path)"
   ]
  },
  {
   "cell_type": "code",
   "execution_count": 21,
   "metadata": {},
   "outputs": [
    {
     "data": {
      "text/plain": [
       "CBOW(\n",
       "  (emb): Embedding(114937, 100)\n",
       "  (lin): Linear(in_features=100, out_features=114937, bias=False)\n",
       ")"
      ]
     },
     "execution_count": 21,
     "metadata": {},
     "output_type": "execute_result"
    }
   ],
   "source": [
    "path = 'CBOW_5epoch.pt'\n",
    "model = CBOW(VEC_DIM)\n",
    "model.load_state_dict(torch.load(path))\n",
    "model.eval()"
   ]
  },
  {
   "cell_type": "code",
   "execution_count": 104,
   "metadata": {},
   "outputs": [],
   "source": [
    "def similar_words(model, word, k=10):\n",
    "    cos = nn.CosineSimilarity(dim=1, eps=1e-6)\n",
    "    \n",
    "    word_id = torch.tensor([word_to_id[word]])\n",
    "    word_vec = model.emb(word_id)\n",
    "    word_mat = next(iter(model.emb.parameters())).detach()\n",
    "    \n",
    "    cos_mat = cos(word_vec, word_mat)\n",
    "    sim, indices = torch.topk(cos_mat,k+1)\n",
    "    \n",
    "    \n",
    "    word_list = []\n",
    "    for i in indices:\n",
    "        if i != word_id:\n",
    "            word_list.append(id_to_word[i])\n",
    "    return word_list, sim[1:].detach()"
   ]
  },
  {
   "cell_type": "code",
   "execution_count": 180,
   "metadata": {},
   "outputs": [
    {
     "data": {
      "text/plain": [
       "(['곳', '시장', '민족', '구간', '빌리치', '영역', '지방', '나라', '간담', '붕당'],\n",
       " tensor([0.6377, 0.5033, 0.4792, 0.4789, 0.4776, 0.4514, 0.4473, 0.4390, 0.4388,\n",
       "         0.4383]))"
      ]
     },
     "execution_count": 180,
     "metadata": {},
     "output_type": "execute_result"
    }
   ],
   "source": [
    "similar_words(model.to('cpu'), '지역')"
   ]
  },
  {
   "cell_type": "code",
   "execution_count": 181,
   "metadata": {},
   "outputs": [
    {
     "data": {
      "text/plain": [
       "(['아버지', '아내', '그녀', '크기', '진정서', '인제', '피해자', '엄마', '정부', '세조'],\n",
       " tensor([0.5977, 0.5660, 0.5630, 0.5254, 0.5107, 0.4938, 0.4917, 0.4824, 0.4766,\n",
       "         0.4732]))"
      ]
     },
     "execution_count": 181,
     "metadata": {},
     "output_type": "execute_result"
    }
   ],
   "source": [
    "similar_words(model.to('cpu'), '어머니')"
   ]
  },
  {
   "cell_type": "code",
   "execution_count": 182,
   "metadata": {},
   "outputs": [
    {
     "data": {
      "text/plain": [
       "(['일본', '한국', '미국', '우라야스', '자국', '중국', '에스토니아', '왜관', 'Στίλβων', '대부분'],\n",
       " tensor([0.5484, 0.4867, 0.4831, 0.4346, 0.4197, 0.4153, 0.4115, 0.4053, 0.4029,\n",
       "         0.4027]))"
      ]
     },
     "execution_count": 182,
     "metadata": {},
     "output_type": "execute_result"
    }
   ],
   "source": [
    "similar_words(model.to('cpu'), '대한민국')"
   ]
  },
  {
   "cell_type": "code",
   "execution_count": 183,
   "metadata": {},
   "outputs": [
    {
     "data": {
      "text/plain": [
       "(['정보', '캐릭터', '성능', '예물', '상식', '가치', '인터페이스', '변화', '으신다', '병리'],\n",
       " tensor([0.4606, 0.4514, 0.4488, 0.4450, 0.4408, 0.4169, 0.4166, 0.4081, 0.4036,\n",
       "         0.4032]))"
      ]
     },
     "execution_count": 183,
     "metadata": {},
     "output_type": "execute_result"
    }
   ],
   "source": [
    "similar_words(model.to('cpu'), '컴퓨터')"
   ]
  },
  {
   "cell_type": "code",
   "execution_count": null,
   "metadata": {},
   "outputs": [],
   "source": [
    "similar_words(model.to('cpu'), '')"
   ]
  },
  {
   "cell_type": "code",
   "execution_count": 111,
   "metadata": {},
   "outputs": [],
   "source": [
    "def analogy(model, word1, word2, word3,k=10):\n",
    "    cos = nn.CosineSimilarity(dim=1, eps=1e-6)\n",
    "    \n",
    "    word_id1 = torch.tensor([word_to_id[word1]])\n",
    "    word_id2 = torch.tensor([word_to_id[word2]])\n",
    "    word_id3 = torch.tensor([word_to_id[word3]])\n",
    "    word_vec1 = model.emb(word_id1)\n",
    "    word_vec2 = model.emb(word_id2)\n",
    "    word_vec3 = model.emb(word_id3)\n",
    "    word_mat = next(iter(model.emb.parameters())).detach()\n",
    "    \n",
    "    cos_mat = cos(word_vec1-word_vec2+word_vec3, word_mat)\n",
    "    sim, indices = torch.topk(cos_mat,k)\n",
    "    \n",
    "    \n",
    "    word_list = []\n",
    "    for i in indices:\n",
    "        word_list.append(id_to_word[i])\n",
    "    return word_list, sim[1:].detach()"
   ]
  },
  {
   "cell_type": "code",
   "execution_count": 112,
   "metadata": {
    "scrolled": true
   },
   "outputs": [
    {
     "data": {
      "text/plain": [
       "(['파리', '한국', '참전', '산량', '입대', '사염', '걸쳐서', '프랑스와', '달했으며', '발매되'],\n",
       " tensor([0.5320, 0.5006, 0.3921, 0.3908, 0.3891, 0.3889, 0.3769, 0.3733, 0.3731]))"
      ]
     },
     "execution_count": 112,
     "metadata": {},
     "output_type": "execute_result"
    }
   ],
   "source": [
    "analogy(model,'한국','서울','파리')"
   ]
  },
  {
   "cell_type": "code",
   "execution_count": 113,
   "metadata": {},
   "outputs": [
    {
     "data": {
      "text/plain": [
       "(['왕', '동반성', '합당', '신탁', '핀란드어', '왕위', '여자', '와이드', '크시슈토프', '콜먼'],\n",
       " tensor([0.4096, 0.4065, 0.4057, 0.3908, 0.3795, 0.3704, 0.3678, 0.3669, 0.3643]))"
      ]
     },
     "execution_count": 113,
     "metadata": {},
     "output_type": "execute_result"
    }
   ],
   "source": [
    "analogy(model,'왕','남자','여자')"
   ]
  },
  {
   "cell_type": "markdown",
   "metadata": {},
   "source": [
    "N=5 일때보다 N=3 으로 하니까 뭔가 잘되는 느낌...\n",
    "이제 skip-gram으로 해보자."
   ]
  },
  {
   "cell_type": "markdown",
   "metadata": {},
   "source": [
    "### 이번엔 Skip-gram 모델...\n",
    "\n",
    "먼저 훈련데이터 형식을 [중심단어, 문맥단어] 으로 바꾸자."
   ]
  },
  {
   "cell_type": "code",
   "execution_count": 127,
   "metadata": {},
   "outputs": [
    {
     "name": "stdout",
     "output_type": "stream",
     "text": [
      "Wall time: 15.2 s\n"
     ]
    }
   ],
   "source": [
    "%%time\n",
    "train_input = []\n",
    "train_target = []\n",
    "for data in train_data:\n",
    "    target = sent_to_vec(data[:N])+sent_to_vec(data[N+1:])\n",
    "    for i in range(len(target)):\n",
    "        train_input.append(word_to_id[data[N]])\n",
    "        train_target.append(target[i])\n"
   ]
  },
  {
   "cell_type": "code",
   "execution_count": 128,
   "metadata": {},
   "outputs": [
    {
     "data": {
      "text/plain": [
       "(['1', '8', '3', '9', '년', '바그너', '는'], ['8', '3', '9', '년', '바그너', '는', '괴테'])"
      ]
     },
     "execution_count": 128,
     "metadata": {},
     "output_type": "execute_result"
    }
   ],
   "source": [
    "train_data[0], train_data[1]"
   ]
  },
  {
   "cell_type": "code",
   "execution_count": 129,
   "metadata": {},
   "outputs": [
    {
     "data": {
      "text/plain": [
       "[26494, 31901, 26200, 81583, 14801, 45264, 59443]"
      ]
     },
     "execution_count": 129,
     "metadata": {},
     "output_type": "execute_result"
    }
   ],
   "source": [
    "sent_to_vec(train_data[0])"
   ]
  },
  {
   "cell_type": "code",
   "execution_count": 132,
   "metadata": {},
   "outputs": [
    {
     "data": {
      "text/plain": [
       "(81583, 26494)"
      ]
     },
     "execution_count": 132,
     "metadata": {},
     "output_type": "execute_result"
    }
   ],
   "source": [
    "train_input[0], train_target[0]"
   ]
  },
  {
   "cell_type": "code",
   "execution_count": 133,
   "metadata": {},
   "outputs": [
    {
     "data": {
      "text/plain": [
       "(21793818, 21793818)"
      ]
     },
     "execution_count": 133,
     "metadata": {},
     "output_type": "execute_result"
    }
   ],
   "source": [
    "len(train_input), len(train_target)"
   ]
  },
  {
   "cell_type": "code",
   "execution_count": 134,
   "metadata": {},
   "outputs": [],
   "source": [
    "train = torch.utils.data.TensorDataset(torch.tensor(train_input), torch.tensor(train_target))"
   ]
  },
  {
   "cell_type": "code",
   "execution_count": 135,
   "metadata": {},
   "outputs": [],
   "source": [
    "emb = nn.Embedding(len(vocab), VEC_DIM)\n",
    "lin = nn.Linear(VEC_DIM, len(vocab), bias=False)"
   ]
  },
  {
   "cell_type": "code",
   "execution_count": 156,
   "metadata": {},
   "outputs": [],
   "source": [
    "BATCH_SIZE=128\n",
    "input_loader = torch.utils.data.DataLoader(train, batch_size=BATCH_SIZE, shuffle=True)"
   ]
  },
  {
   "cell_type": "code",
   "execution_count": 145,
   "metadata": {},
   "outputs": [],
   "source": [
    "class Skipgram(nn.Module):\n",
    "    def __init__(self, vec_dim):\n",
    "        super(Skipgram,self).__init__()\n",
    "        self.emb = nn.Embedding(len(vocab), vec_dim)\n",
    "        self.lin = nn.Linear(vec_dim, len(vocab), bias=False)\n",
    "        \n",
    "    def forward(self, x):\n",
    "        x = self.emb(x)\n",
    "        x = self.lin(x)#.view(-1,len(vocab))\n",
    "        return x"
   ]
  },
  {
   "cell_type": "code",
   "execution_count": 157,
   "metadata": {},
   "outputs": [],
   "source": [
    "model_sg = Skipgram(VEC_DIM).to(dev)"
   ]
  },
  {
   "cell_type": "code",
   "execution_count": 158,
   "metadata": {},
   "outputs": [],
   "source": [
    "loss_f = nn.CrossEntropyLoss()\n",
    "optimizer = optim.Adam(model_sg.parameters(), lr=0.01)"
   ]
  },
  {
   "cell_type": "code",
   "execution_count": 170,
   "metadata": {},
   "outputs": [],
   "source": [
    "check = 5000\n",
    "epoch = 2"
   ]
  },
  {
   "cell_type": "code",
   "execution_count": 172,
   "metadata": {},
   "outputs": [
    {
     "data": {
      "text/plain": [
       "Skipgram(\n",
       "  (emb): Embedding(83593, 100)\n",
       "  (lin): Linear(in_features=100, out_features=83593, bias=False)\n",
       ")"
      ]
     },
     "execution_count": 172,
     "metadata": {},
     "output_type": "execute_result"
    }
   ],
   "source": [
    "model_sg.to(dev)"
   ]
  },
  {
   "cell_type": "code",
   "execution_count": 173,
   "metadata": {},
   "outputs": [
    {
     "name": "stdout",
     "output_type": "stream",
     "text": [
      "Epoch : 0, Iteration : 0, Loss : 0.00, Elapsed time : 0h 0m 1s\n",
      "Epoch : 0, Iteration : 5000, Loss : 7.39, Elapsed time : 0h 1m 33s\n",
      "Epoch : 0, Iteration : 10000, Loss : 7.40, Elapsed time : 0h 3m 6s\n",
      "Epoch : 0, Iteration : 15000, Loss : 7.40, Elapsed time : 0h 4m 39s\n",
      "Epoch : 0, Iteration : 20000, Loss : 7.39, Elapsed time : 0h 6m 11s\n",
      "Epoch : 0, Iteration : 25000, Loss : 7.40, Elapsed time : 0h 7m 41s\n",
      "Epoch : 0, Iteration : 30000, Loss : 7.39, Elapsed time : 0h 9m 13s\n",
      "Epoch : 0, Iteration : 35000, Loss : 7.38, Elapsed time : 0h 10m 45s\n",
      "Epoch : 0, Iteration : 40000, Loss : 7.38, Elapsed time : 0h 12m 18s\n",
      "Epoch : 0, Iteration : 45000, Loss : 7.36, Elapsed time : 0h 13m 51s\n",
      "Epoch : 0, Iteration : 50000, Loss : 7.36, Elapsed time : 0h 15m 24s\n",
      "Epoch : 0, Iteration : 55000, Loss : 7.36, Elapsed time : 0h 16m 57s\n",
      "Epoch : 0, Iteration : 60000, Loss : 7.36, Elapsed time : 0h 18m 30s\n",
      "Epoch : 0, Iteration : 65000, Loss : 7.35, Elapsed time : 0h 20m 3s\n",
      "Epoch : 0, Iteration : 70000, Loss : 7.35, Elapsed time : 0h 21m 36s\n",
      "Epoch : 0, Iteration : 75000, Loss : 7.35, Elapsed time : 0h 23m 9s\n",
      "Epoch : 0, Iteration : 80000, Loss : 7.35, Elapsed time : 0h 24m 42s\n",
      "Epoch : 0, Iteration : 85000, Loss : 7.35, Elapsed time : 0h 26m 15s\n",
      "Epoch : 0, Iteration : 90000, Loss : 7.36, Elapsed time : 0h 27m 48s\n",
      "Epoch : 0, Iteration : 95000, Loss : 7.36, Elapsed time : 0h 29m 21s\n",
      "Epoch : 0, Iteration : 100000, Loss : 7.36, Elapsed time : 0h 30m 55s\n",
      "Epoch : 0, Iteration : 105000, Loss : 7.36, Elapsed time : 0h 32m 28s\n",
      "Epoch : 0, Iteration : 110000, Loss : 7.37, Elapsed time : 0h 34m 1s\n",
      "Epoch : 0, Iteration : 115000, Loss : 7.38, Elapsed time : 0h 35m 34s\n",
      "Epoch : 0, Iteration : 120000, Loss : 7.38, Elapsed time : 0h 37m 4s\n",
      "Epoch : 0, Iteration : 125000, Loss : 7.38, Elapsed time : 0h 38m 34s\n",
      "Epoch : 0, Iteration : 130000, Loss : 7.38, Elapsed time : 0h 40m 6s\n",
      "Epoch : 0, Iteration : 135000, Loss : 7.39, Elapsed time : 0h 41m 39s\n",
      "Epoch : 0, Iteration : 140000, Loss : 7.39, Elapsed time : 0h 43m 12s\n",
      "Epoch : 0, Iteration : 145000, Loss : 7.40, Elapsed time : 0h 44m 44s\n",
      "Epoch : 0, Iteration : 150000, Loss : 7.39, Elapsed time : 0h 46m 17s\n",
      "Epoch : 0, Iteration : 155000, Loss : 7.40, Elapsed time : 0h 47m 49s\n",
      "Epoch : 0, Iteration : 160000, Loss : 7.40, Elapsed time : 0h 49m 22s\n",
      "Epoch : 0, Iteration : 165000, Loss : 7.40, Elapsed time : 0h 50m 55s\n",
      "Epoch : 0, Iteration : 170000, Loss : 7.40, Elapsed time : 0h 52m 27s\n",
      "Epoch : 1, Iteration : 0, Loss : 0.00, Elapsed time : 0h 52m 34s\n",
      "Epoch : 1, Iteration : 5000, Loss : 7.35, Elapsed time : 0h 54m 7s\n",
      "Epoch : 1, Iteration : 10000, Loss : 7.37, Elapsed time : 0h 55m 39s\n",
      "Epoch : 1, Iteration : 15000, Loss : 7.37, Elapsed time : 0h 57m 12s\n",
      "Epoch : 1, Iteration : 20000, Loss : 7.37, Elapsed time : 0h 58m 45s\n",
      "Epoch : 1, Iteration : 25000, Loss : 7.36, Elapsed time : 1h 0m 18s\n",
      "Epoch : 1, Iteration : 30000, Loss : 7.36, Elapsed time : 1h 1m 51s\n",
      "Epoch : 1, Iteration : 35000, Loss : 7.37, Elapsed time : 1h 3m 24s\n",
      "Epoch : 1, Iteration : 40000, Loss : 7.35, Elapsed time : 1h 4m 58s\n",
      "Epoch : 1, Iteration : 45000, Loss : 7.35, Elapsed time : 1h 6m 31s\n",
      "Epoch : 1, Iteration : 50000, Loss : 7.34, Elapsed time : 1h 8m 4s\n",
      "Epoch : 1, Iteration : 55000, Loss : 7.34, Elapsed time : 1h 9m 38s\n",
      "Epoch : 1, Iteration : 60000, Loss : 7.33, Elapsed time : 1h 11m 11s\n",
      "Epoch : 1, Iteration : 65000, Loss : 7.32, Elapsed time : 1h 12m 44s\n",
      "Epoch : 1, Iteration : 70000, Loss : 7.33, Elapsed time : 1h 14m 17s\n",
      "Epoch : 1, Iteration : 75000, Loss : 7.34, Elapsed time : 1h 15m 50s\n",
      "Epoch : 1, Iteration : 80000, Loss : 7.34, Elapsed time : 1h 17m 24s\n",
      "Epoch : 1, Iteration : 85000, Loss : 7.34, Elapsed time : 1h 18m 57s\n",
      "Epoch : 1, Iteration : 90000, Loss : 7.35, Elapsed time : 1h 20m 30s\n",
      "Epoch : 1, Iteration : 95000, Loss : 7.34, Elapsed time : 1h 22m 3s\n",
      "Epoch : 1, Iteration : 100000, Loss : 7.35, Elapsed time : 1h 23m 36s\n",
      "Epoch : 1, Iteration : 105000, Loss : 7.36, Elapsed time : 1h 25m 9s\n",
      "Epoch : 1, Iteration : 110000, Loss : 7.36, Elapsed time : 1h 26m 42s\n",
      "Epoch : 1, Iteration : 115000, Loss : 7.36, Elapsed time : 1h 28m 15s\n",
      "Epoch : 1, Iteration : 120000, Loss : 7.37, Elapsed time : 1h 29m 48s\n",
      "Epoch : 1, Iteration : 125000, Loss : 7.39, Elapsed time : 1h 31m 21s\n",
      "Epoch : 1, Iteration : 130000, Loss : 7.38, Elapsed time : 1h 32m 54s\n",
      "Epoch : 1, Iteration : 135000, Loss : 7.39, Elapsed time : 1h 34m 27s\n",
      "Epoch : 1, Iteration : 140000, Loss : 7.39, Elapsed time : 1h 36m 0s\n",
      "Epoch : 1, Iteration : 145000, Loss : 7.39, Elapsed time : 1h 37m 33s\n",
      "Epoch : 1, Iteration : 150000, Loss : 7.41, Elapsed time : 1h 39m 7s\n",
      "Epoch : 1, Iteration : 155000, Loss : 7.41, Elapsed time : 1h 40m 40s\n",
      "Epoch : 1, Iteration : 160000, Loss : 7.41, Elapsed time : 1h 42m 13s\n",
      "Epoch : 1, Iteration : 165000, Loss : 7.41, Elapsed time : 1h 43m 46s\n",
      "Epoch : 1, Iteration : 170000, Loss : 7.42, Elapsed time : 1h 45m 20s\n"
     ]
    }
   ],
   "source": [
    "# GPU time\n",
    "start = time.time()\n",
    "\n",
    "#loss_list = []\n",
    "\n",
    "for epo in range(epoch):\n",
    "    loss_sum = 0\n",
    "    for i, (x, y) in enumerate(input_loader):\n",
    "\n",
    "        x,y = x.to(dev), y.to(dev)\n",
    "        optimizer.zero_grad()\n",
    "        \n",
    "        output = model_sg(x)\n",
    "        \n",
    "        loss = loss_f(output, y)\n",
    "        loss.backward()\n",
    "        optimizer.step()\n",
    "        \n",
    "        loss_sum += loss.item()\n",
    "        \n",
    "        \n",
    "        if i % check == 0:        \n",
    "            elap = int(time.time() - start)\n",
    "            loss_list.append(loss_sum/check)\n",
    "            print('Epoch : {}, Iteration : {}, Loss : {:.2f}, Elapsed time : {:.0f}h {:.0f}m {}s'.format(\\\n",
    "                epo, i, loss_sum / check, elap // 3600, (elap % 3600) // 60, str(int((elap % 3600) % 60))))\n",
    "            loss_sum = 0"
   ]
  },
  {
   "cell_type": "code",
   "execution_count": 174,
   "metadata": {},
   "outputs": [
    {
     "data": {
      "text/plain": [
       "[<matplotlib.lines.Line2D at 0x1f0e4aee808>]"
      ]
     },
     "execution_count": 174,
     "metadata": {},
     "output_type": "execute_result"
    },
    {
     "data": {
      "image/png": "[encoded data removed]",
      "text/plain": [
       "<Figure size 432x288 with 1 Axes>"
      ]
     },
     "metadata": {
      "needs_background": "light"
     },
     "output_type": "display_data"
    }
   ],
   "source": [
    "plt.plot(loss_list)"
   ]
  },
  {
   "cell_type": "code",
   "execution_count": 175,
   "metadata": {},
   "outputs": [],
   "source": [
    "save_path = 'SG_N3_3epoch.pt'#.format(epoch)\n",
    "torch.save(model_sg.state_dict(), save_path)"
   ]
  },
  {
   "cell_type": "code",
   "execution_count": 176,
   "metadata": {},
   "outputs": [
    {
     "data": {
      "text/plain": [
       "(['과', '유아사', '득실거리', '보모', '지코', '김정화', '검찰청', '속하', '장소', '지금'],\n",
       " tensor([0.5190, 0.4759, 0.4567, 0.4330, 0.4231, 0.4205, 0.4199, 0.4187, 0.4139,\n",
       "         0.4085]))"
      ]
     },
     "execution_count": 176,
     "metadata": {},
     "output_type": "execute_result"
    }
   ],
   "source": [
    "similar_words(model_sg.to('cpu'), '지역')"
   ]
  },
  {
   "cell_type": "code",
   "execution_count": 177,
   "metadata": {},
   "outputs": [
    {
     "data": {
      "text/plain": [
       "(['선조', '그', '백록', '장기하', '하치조', '오스', '루시', '에른스트', '아이', '데뷔작'],\n",
       " tensor([0.4927, 0.4756, 0.4455, 0.4180, 0.4145, 0.4031, 0.3993, 0.3988, 0.3967,\n",
       "         0.3941]))"
      ]
     },
     "execution_count": 177,
     "metadata": {},
     "output_type": "execute_result"
    }
   ],
   "source": [
    "similar_words(model_sg.to('cpu'), '어머니')"
   ]
  },
  {
   "cell_type": "code",
   "execution_count": 178,
   "metadata": {},
   "outputs": [
    {
     "data": {
      "text/plain": [
       "(['및', '년', '아시아', '병력', '5', '선거', '본부', '인천', '7', '론'],\n",
       " tensor([0.4887, 0.4550, 0.4481, 0.4243, 0.4039, 0.4027, 0.3944, 0.3941, 0.3936,\n",
       "         0.3915]))"
      ]
     },
     "execution_count": 178,
     "metadata": {},
     "output_type": "execute_result"
    }
   ],
   "source": [
    "similar_words(model_sg.to('cpu'), '대한민국')"
   ]
  },
  {
   "cell_type": "code",
   "execution_count": 179,
   "metadata": {},
   "outputs": [
    {
     "data": {
      "text/plain": [
       "(['에볼라', '고래', '부분', '윔', '느낀다는', '스몰', '인화물', '편곡', '초신성', '아이템'],\n",
       " tensor([0.4224, 0.4050, 0.3938, 0.3918, 0.3844, 0.3837, 0.3787, 0.3598, 0.3581,\n",
       "         0.3569]))"
      ]
     },
     "execution_count": 179,
     "metadata": {},
     "output_type": "execute_result"
    }
   ],
   "source": [
    "similar_words(model_sg.to('cpu'), '컴퓨터')"
   ]
  },
  {
   "cell_type": "code",
   "execution_count": 169,
   "metadata": {},
   "outputs": [
    {
     "data": {
      "text/plain": [
       "(['파리', '원정', '한국', '바이크', '벌목', '사이펀', '겨우', '박신양', '동부', '허물'],\n",
       " tensor([0.4750, 0.4459, 0.4239, 0.4016, 0.3893, 0.3867, 0.3844, 0.3778, 0.3735]))"
      ]
     },
     "execution_count": 169,
     "metadata": {},
     "output_type": "execute_result"
    }
   ],
   "source": [
    "analogy(model_sg,'한국','서울','파리')"
   ]
  },
  {
   "cell_type": "code",
   "execution_count": null,
   "metadata": {},
   "outputs": [],
   "source": []
  }
 ],
 "metadata": {
  "kernelspec": {
   "display_name": "Python 3",
   "language": "python",
   "name": "python3"
  },
  "language_info": {
   "codemirror_mode": {
    "name": "ipython",
    "version": 3
   },
   "file_extension": ".py",
   "mimetype": "text/x-python",
   "name": "python",
   "nbconvert_exporter": "python",
   "pygments_lexer": "ipython3",
   "version": "3.7.4"
  }
 },
 "nbformat": 4,
 "nbformat_minor": 2
}
