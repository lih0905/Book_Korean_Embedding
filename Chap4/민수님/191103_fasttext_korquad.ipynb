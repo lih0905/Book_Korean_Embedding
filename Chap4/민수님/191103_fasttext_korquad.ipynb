{
 "cells": [
  {
   "cell_type": "code",
   "execution_count": 1,
   "metadata": {},
   "outputs": [],
   "source": [
    "import fasttext"
   ]
  },
  {
   "cell_type": "code",
   "execution_count": 15,
   "metadata": {},
   "outputs": [
    {
     "name": "stderr",
     "output_type": "stream",
     "text": [
      "\n"
     ]
    }
   ],
   "source": [
    "model = fasttext.load_model('./data/word-embeddings/fasttext/fasttext.bin')"
   ]
  },
  {
   "cell_type": "code",
   "execution_count": 18,
   "metadata": {},
   "outputs": [],
   "source": [
    "import models.word_eval"
   ]
  },
  {
   "cell_type": "code",
   "execution_count": 20,
   "metadata": {},
   "outputs": [
    {
     "name": "stderr",
     "output_type": "stream",
     "text": [
      "\n"
     ]
    }
   ],
   "source": [
    "model = models.word_eval.WordEmbeddingEvaluator(\n",
    "    vecs_txt_fname = './data/word-embeddings/fasttext/fasttext.vec',\n",
    "    vecs_bin_fname = './data/word-embeddings/fasttext/fasttext.bin',\n",
    "    method='fasttext', dim=100, tokenizer_name='mecab')"
   ]
  },
  {
   "cell_type": "code",
   "execution_count": 21,
   "metadata": {},
   "outputs": [
    {
     "data": {
      "text/plain": [
       "[('김대통령', 0.8329841395601176),\n",
       " ('루스벨트', 0.7437526865255558),\n",
       " ('대통령령', 0.7407945029013183),\n",
       " ('김영삼', 0.7265201743690457),\n",
       " ('부통령', 0.7254299801651853),\n",
       " ('문재', 0.7246341468773319),\n",
       " ('대통', 0.7164657819064795),\n",
       " ('시어도어', 0.7137464581236292),\n",
       " ('메드베데프', 0.7131546265527343),\n",
       " ('아이젠하워', 0.711914117801366)]"
      ]
     },
     "execution_count": 21,
     "metadata": {},
     "output_type": "execute_result"
    }
   ],
   "source": [
    "model.most_similar(\"대통령\")"
   ]
  },
  {
   "cell_type": "code",
   "execution_count": 22,
   "metadata": {},
   "outputs": [
    {
     "data": {
      "text/plain": [
       "[('였', 0.8904696920920094),\n",
       " ('했', 0.8605284020073041),\n",
       " ('다', 0.8308236441002503),\n",
       " ('.', 0.7954372016535329),\n",
       " ('고', 0.7622287356569821),\n",
       " ('또한', 0.7527888891194932),\n",
       " ('는', 0.748023352482071),\n",
       " ('을', 0.7463404381964546),\n",
       " ('도', 0.7356440465421861),\n",
       " ('굳히', 0.7322947669529871)]"
      ]
     },
     "execution_count": 22,
     "metadata": {},
     "output_type": "execute_result"
    }
   ],
   "source": [
    "model.most_similar(\"하였다\")"
   ]
  },
  {
   "cell_type": "code",
   "execution_count": null,
   "metadata": {},
   "outputs": [],
   "source": []
  }
 ],
 "metadata": {
  "kernelspec": {
   "display_name": "Python 3",
   "language": "python",
   "name": "python3"
  },
  "language_info": {
   "codemirror_mode": {
    "name": "ipython",
    "version": 3
   },
   "file_extension": ".py",
   "mimetype": "text/x-python",
   "name": "python",
   "nbconvert_exporter": "python",
   "pygments_lexer": "ipython3",
   "version": "3.5.2"
  }
 },
 "nbformat": 4,
 "nbformat_minor": 2
}
