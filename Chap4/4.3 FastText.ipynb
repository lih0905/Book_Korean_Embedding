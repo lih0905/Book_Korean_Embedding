{
 "cells": [
  {
   "cell_type": "markdown",
   "metadata": {},
   "source": [
    "# 4.3 FastText\n",
    "\n",
    "윈도우에서는 FastText 공식 패키지는 구동이 불가능하므로 다음 [링크](https://medium.com/@juneoh/windows%EC%9A%A9-fasttext-%EB%B0%94%EC%9D%B4%EB%84%88%EB%A6%AC%EB%93%A4-727829b010a)에서 알려주는 방법대로 실행한다.\n",
    "\n",
    "첫번째 방법을 이용하여 커맨드라인에서 다음 줄을 실행한다.\n",
    "\n",
    "`fasttext_win/fasttext.exe skipgram -input '../data/tokenized/corpus_mecab.txt' -output '../data/word_embeddings/fasttext/fasttext'`"
   ]
  },
  {
   "cell_type": "code",
   "execution_count": 2,
   "metadata": {},
   "outputs": [],
   "source": [
    "from gensim.models import FastText"
   ]
  },
  {
   "cell_type": "code",
   "execution_count": 2,
   "metadata": {},
   "outputs": [
    {
     "name": "stderr",
     "output_type": "stream",
     "text": [
      "G:\\Anaconda3\\envs\\pytorch_ev\\lib\\site-packages\\ipykernel_launcher.py:1: DeprecationWarning: Call to deprecated `load_fasttext_format` (use load_facebook_vectors (to use pretrained embeddings) or load_facebook_model (to continue training with the loaded full model, more RAM) instead).\n",
      "  \"\"\"Entry point for launching an IPython kernel.\n"
     ]
    }
   ],
   "source": [
    "model = FastText.load_fasttext_format('../data/word_embeddings/fasttext/fasttext.bin')"
   ]
  },
  {
   "cell_type": "code",
   "execution_count": 8,
   "metadata": {},
   "outputs": [
    {
     "data": {
      "text/plain": [
       "[('고뇌', 0.7956762313842773),\n",
       " ('절망감', 0.7908169627189636),\n",
       " ('슬픔', 0.72858726978302),\n",
       " ('두려움', 0.7263795137405396),\n",
       " ('고독감', 0.7237257957458496)]"
      ]
     },
     "execution_count": 8,
     "metadata": {},
     "output_type": "execute_result"
    }
   ],
   "source": [
    "model.wv.most_similar('절망',topn=5)"
   ]
  },
  {
   "cell_type": "code",
   "execution_count": 9,
   "metadata": {},
   "outputs": [
    {
     "data": {
      "text/plain": [
       "[('재학생', 0.8636801838874817),\n",
       " ('대학생', 0.827659010887146),\n",
       " ('교직원', 0.8000882863998413),\n",
       " ('교내', 0.7957372665405273),\n",
       " ('학부모', 0.7848831415176392)]"
      ]
     },
     "execution_count": 9,
     "metadata": {},
     "output_type": "execute_result"
    }
   ],
   "source": [
    "model.wv.most_similar('학생',topn=5)"
   ]
  },
  {
   "cell_type": "code",
   "execution_count": 10,
   "metadata": {},
   "outputs": [
    {
     "data": {
      "text/plain": [
       "[('안전자동차', 0.8142744302749634),\n",
       " ('경자동차', 0.8056385517120361),\n",
       " ('전기자동차', 0.7980148196220398),\n",
       " ('승용차', 0.7871893048286438),\n",
       " ('경승용차', 0.77259361743927)]"
      ]
     },
     "execution_count": 10,
     "metadata": {},
     "output_type": "execute_result"
    }
   ],
   "source": [
    "model.wv.most_similar('자동차',topn=5)"
   ]
  },
  {
   "cell_type": "code",
   "execution_count": 11,
   "metadata": {},
   "outputs": [
    {
     "data": {
      "text/plain": [
       "[('특별시', 0.8229784965515137),\n",
       " ('서울시', 0.7491170167922974),\n",
       " ('서울특별시', 0.7334344983100891),\n",
       " ('홍익', 0.7301125526428223),\n",
       " ('동대문', 0.7285245656967163)]"
      ]
     },
     "execution_count": 11,
     "metadata": {},
     "output_type": "execute_result"
    }
   ],
   "source": [
    "model.wv.most_similar('서울',topn=5)"
   ]
  },
  {
   "cell_type": "code",
   "execution_count": 17,
   "metadata": {},
   "outputs": [
    {
     "data": {
      "text/plain": [
       "[('귀히', 0.6846819519996643),\n",
       " ('有能', 0.6793513894081116),\n",
       " ('孝悌忠信', 0.6708500385284424),\n",
       " ('本然之性', 0.6638541221618652),\n",
       " ('靜坐', 0.6618064641952515)]"
      ]
     },
     "execution_count": 17,
     "metadata": {},
     "output_type": "execute_result"
    }
   ],
   "source": [
    "model.wv.most_similar('하였다',topn=5)"
   ]
  },
  {
   "cell_type": "code",
   "execution_count": 18,
   "metadata": {},
   "outputs": [
    {
     "data": {
      "text/plain": [
       "[('라며', 0.7399030923843384),\n",
       " ('다더라', 0.7068748474121094),\n",
       " ('음해성', 0.7020370960235596),\n",
       " ('다며', 0.701720654964447),\n",
       " ('사실무근', 0.7012568116188049)]"
      ]
     },
     "execution_count": 18,
     "metadata": {},
     "output_type": "execute_result"
    }
   ],
   "source": [
    "model.wv.most_similar('했다',topn=5)"
   ]
  },
  {
   "cell_type": "code",
   "execution_count": 21,
   "metadata": {},
   "outputs": [
    {
     "data": {
      "text/plain": [
       "array([-4.20247883e-01,  1.84912696e-01, -1.14568278e-01, -2.61427015e-01,\n",
       "       -3.46373111e-01, -2.35375077e-01,  1.12105869e-01,  8.76253024e-02,\n",
       "       -2.07990147e-02,  3.28676641e-01,  2.36490294e-01,  6.96131960e-02,\n",
       "        5.04695415e-01, -8.82676318e-02, -1.03127725e-01,  3.61759812e-01,\n",
       "        1.40759815e-02, -3.91421527e-01, -3.69062833e-02,  1.79770693e-01,\n",
       "       -2.17043713e-01, -7.76873752e-02, -1.21301122e-01,  1.34280235e-01,\n",
       "       -5.81908710e-02, -8.42771903e-02,  2.72035599e-01,  2.21139759e-01,\n",
       "       -2.74678260e-01,  4.89826463e-02,  1.05462924e-01,  2.12203473e-01,\n",
       "       -1.72229751e-03, -2.71744043e-01, -1.23761095e-01,  8.13883021e-02,\n",
       "       -6.88801333e-02,  3.63437593e-01,  2.74666697e-01,  2.64635645e-02,\n",
       "        9.61014628e-02,  7.49020949e-02,  8.53434429e-02,  3.02748144e-01,\n",
       "       -2.68942565e-01, -3.57311666e-02,  1.03571728e-01,  1.58792421e-01,\n",
       "       -3.14605422e-02,  1.25134662e-01, -2.42131263e-01,  6.22434556e-01,\n",
       "        1.81292519e-01, -3.55127811e-01, -1.45513222e-01, -7.46330097e-02,\n",
       "        2.89320145e-02, -1.43755481e-01, -2.46714409e-02, -2.81249672e-01,\n",
       "        2.25323848e-02,  4.15800750e-01, -3.25273909e-02,  1.41549215e-01,\n",
       "       -1.66301847e-01, -1.87225770e-02,  1.97211027e-01,  1.96297184e-01,\n",
       "        8.08991864e-02, -9.56326276e-02, -5.23547002e-04,  3.24831135e-03,\n",
       "        7.36900792e-02, -1.66611940e-01,  2.60547936e-01,  2.20703989e-01,\n",
       "        1.68293923e-01, -3.50224257e-01,  8.88304263e-02,  2.44462863e-01,\n",
       "        2.41608873e-01, -8.21168050e-02,  3.31152946e-01,  1.62704438e-01,\n",
       "       -5.40250838e-02,  1.55904606e-01,  2.12907791e-01,  2.10204959e-01,\n",
       "        8.60807300e-02, -2.11523578e-01, -1.91609845e-01, -2.35132679e-01,\n",
       "       -7.15278536e-02, -3.15868706e-01, -7.23104458e-03, -7.22336918e-02,\n",
       "        2.55500257e-01, -9.52525809e-02,  5.94932660e-02, -1.44643625e-02],\n",
       "      dtype=float32)"
      ]
     },
     "execution_count": 21,
     "metadata": {},
     "output_type": "execute_result"
    }
   ],
   "source": [
    "model.wv['서울특벌시']"
   ]
  },
  {
   "cell_type": "code",
   "execution_count": 23,
   "metadata": {},
   "outputs": [
    {
     "data": {
      "text/plain": [
       "[('서울특별시', 0.6905916929244995),\n",
       " ('마포구', 0.6428827047348022),\n",
       " ('동작구', 0.6390317678451538),\n",
       " ('관악구', 0.6333362460136414),\n",
       " ('방배동', 0.6287829875946045),\n",
       " ('상수동', 0.6284986138343811),\n",
       " ('용산구', 0.6283086538314819),\n",
       " ('제기동', 0.6253297328948975),\n",
       " ('영등포구', 0.6249051690101624),\n",
       " ('은평구', 0.6194088459014893)]"
      ]
     },
     "execution_count": 23,
     "metadata": {},
     "output_type": "execute_result"
    }
   ],
   "source": [
    "model.wv.most_similar('서울특벌시')"
   ]
  },
  {
   "cell_type": "markdown",
   "metadata": {},
   "source": [
    "`fasttext_win/fasttext.exe skipgram -input '../data/tokenized/corpus_mecab_jamo.txt' -output '../data/word_embeddings/fasttext-jamo/fasttext-jamo'`"
   ]
  },
  {
   "cell_type": "code",
   "execution_count": 3,
   "metadata": {},
   "outputs": [
    {
     "name": "stderr",
     "output_type": "stream",
     "text": [
      "G:\\Anaconda3\\envs\\pytorch_ev\\lib\\site-packages\\ipykernel_launcher.py:1: DeprecationWarning: Call to deprecated `load_fasttext_format` (use load_facebook_vectors (to use pretrained embeddings) or load_facebook_model (to continue training with the loaded full model, more RAM) instead).\n",
      "  \"\"\"Entry point for launching an IPython kernel.\n"
     ]
    },
    {
     "name": "stdout",
     "output_type": "stream",
     "text": [
      "Wall time: 39.4 s\n"
     ]
    }
   ],
   "source": [
    "%%time\n",
    "model = FastText.load_fasttext_format('../data/word_embeddings/fasttext-jamo/fasttext-jamo.bin')"
   ]
  },
  {
   "cell_type": "code",
   "execution_count": 4,
   "metadata": {},
   "outputs": [
    {
     "data": {
      "text/plain": [
       "[('ㅎㅢ-ㅁㅏㅇㅊㅏㄴ', 0.8246045112609863),\n",
       " ('ㅎㅐㅇㅂㅗㄱ', 0.7924754619598389),\n",
       " ('ㅅㅗ-ㅁㅏㅇ', 0.7508236169815063),\n",
       " ('ㅎㅢ-ㅁㅏㅇㅌㅡㄱㄱㅏㅇ', 0.7476971745491028),\n",
       " ('ㅎㅢ-ㅁㅏㅇㅈㅏ-', 0.7460557222366333)]"
      ]
     },
     "execution_count": 4,
     "metadata": {},
     "output_type": "execute_result"
    }
   ],
   "source": [
    "model.wv.most_similar('ㅎㅢ-ㅁㅏㅇ',topn=5)"
   ]
  },
  {
   "cell_type": "code",
   "execution_count": 5,
   "metadata": {},
   "outputs": [
    {
     "data": {
      "text/plain": [
       "[('ㅌㅡㄱㅂㅕㄹㅅㅣ-', 0.8185800313949585),\n",
       " ('ㅅㅓ-ㅇㅜㄹㅅㅣ-', 0.7784746885299683),\n",
       " ('ㄷㅗㅇㄷㅐ-ㅁㅜㄴ', 0.7749009132385254),\n",
       " ('ㅅㅓ-ㅇㅜㄹㅌㅡㄱㅂㅕㄹㅅㅣ-', 0.7686086297035217),\n",
       " ('ㅎㅗㅇㅇㅣㄱ', 0.7590399384498596),\n",
       " ('ㅅㅓ-ㅇㅜㄹㄱㅛ-', 0.7587097883224487),\n",
       " ('ㅎㅏㄴㅇㅑㅇ', 0.755107045173645),\n",
       " ('ㅅㅓ-ㄷㅐ-ㅁㅜㄴ', 0.7536574006080627),\n",
       " ('ㅇㅕㅇㄷㅡㅇㅍㅗ-', 0.7516968250274658),\n",
       " ('ㅂㅜㄱㅅㅓ-ㅇㅜㄹ', 0.7512394785881042)]"
      ]
     },
     "execution_count": 5,
     "metadata": {},
     "output_type": "execute_result"
    }
   ],
   "source": [
    "model.wv.most_similar('ㅅㅓ-ㅇㅜㄹ')"
   ]
  },
  {
   "cell_type": "code",
   "execution_count": 9,
   "metadata": {},
   "outputs": [
    {
     "data": {
      "text/plain": [
       "[('ㅂㅓㄱㅅㅡ-', 0.7604941129684448),\n",
       " ('ㅇㅏㄹㄹㅔㄱㅅㅏ-', 0.7422023415565491),\n",
       " ('ㅅㅐㅁㅇㅘ-ㅇㅣ-ㅈㅡ-', 0.7342134714126587),\n",
       " ('ㅅㅡ-ㅌㅏㄱㅁㅐㄴ', 0.7300382852554321),\n",
       " ('ㅍㅡ-ㄹㅏ-ㅇㅣ-ㅇㅓ-ㅅㅡ-', 0.7292873859405518),\n",
       " ('ㅌㅜ-ㅍㅔ-ㅇㅣ-ㅅㅡ-', 0.7258915305137634),\n",
       " ('ㅋㅡㄹㄹㅔ-ㅇㅣ-ㅈㅡ-', 0.7257282733917236),\n",
       " ('ㄱㅡㄹㄹㅔ-ㅇㅣ-ㅂㅡ-', 0.724056601524353),\n",
       " ('ㅁㅐㄱㅂㅣ-ㅌㅣ-', 0.7203993797302246),\n",
       " ('ㅅㅡ-ㅌㅏ-ㅍㅓ-', 0.71932053565979)]"
      ]
     },
     "execution_count": 9,
     "metadata": {},
     "output_type": "execute_result"
    }
   ],
   "source": [
    "model.wv.most_similar('ㅅㅡ-ㅌㅏ- ㅂㅓㄱㅅㅡ-')"
   ]
  },
  {
   "cell_type": "code",
   "execution_count": null,
   "metadata": {},
   "outputs": [],
   "source": []
  }
 ],
 "metadata": {
  "kernelspec": {
   "display_name": "Python 3",
   "language": "python",
   "name": "python3"
  },
  "language_info": {
   "codemirror_mode": {
    "name": "ipython",
    "version": 3
   },
   "file_extension": ".py",
   "mimetype": "text/x-python",
   "name": "python",
   "nbconvert_exporter": "python",
   "pygments_lexer": "ipython3",
   "version": "3.7.4"
  }
 },
 "nbformat": 4,
 "nbformat_minor": 2
}
