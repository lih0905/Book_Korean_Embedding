{
 "cells": [
  {
   "cell_type": "markdown",
   "metadata": {},
   "source": [
    "# 4.3 FastText\n",
    "\n",
    "윈도우에서는 FastText 공식 패키지는 구동이 불가능하므로 다음 [링크](https://medium.com/@juneoh/windows%EC%9A%A9-fasttext-%EB%B0%94%EC%9D%B4%EB%84%88%EB%A6%AC%EB%93%A4-727829b010a)에서 알려주는 방법대로 실행한다.\n",
    "\n",
    "첫번째 방법을 이용하여 커맨드라인에서 다음 줄을 실행하여 fasttext 모델 데이터를 생성하자.\n",
    "\n",
    "`fasttext_win/fasttext.exe skipgram -input '../data/tokenized/corpus_mecab.txt' -output '../data/word_embeddings/fasttext/fasttext'`\n",
    "\n",
    "이렇게 생성된 모델을 불러와서 유사도 분석을 수행하는 것이 목표!"
   ]
  },
  {
   "cell_type": "code",
   "execution_count": 1,
   "metadata": {},
   "outputs": [],
   "source": [
    "from gensim.models import FastText"
   ]
  },
  {
   "cell_type": "code",
   "execution_count": 2,
   "metadata": {},
   "outputs": [
    {
     "name": "stderr",
     "output_type": "stream",
     "text": [
      "G:\\Anaconda3\\envs\\pytorch_ev\\lib\\site-packages\\ipykernel_launcher.py:1: DeprecationWarning: Call to deprecated `load_fasttext_format` (use load_facebook_vectors (to use pretrained embeddings) or load_facebook_model (to continue training with the loaded full model, more RAM) instead).\n",
      "  \"\"\"Entry point for launching an IPython kernel.\n"
     ]
    }
   ],
   "source": [
    "model = FastText.load_fasttext_format('../data/word_embeddings/fasttext/fasttext.bin')"
   ]
  },
  {
   "cell_type": "code",
   "execution_count": 8,
   "metadata": {},
   "outputs": [
    {
     "data": {
      "text/plain": [
       "[('고뇌', 0.7956762313842773),\n",
       " ('절망감', 0.7908169627189636),\n",
       " ('슬픔', 0.72858726978302),\n",
       " ('두려움', 0.7263795137405396),\n",
       " ('고독감', 0.7237257957458496)]"
      ]
     },
     "execution_count": 8,
     "metadata": {},
     "output_type": "execute_result"
    }
   ],
   "source": [
    "model.wv.most_similar('절망',topn=5)"
   ]
  },
  {
   "cell_type": "code",
   "execution_count": 9,
   "metadata": {},
   "outputs": [
    {
     "data": {
      "text/plain": [
       "[('재학생', 0.8636801838874817),\n",
       " ('대학생', 0.827659010887146),\n",
       " ('교직원', 0.8000882863998413),\n",
       " ('교내', 0.7957372665405273),\n",
       " ('학부모', 0.7848831415176392)]"
      ]
     },
     "execution_count": 9,
     "metadata": {},
     "output_type": "execute_result"
    }
   ],
   "source": [
    "model.wv.most_similar('학생',topn=5)"
   ]
  },
  {
   "cell_type": "code",
   "execution_count": 10,
   "metadata": {},
   "outputs": [
    {
     "data": {
      "text/plain": [
       "[('안전자동차', 0.8142744302749634),\n",
       " ('경자동차', 0.8056385517120361),\n",
       " ('전기자동차', 0.7980148196220398),\n",
       " ('승용차', 0.7871893048286438),\n",
       " ('경승용차', 0.77259361743927)]"
      ]
     },
     "execution_count": 10,
     "metadata": {},
     "output_type": "execute_result"
    }
   ],
   "source": [
    "model.wv.most_similar('자동차',topn=5)"
   ]
  },
  {
   "cell_type": "code",
   "execution_count": 11,
   "metadata": {},
   "outputs": [
    {
     "data": {
      "text/plain": [
       "[('특별시', 0.8229784965515137),\n",
       " ('서울시', 0.7491170167922974),\n",
       " ('서울특별시', 0.7334344983100891),\n",
       " ('홍익', 0.7301125526428223),\n",
       " ('동대문', 0.7285245656967163)]"
      ]
     },
     "execution_count": 11,
     "metadata": {},
     "output_type": "execute_result"
    }
   ],
   "source": [
    "model.wv.most_similar('서울',topn=5)"
   ]
  },
  {
   "cell_type": "code",
   "execution_count": 17,
   "metadata": {},
   "outputs": [
    {
     "data": {
      "text/plain": [
       "[('귀히', 0.6846819519996643),\n",
       " ('有能', 0.6793513894081116),\n",
       " ('孝悌忠信', 0.6708500385284424),\n",
       " ('本然之性', 0.6638541221618652),\n",
       " ('靜坐', 0.6618064641952515)]"
      ]
     },
     "execution_count": 17,
     "metadata": {},
     "output_type": "execute_result"
    }
   ],
   "source": [
    "model.wv.most_similar('하였다',topn=5)"
   ]
  },
  {
   "cell_type": "code",
   "execution_count": 18,
   "metadata": {},
   "outputs": [
    {
     "data": {
      "text/plain": [
       "[('라며', 0.7399030923843384),\n",
       " ('다더라', 0.7068748474121094),\n",
       " ('음해성', 0.7020370960235596),\n",
       " ('다며', 0.701720654964447),\n",
       " ('사실무근', 0.7012568116188049)]"
      ]
     },
     "execution_count": 18,
     "metadata": {},
     "output_type": "execute_result"
    }
   ],
   "source": [
    "model.wv.most_similar('했다',topn=5)"
   ]
  },
  {
   "cell_type": "code",
   "execution_count": 21,
   "metadata": {},
   "outputs": [
    {
     "data": {
      "text/plain": [
       "array([-4.20247883e-01,  1.84912696e-01, -1.14568278e-01, -2.61427015e-01,\n",
       "       -3.46373111e-01, -2.35375077e-01,  1.12105869e-01,  8.76253024e-02,\n",
       "       -2.07990147e-02,  3.28676641e-01,  2.36490294e-01,  6.96131960e-02,\n",
       "        5.04695415e-01, -8.82676318e-02, -1.03127725e-01,  3.61759812e-01,\n",
       "        1.40759815e-02, -3.91421527e-01, -3.69062833e-02,  1.79770693e-01,\n",
       "       -2.17043713e-01, -7.76873752e-02, -1.21301122e-01,  1.34280235e-01,\n",
       "       -5.81908710e-02, -8.42771903e-02,  2.72035599e-01,  2.21139759e-01,\n",
       "       -2.74678260e-01,  4.89826463e-02,  1.05462924e-01,  2.12203473e-01,\n",
       "       -1.72229751e-03, -2.71744043e-01, -1.23761095e-01,  8.13883021e-02,\n",
       "       -6.88801333e-02,  3.63437593e-01,  2.74666697e-01,  2.64635645e-02,\n",
       "        9.61014628e-02,  7.49020949e-02,  8.53434429e-02,  3.02748144e-01,\n",
       "       -2.68942565e-01, -3.57311666e-02,  1.03571728e-01,  1.58792421e-01,\n",
       "       -3.14605422e-02,  1.25134662e-01, -2.42131263e-01,  6.22434556e-01,\n",
       "        1.81292519e-01, -3.55127811e-01, -1.45513222e-01, -7.46330097e-02,\n",
       "        2.89320145e-02, -1.43755481e-01, -2.46714409e-02, -2.81249672e-01,\n",
       "        2.25323848e-02,  4.15800750e-01, -3.25273909e-02,  1.41549215e-01,\n",
       "       -1.66301847e-01, -1.87225770e-02,  1.97211027e-01,  1.96297184e-01,\n",
       "        8.08991864e-02, -9.56326276e-02, -5.23547002e-04,  3.24831135e-03,\n",
       "        7.36900792e-02, -1.66611940e-01,  2.60547936e-01,  2.20703989e-01,\n",
       "        1.68293923e-01, -3.50224257e-01,  8.88304263e-02,  2.44462863e-01,\n",
       "        2.41608873e-01, -8.21168050e-02,  3.31152946e-01,  1.62704438e-01,\n",
       "       -5.40250838e-02,  1.55904606e-01,  2.12907791e-01,  2.10204959e-01,\n",
       "        8.60807300e-02, -2.11523578e-01, -1.91609845e-01, -2.35132679e-01,\n",
       "       -7.15278536e-02, -3.15868706e-01, -7.23104458e-03, -7.22336918e-02,\n",
       "        2.55500257e-01, -9.52525809e-02,  5.94932660e-02, -1.44643625e-02],\n",
       "      dtype=float32)"
      ]
     },
     "execution_count": 21,
     "metadata": {},
     "output_type": "execute_result"
    }
   ],
   "source": [
    "model.wv['서울특벌시']"
   ]
  },
  {
   "cell_type": "code",
   "execution_count": 23,
   "metadata": {},
   "outputs": [
    {
     "data": {
      "text/plain": [
       "[('서울특별시', 0.6905916929244995),\n",
       " ('마포구', 0.6428827047348022),\n",
       " ('동작구', 0.6390317678451538),\n",
       " ('관악구', 0.6333362460136414),\n",
       " ('방배동', 0.6287829875946045),\n",
       " ('상수동', 0.6284986138343811),\n",
       " ('용산구', 0.6283086538314819),\n",
       " ('제기동', 0.6253297328948975),\n",
       " ('영등포구', 0.6249051690101624),\n",
       " ('은평구', 0.6194088459014893)]"
      ]
     },
     "execution_count": 23,
     "metadata": {},
     "output_type": "execute_result"
    }
   ],
   "source": [
    "model.wv.most_similar('서울특벌시')"
   ]
  },
  {
   "cell_type": "markdown",
   "metadata": {},
   "source": [
    "이번엔 자음모음 레벨에서 분석해보자.\n",
    "\n",
    "`fasttext_win/fasttext.exe skipgram -input '../data/tokenized/corpus_mecab_jamo.txt' -output '../data/word_embeddings/fasttext-jamo/fasttext-jamo'`"
   ]
  },
  {
   "cell_type": "code",
   "execution_count": 3,
   "metadata": {},
   "outputs": [
    {
     "name": "stderr",
     "output_type": "stream",
     "text": [
      "G:\\Anaconda3\\envs\\pytorch_ev\\lib\\site-packages\\ipykernel_launcher.py:1: DeprecationWarning: Call to deprecated `load_fasttext_format` (use load_facebook_vectors (to use pretrained embeddings) or load_facebook_model (to continue training with the loaded full model, more RAM) instead).\n",
      "  \"\"\"Entry point for launching an IPython kernel.\n"
     ]
    },
    {
     "name": "stdout",
     "output_type": "stream",
     "text": [
      "Wall time: 39.4 s\n"
     ]
    }
   ],
   "source": [
    "%%time\n",
    "model = FastText.load_fasttext_format('../data/word_embeddings/fasttext-jamo/fasttext-jamo.bin')"
   ]
  },
  {
   "cell_type": "code",
   "execution_count": 4,
   "metadata": {},
   "outputs": [
    {
     "data": {
      "text/plain": [
       "[('ㅎㅢ-ㅁㅏㅇㅊㅏㄴ', 0.8246045112609863),\n",
       " ('ㅎㅐㅇㅂㅗㄱ', 0.7924754619598389),\n",
       " ('ㅅㅗ-ㅁㅏㅇ', 0.7508236169815063),\n",
       " ('ㅎㅢ-ㅁㅏㅇㅌㅡㄱㄱㅏㅇ', 0.7476971745491028),\n",
       " ('ㅎㅢ-ㅁㅏㅇㅈㅏ-', 0.7460557222366333)]"
      ]
     },
     "execution_count": 4,
     "metadata": {},
     "output_type": "execute_result"
    }
   ],
   "source": [
    "model.wv.most_similar('ㅎㅢ-ㅁㅏㅇ',topn=5)"
   ]
  },
  {
   "cell_type": "code",
   "execution_count": 5,
   "metadata": {},
   "outputs": [
    {
     "data": {
      "text/plain": [
       "[('ㅌㅡㄱㅂㅕㄹㅅㅣ-', 0.8185800313949585),\n",
       " ('ㅅㅓ-ㅇㅜㄹㅅㅣ-', 0.7784746885299683),\n",
       " ('ㄷㅗㅇㄷㅐ-ㅁㅜㄴ', 0.7749009132385254),\n",
       " ('ㅅㅓ-ㅇㅜㄹㅌㅡㄱㅂㅕㄹㅅㅣ-', 0.7686086297035217),\n",
       " ('ㅎㅗㅇㅇㅣㄱ', 0.7590399384498596),\n",
       " ('ㅅㅓ-ㅇㅜㄹㄱㅛ-', 0.7587097883224487),\n",
       " ('ㅎㅏㄴㅇㅑㅇ', 0.755107045173645),\n",
       " ('ㅅㅓ-ㄷㅐ-ㅁㅜㄴ', 0.7536574006080627),\n",
       " ('ㅇㅕㅇㄷㅡㅇㅍㅗ-', 0.7516968250274658),\n",
       " ('ㅂㅜㄱㅅㅓ-ㅇㅜㄹ', 0.7512394785881042)]"
      ]
     },
     "execution_count": 5,
     "metadata": {},
     "output_type": "execute_result"
    }
   ],
   "source": [
    "model.wv.most_similar('ㅅㅓ-ㅇㅜㄹ')"
   ]
  },
  {
   "cell_type": "code",
   "execution_count": 9,
   "metadata": {},
   "outputs": [
    {
     "data": {
      "text/plain": [
       "[('ㅂㅓㄱㅅㅡ-', 0.7604941129684448),\n",
       " ('ㅇㅏㄹㄹㅔㄱㅅㅏ-', 0.7422023415565491),\n",
       " ('ㅅㅐㅁㅇㅘ-ㅇㅣ-ㅈㅡ-', 0.7342134714126587),\n",
       " ('ㅅㅡ-ㅌㅏㄱㅁㅐㄴ', 0.7300382852554321),\n",
       " ('ㅍㅡ-ㄹㅏ-ㅇㅣ-ㅇㅓ-ㅅㅡ-', 0.7292873859405518),\n",
       " ('ㅌㅜ-ㅍㅔ-ㅇㅣ-ㅅㅡ-', 0.7258915305137634),\n",
       " ('ㅋㅡㄹㄹㅔ-ㅇㅣ-ㅈㅡ-', 0.7257282733917236),\n",
       " ('ㄱㅡㄹㄹㅔ-ㅇㅣ-ㅂㅡ-', 0.724056601524353),\n",
       " ('ㅁㅐㄱㅂㅣ-ㅌㅣ-', 0.7203993797302246),\n",
       " ('ㅅㅡ-ㅌㅏ-ㅍㅓ-', 0.71932053565979)]"
      ]
     },
     "execution_count": 9,
     "metadata": {},
     "output_type": "execute_result"
    }
   ],
   "source": [
    "model.wv.most_similar('ㅅㅡ-ㅌㅏ- ㅂㅓㄱㅅㅡ-')"
   ]
  },
  {
   "cell_type": "markdown",
   "metadata": {},
   "source": [
    "이제 문장을 자음모음 형태로 분리하는 방법에 대해 생각해보자.\n",
    "\n",
    "윈도우에선 KoNLPy의 Mecab이 안돌아가므로 대체 패키지로 eunjeon을 이용하자.\n",
    "\n",
    "`pip install eunjeon`"
   ]
  },
  {
   "cell_type": "code",
   "execution_count": 7,
   "metadata": {},
   "outputs": [],
   "source": [
    "from eunjeon import Mecab\n",
    "tagger = Mecab()"
   ]
  },
  {
   "cell_type": "code",
   "execution_count": 8,
   "metadata": {},
   "outputs": [
    {
     "data": {
      "text/plain": [
       "['아버지', '가방', '에', '들어가', '신다']"
      ]
     },
     "execution_count": 8,
     "metadata": {},
     "output_type": "execute_result"
    }
   ],
   "source": [
    "tagger.morphs('아버지가방에들어가신다')"
   ]
  },
  {
   "cell_type": "code",
   "execution_count": 10,
   "metadata": {},
   "outputs": [
    {
     "data": {
      "text/plain": [
       "'아버지 가방 에 들어가 신다'"
      ]
     },
     "execution_count": 10,
     "metadata": {},
     "output_type": "execute_result"
    }
   ],
   "source": [
    "tokens = \" \".join(tagger.morphs('아버지가방에들어가신다'))\n",
    "tokens"
   ]
  },
  {
   "cell_type": "code",
   "execution_count": 13,
   "metadata": {},
   "outputs": [],
   "source": [
    "from soynlp.hangle import decompose, character_is_korean\n",
    "import re"
   ]
  },
  {
   "cell_type": "code",
   "execution_count": 31,
   "metadata": {},
   "outputs": [],
   "source": [
    "doublespace_pattern = re.compile('\\s+')\n",
    "\n",
    "def sentence_to_jamo(sent):\n",
    "\n",
    "    def transform(char):\n",
    "        if char == ' ':\n",
    "            return char\n",
    "        cjj = decompose(char)\n",
    "        if len(cjj) == 1:\n",
    "            return cjj\n",
    "        cjj_ = ''.join(c if c != ' ' else '-' for c in cjj)\n",
    "        return cjj_\n",
    "\n",
    "    sent_ = []\n",
    "    for char in sent:\n",
    "        if character_is_korean(char):\n",
    "            sent_.append(transform(char))\n",
    "        else:\n",
    "            sent_.append(char)\n",
    "    sent_ = doublespace_pattern.sub(' ', ''.join(sent_))\n",
    "    return sent_"
   ]
  },
  {
   "cell_type": "code",
   "execution_count": 32,
   "metadata": {
    "scrolled": true
   },
   "outputs": [
    {
     "data": {
      "text/plain": [
       "'ㅇㅏ-ㅂㅓ-ㅈㅣ- ㄱㅏ-ㅂㅏㅇ ㅇㅔ- ㄷㅡㄹㅇㅓ-ㄱㅏ- ㅅㅣㄴㄷㅏ-'"
      ]
     },
     "execution_count": 32,
     "metadata": {},
     "output_type": "execute_result"
    }
   ],
   "source": [
    "sentence_to_jamo(tokens)"
   ]
  },
  {
   "cell_type": "markdown",
   "metadata": {},
   "source": [
    "한글을 분해하는 건 되었고 합치는 방법을 구현해보자"
   ]
  },
  {
   "cell_type": "code",
   "execution_count": 19,
   "metadata": {},
   "outputs": [],
   "source": [
    "from soynlp.hangle import compose"
   ]
  },
  {
   "cell_type": "code",
   "execution_count": 25,
   "metadata": {},
   "outputs": [
    {
     "data": {
      "text/plain": [
       "'밥'"
      ]
     },
     "execution_count": 25,
     "metadata": {},
     "output_type": "execute_result"
    }
   ],
   "source": [
    "compose('ㅂ','ㅏ','ㅂ')"
   ]
  },
  {
   "cell_type": "code",
   "execution_count": 27,
   "metadata": {},
   "outputs": [],
   "source": [
    "jamo = 'ㅇㅏ-ㅂㅓ-ㅈㅣ- ㄱㅏ-ㅂㅏㅇ ㅇㅔ- ㄷㅡㄹㅇㅓ-ㄱㅏ- ㅅㅣㄴㄷㅏ-'"
   ]
  },
  {
   "cell_type": "code",
   "execution_count": 93,
   "metadata": {},
   "outputs": [
    {
     "data": {
      "text/plain": [
       "'ㅇㅏ-ㅂㅓ-ㅈㅣ- ㄱㅏ-ㅂㅏㅇ ㅇㅔ- ㄷㅡㄹㅇㅓ-ㄱㅏ- ㅅㅣㄴㄷㅏ-'"
      ]
     },
     "execution_count": 93,
     "metadata": {},
     "output_type": "execute_result"
    }
   ],
   "source": [
    "jamo"
   ]
  },
  {
   "cell_type": "markdown",
   "metadata": {},
   "source": [
    "그냥 세자씩 나누면 될듯..."
   ]
  },
  {
   "cell_type": "code",
   "execution_count": 94,
   "metadata": {
    "scrolled": true
   },
   "outputs": [
    {
     "data": {
      "text/plain": [
       "['ㅇㅏ-ㅂㅓ-ㅈㅣ-', 'ㄱㅏ-ㅂㅏㅇ', 'ㅇㅔ-', 'ㄷㅡㄹㅇㅓ-ㄱㅏ-', 'ㅅㅣㄴㄷㅏ-']"
      ]
     },
     "execution_count": 94,
     "metadata": {},
     "output_type": "execute_result"
    }
   ],
   "source": [
    "jamo.split(' ')"
   ]
  },
  {
   "cell_type": "code",
   "execution_count": 101,
   "metadata": {},
   "outputs": [
    {
     "name": "stdout",
     "output_type": "stream",
     "text": [
      "아\n",
      "버\n",
      "지\n",
      "가\n",
      "방\n",
      "에\n",
      "들\n",
      "어\n",
      "가\n",
      "신\n",
      "다\n"
     ]
    }
   ],
   "source": [
    "for sent in jamo.split(' '):\n",
    "    for i in range(int(len(sent)/3)):\n",
    "        print(compose(*sent[3*i:3*(i+1)].replace('-',' ')))"
   ]
  },
  {
   "cell_type": "code",
   "execution_count": 111,
   "metadata": {},
   "outputs": [],
   "source": [
    "def jamo_to_sentence(jamo):\n",
    "    text = ''\n",
    "    for sent in jamo.split(' '):\n",
    "        for i in range(int(len(sent)/3)):\n",
    "            text+=''.join(compose(*sent[3*i:3*(i+1)].replace('-',' ')))\n",
    "        text += ' '\n",
    "    return text"
   ]
  },
  {
   "cell_type": "code",
   "execution_count": 112,
   "metadata": {},
   "outputs": [
    {
     "data": {
      "text/plain": [
       "'아버지 가방 에 들어가 신다 '"
      ]
     },
     "execution_count": 112,
     "metadata": {},
     "output_type": "execute_result"
    }
   ],
   "source": [
    "jamo_to_sentence(jamo)"
   ]
  },
  {
   "cell_type": "code",
   "execution_count": 115,
   "metadata": {},
   "outputs": [
    {
     "data": {
      "text/plain": [
       "'ㅂㅏㅂㅇㅡㄴ ㅁㅓㄱㄱㅗ- ㄷㅏ-ㄴㅣ-ㄴㅑ-'"
      ]
     },
     "execution_count": 115,
     "metadata": {},
     "output_type": "execute_result"
    }
   ],
   "source": [
    "sentence_to_jamo('밥은 먹고 다니냐')"
   ]
  },
  {
   "cell_type": "code",
   "execution_count": 116,
   "metadata": {},
   "outputs": [
    {
     "data": {
      "text/plain": [
       "'밥은 먹고 다니냐 '"
      ]
     },
     "execution_count": 116,
     "metadata": {},
     "output_type": "execute_result"
    }
   ],
   "source": [
    "jamo_to_sentence(sentence_to_jamo('밥은 먹고 다니냐'))"
   ]
  },
  {
   "cell_type": "code",
   "execution_count": 117,
   "metadata": {},
   "outputs": [
    {
     "data": {
      "text/plain": [
       "'밥은 먹고 다니냐 '"
      ]
     },
     "execution_count": 117,
     "metadata": {},
     "output_type": "execute_result"
    }
   ],
   "source": [
    "jamo_to_sentence('ㅂㅏㅂㅇㅡㄴ ㅁㅓㄱㄱㅗ- ㄷㅏ-ㄴㅣ-ㄴㅑ-')"
   ]
  },
  {
   "cell_type": "code",
   "execution_count": 118,
   "metadata": {},
   "outputs": [
    {
     "data": {
      "text/plain": [
       "'ㅂㅏㅂㅇㅡㄴ ㅁㅓㄱㄱㅗ- ㄷㅏ-ㄴㅣ-ㄴㅑ- '"
      ]
     },
     "execution_count": 118,
     "metadata": {},
     "output_type": "execute_result"
    }
   ],
   "source": [
    "sentence_to_jamo(jamo_to_sentence('ㅂㅏㅂㅇㅡㄴ ㅁㅓㄱㄱㅗ- ㄷㅏ-ㄴㅣ-ㄴㅑ-'))"
   ]
  },
  {
   "cell_type": "markdown",
   "metadata": {},
   "source": [
    "오케이 성공!"
   ]
  },
  {
   "cell_type": "code",
   "execution_count": 119,
   "metadata": {},
   "outputs": [
    {
     "name": "stderr",
     "output_type": "stream",
     "text": [
      "G:\\Anaconda3\\envs\\pytorch_ev\\lib\\site-packages\\ipykernel_launcher.py:1: DeprecationWarning: Call to deprecated `load_fasttext_format` (use load_facebook_vectors (to use pretrained embeddings) or load_facebook_model (to continue training with the loaded full model, more RAM) instead).\n",
      "  \"\"\"Entry point for launching an IPython kernel.\n"
     ]
    },
    {
     "name": "stdout",
     "output_type": "stream",
     "text": [
      "Wall time: 40.4 s\n"
     ]
    }
   ],
   "source": [
    "%%time\n",
    "model = FastText.load_fasttext_format('../data/word_embeddings/fasttext-jamo/fasttext-jamo.bin')"
   ]
  },
  {
   "cell_type": "code",
   "execution_count": 121,
   "metadata": {},
   "outputs": [
    {
     "data": {
      "text/plain": [
       "[('ㅌㅡㄱㅂㅕㄹㅅㅣ-', 0.8185800313949585),\n",
       " ('ㅅㅓ-ㅇㅜㄹㅅㅣ-', 0.7784746885299683),\n",
       " ('ㄷㅗㅇㄷㅐ-ㅁㅜㄴ', 0.7749009132385254),\n",
       " ('ㅅㅓ-ㅇㅜㄹㅌㅡㄱㅂㅕㄹㅅㅣ-', 0.7686086297035217),\n",
       " ('ㅎㅗㅇㅇㅣㄱ', 0.7590399384498596),\n",
       " ('ㅅㅓ-ㅇㅜㄹㄱㅛ-', 0.7587097883224487),\n",
       " ('ㅎㅏㄴㅇㅑㅇ', 0.755107045173645),\n",
       " ('ㅅㅓ-ㄷㅐ-ㅁㅜㄴ', 0.7536574006080627),\n",
       " ('ㅇㅕㅇㄷㅡㅇㅍㅗ-', 0.7516968250274658),\n",
       " ('ㅂㅜㄱㅅㅓ-ㅇㅜㄹ', 0.7512394785881042)]"
      ]
     },
     "execution_count": 121,
     "metadata": {},
     "output_type": "execute_result"
    }
   ],
   "source": [
    "res = model.wv.most_similar(sentence_to_jamo('서울'))\n",
    "res"
   ]
  },
  {
   "cell_type": "code",
   "execution_count": 141,
   "metadata": {},
   "outputs": [],
   "source": [
    "def get_simlilar_vectors(model, word, topn=5):\n",
    "    jamo = sentence_to_jamo(word)\n",
    "    res = model.wv.most_similar(jamo, topn=topn)\n",
    "    res_list = []\n",
    "    for item in res:\n",
    "        item_ = tuple([jamo_to_sentence(item[0].replace('ㆍ','')), item[1]])\n",
    "        res_list.append(item_)\n",
    "        \n",
    "    return res_list"
   ]
  },
  {
   "cell_type": "code",
   "execution_count": 127,
   "metadata": {},
   "outputs": [
    {
     "data": {
      "text/plain": [
       "[('건강법 ', 0.8122444748878479),\n",
       " ('밥상머리 ', 0.809039831161499),\n",
       " ('보약 ', 0.7820098400115967),\n",
       " ('봄맛 ', 0.7681413888931274),\n",
       " ('뱃살 ', 0.7526595592498779),\n",
       " ('갱년기 ', 0.7525171041488647),\n",
       " ('봄맞이 ', 0.7497082948684692),\n",
       " ('건강스페셜 ', 0.7490634918212891),\n",
       " (' ', 0.7415211796760559),\n",
       " ('쌩쌩 ', 0.739809513092041)]"
      ]
     },
     "execution_count": 127,
     "metadata": {},
     "output_type": "execute_result"
    }
   ],
   "source": [
    "get_simlilar_vectors(model, '밥상', 10)"
   ]
  },
  {
   "cell_type": "code",
   "execution_count": 132,
   "metadata": {},
   "outputs": [
    {
     "data": {
      "text/plain": [
       "'ㅎㅏㄱㄱㅛ-'"
      ]
     },
     "execution_count": 132,
     "metadata": {},
     "output_type": "execute_result"
    }
   ],
   "source": [
    "sentence_to_jamo('학교')"
   ]
  },
  {
   "cell_type": "code",
   "execution_count": 136,
   "metadata": {},
   "outputs": [
    {
     "data": {
      "text/plain": [
       "[('ㅊㅗ-ㄷㅡㅇ', 0.8873173594474792),\n",
       " ('ㅁㅐㅇㅎㅏㄱㄱㅛ-', 0.8679368495941162),\n",
       " ('ㆍㄱㅗ-ㄷㅡㅇㅎㅏㄱㄱㅛ-', 0.863804817199707),\n",
       " ('ㆍㅈㅜㅇㅎㅏㄱㄱㅛ-', 0.8622956275939941),\n",
       " ('ㅈㅜㅇㅎㅏㄱㄱㅛ-', 0.8555468916893005),\n",
       " ('ㆍㄱㅗ-ㄷㅡㅇㅎㅏㄱㄱㅛ-ㄹㅗ-', 0.8407431840896606),\n",
       " ('ㅈㅓㅇㅎㅏㄱㄱㅛ-', 0.8384767770767212),\n",
       " ('ㄴㅏㅁㅎㅏㄱㄱㅛ-', 0.8271869421005249),\n",
       " ('ㅎㅏㄱㄱㅛ-ㅂㅕㅇ', 0.8237907886505127),\n",
       " ('ㅇㅑ-ㅎㅏㄱㄱㅛ-', 0.8117514848709106)]"
      ]
     },
     "execution_count": 136,
     "metadata": {},
     "output_type": "execute_result"
    }
   ],
   "source": [
    "model.wv.most_similar(sentence_to_jamo('학교'))\n",
    "# ㆍ 는 뭐지..."
   ]
  },
  {
   "cell_type": "code",
   "execution_count": 137,
   "metadata": {},
   "outputs": [
    {
     "data": {
      "text/plain": [
       "[('초등 ', 0.8873173594474792),\n",
       " ('맹학교 ', 0.8679368495941162),\n",
       " ('고등학교 ', 0.863804817199707),\n",
       " ('중학교 ', 0.8622956275939941),\n",
       " ('중학교 ', 0.8555468916893005),\n",
       " ('고등학교로 ', 0.8407431840896606),\n",
       " ('정학교 ', 0.8384767770767212),\n",
       " ('남학교 ', 0.8271869421005249),\n",
       " ('학교병 ', 0.8237907886505127),\n",
       " ('야학교 ', 0.8117514848709106)]"
      ]
     },
     "execution_count": 137,
     "metadata": {},
     "output_type": "execute_result"
    }
   ],
   "source": [
    "get_simlilar_vectors(model, '학교', 10)"
   ]
  },
  {
   "cell_type": "code",
   "execution_count": 142,
   "metadata": {},
   "outputs": [
    {
     "data": {
      "text/plain": [
       "[('적포도주 ', 0.7521058320999146),\n",
       " ('백포도주 ', 0.7517445087432861),\n",
       " ('블루베리 ', 0.7411689758300781),\n",
       " ('사워 ', 0.7314695715904236),\n",
       " ('브랜디 ', 0.7236927151679993)]"
      ]
     },
     "execution_count": 142,
     "metadata": {},
     "output_type": "execute_result"
    }
   ],
   "source": [
    "get_simlilar_vectors(model, '와인', 5)"
   ]
  },
  {
   "cell_type": "markdown",
   "metadata": {},
   "source": [
    "유사도 행렬 생성하는 방법에 대해 생각해보자."
   ]
  },
  {
   "cell_type": "code",
   "execution_count": 143,
   "metadata": {},
   "outputs": [],
   "source": [
    "words = ['아버지','아빠','어머니','엄마','남성','남자','여성','여자','영국','런던','일본','도쿄','대한민국','서울','중국','베이징']"
   ]
  },
  {
   "cell_type": "code",
   "execution_count": 148,
   "metadata": {},
   "outputs": [
    {
     "data": {
      "text/plain": [
       "0.54576707"
      ]
     },
     "execution_count": 148,
     "metadata": {},
     "output_type": "execute_result"
    }
   ],
   "source": [
    "model.wv.similarity(sentence_to_jamo('학교'), sentence_to_jamo('운동장'))"
   ]
  },
  {
   "cell_type": "code",
   "execution_count": 149,
   "metadata": {},
   "outputs": [],
   "source": [
    "def sim(word1,word2):\n",
    "    return model.wv.similarity(sentence_to_jamo(word1), sentence_to_jamo(word2))"
   ]
  },
  {
   "cell_type": "code",
   "execution_count": 157,
   "metadata": {},
   "outputs": [],
   "source": [
    "import numpy as np\n",
    "mat = np.zeros([len(words),len(words)])"
   ]
  },
  {
   "cell_type": "code",
   "execution_count": 158,
   "metadata": {},
   "outputs": [],
   "source": [
    "for i in range(len(words)):\n",
    "    for j in range(len(words)):\n",
    "        mat[i,j] = sim(words[i],words[j])"
   ]
  },
  {
   "cell_type": "code",
   "execution_count": 165,
   "metadata": {},
   "outputs": [
    {
     "data": {
      "text/html": [
       "<div>\n",
       "<style scoped>\n",
       "    .dataframe tbody tr th:only-of-type {\n",
       "        vertical-align: middle;\n",
       "    }\n",
       "\n",
       "    .dataframe tbody tr th {\n",
       "        vertical-align: top;\n",
       "    }\n",
       "\n",
       "    .dataframe thead th {\n",
       "        text-align: right;\n",
       "    }\n",
       "</style>\n",
       "<table border=\"1\" class=\"dataframe\">\n",
       "  <thead>\n",
       "    <tr style=\"text-align: right;\">\n",
       "      <th></th>\n",
       "      <th>아버지</th>\n",
       "      <th>아빠</th>\n",
       "      <th>어머니</th>\n",
       "      <th>엄마</th>\n",
       "      <th>남성</th>\n",
       "      <th>남자</th>\n",
       "      <th>여성</th>\n",
       "      <th>여자</th>\n",
       "      <th>영국</th>\n",
       "      <th>런던</th>\n",
       "      <th>일본</th>\n",
       "      <th>도쿄</th>\n",
       "      <th>대한민국</th>\n",
       "      <th>서울</th>\n",
       "      <th>중국</th>\n",
       "      <th>베이징</th>\n",
       "    </tr>\n",
       "  </thead>\n",
       "  <tbody>\n",
       "    <tr>\n",
       "      <td>아버지</td>\n",
       "      <td>1.000000</td>\n",
       "      <td>0.611240</td>\n",
       "      <td>0.913343</td>\n",
       "      <td>0.596112</td>\n",
       "      <td>0.362853</td>\n",
       "      <td>0.415875</td>\n",
       "      <td>0.412184</td>\n",
       "      <td>0.389732</td>\n",
       "      <td>0.203655</td>\n",
       "      <td>0.230660</td>\n",
       "      <td>0.220261</td>\n",
       "      <td>0.180959</td>\n",
       "      <td>0.177608</td>\n",
       "      <td>0.147672</td>\n",
       "      <td>0.118932</td>\n",
       "      <td>0.174463</td>\n",
       "    </tr>\n",
       "    <tr>\n",
       "      <td>아빠</td>\n",
       "      <td>0.611240</td>\n",
       "      <td>1.000000</td>\n",
       "      <td>0.621925</td>\n",
       "      <td>0.915503</td>\n",
       "      <td>0.384497</td>\n",
       "      <td>0.499692</td>\n",
       "      <td>0.397900</td>\n",
       "      <td>0.451242</td>\n",
       "      <td>0.138561</td>\n",
       "      <td>0.201390</td>\n",
       "      <td>0.261230</td>\n",
       "      <td>0.216339</td>\n",
       "      <td>0.189067</td>\n",
       "      <td>0.194248</td>\n",
       "      <td>0.161011</td>\n",
       "      <td>0.181937</td>\n",
       "    </tr>\n",
       "    <tr>\n",
       "      <td>어머니</td>\n",
       "      <td>0.913343</td>\n",
       "      <td>0.621925</td>\n",
       "      <td>1.000000</td>\n",
       "      <td>0.664087</td>\n",
       "      <td>0.388450</td>\n",
       "      <td>0.389237</td>\n",
       "      <td>0.466501</td>\n",
       "      <td>0.401556</td>\n",
       "      <td>0.151670</td>\n",
       "      <td>0.195316</td>\n",
       "      <td>0.184920</td>\n",
       "      <td>0.176620</td>\n",
       "      <td>0.127190</td>\n",
       "      <td>0.166800</td>\n",
       "      <td>0.117163</td>\n",
       "      <td>0.144045</td>\n",
       "    </tr>\n",
       "    <tr>\n",
       "      <td>엄마</td>\n",
       "      <td>0.596112</td>\n",
       "      <td>0.915503</td>\n",
       "      <td>0.664087</td>\n",
       "      <td>1.000000</td>\n",
       "      <td>0.400171</td>\n",
       "      <td>0.513300</td>\n",
       "      <td>0.453757</td>\n",
       "      <td>0.487185</td>\n",
       "      <td>0.124988</td>\n",
       "      <td>0.160658</td>\n",
       "      <td>0.242030</td>\n",
       "      <td>0.171384</td>\n",
       "      <td>0.175094</td>\n",
       "      <td>0.173228</td>\n",
       "      <td>0.133663</td>\n",
       "      <td>0.122817</td>\n",
       "    </tr>\n",
       "    <tr>\n",
       "      <td>남성</td>\n",
       "      <td>0.362853</td>\n",
       "      <td>0.384497</td>\n",
       "      <td>0.388450</td>\n",
       "      <td>0.400171</td>\n",
       "      <td>1.000000</td>\n",
       "      <td>0.530628</td>\n",
       "      <td>0.863515</td>\n",
       "      <td>0.474374</td>\n",
       "      <td>0.299645</td>\n",
       "      <td>0.271564</td>\n",
       "      <td>0.373035</td>\n",
       "      <td>0.218882</td>\n",
       "      <td>0.382183</td>\n",
       "      <td>0.255500</td>\n",
       "      <td>0.222645</td>\n",
       "      <td>0.197224</td>\n",
       "    </tr>\n",
       "    <tr>\n",
       "      <td>남자</td>\n",
       "      <td>0.415875</td>\n",
       "      <td>0.499692</td>\n",
       "      <td>0.389237</td>\n",
       "      <td>0.513300</td>\n",
       "      <td>0.530628</td>\n",
       "      <td>1.000000</td>\n",
       "      <td>0.512424</td>\n",
       "      <td>0.871926</td>\n",
       "      <td>0.263908</td>\n",
       "      <td>0.324568</td>\n",
       "      <td>0.379101</td>\n",
       "      <td>0.281961</td>\n",
       "      <td>0.436036</td>\n",
       "      <td>0.273531</td>\n",
       "      <td>0.222215</td>\n",
       "      <td>0.327531</td>\n",
       "    </tr>\n",
       "    <tr>\n",
       "      <td>여성</td>\n",
       "      <td>0.412184</td>\n",
       "      <td>0.397900</td>\n",
       "      <td>0.466501</td>\n",
       "      <td>0.453757</td>\n",
       "      <td>0.863515</td>\n",
       "      <td>0.512424</td>\n",
       "      <td>1.000000</td>\n",
       "      <td>0.513148</td>\n",
       "      <td>0.364362</td>\n",
       "      <td>0.349393</td>\n",
       "      <td>0.444950</td>\n",
       "      <td>0.284267</td>\n",
       "      <td>0.371802</td>\n",
       "      <td>0.258318</td>\n",
       "      <td>0.274405</td>\n",
       "      <td>0.227699</td>\n",
       "    </tr>\n",
       "    <tr>\n",
       "      <td>여자</td>\n",
       "      <td>0.389732</td>\n",
       "      <td>0.451242</td>\n",
       "      <td>0.401556</td>\n",
       "      <td>0.487185</td>\n",
       "      <td>0.474374</td>\n",
       "      <td>0.871926</td>\n",
       "      <td>0.513148</td>\n",
       "      <td>1.000000</td>\n",
       "      <td>0.234847</td>\n",
       "      <td>0.316524</td>\n",
       "      <td>0.393225</td>\n",
       "      <td>0.302895</td>\n",
       "      <td>0.480664</td>\n",
       "      <td>0.426339</td>\n",
       "      <td>0.271888</td>\n",
       "      <td>0.356846</td>\n",
       "    </tr>\n",
       "    <tr>\n",
       "      <td>영국</td>\n",
       "      <td>0.203655</td>\n",
       "      <td>0.138561</td>\n",
       "      <td>0.151670</td>\n",
       "      <td>0.124988</td>\n",
       "      <td>0.299645</td>\n",
       "      <td>0.263908</td>\n",
       "      <td>0.364362</td>\n",
       "      <td>0.234847</td>\n",
       "      <td>1.000000</td>\n",
       "      <td>0.749086</td>\n",
       "      <td>0.490895</td>\n",
       "      <td>0.372788</td>\n",
       "      <td>0.406249</td>\n",
       "      <td>0.177061</td>\n",
       "      <td>0.458661</td>\n",
       "      <td>0.391868</td>\n",
       "    </tr>\n",
       "    <tr>\n",
       "      <td>런던</td>\n",
       "      <td>0.230660</td>\n",
       "      <td>0.201390</td>\n",
       "      <td>0.195316</td>\n",
       "      <td>0.160658</td>\n",
       "      <td>0.271564</td>\n",
       "      <td>0.324568</td>\n",
       "      <td>0.349393</td>\n",
       "      <td>0.316524</td>\n",
       "      <td>0.749086</td>\n",
       "      <td>1.000000</td>\n",
       "      <td>0.345564</td>\n",
       "      <td>0.568192</td>\n",
       "      <td>0.275830</td>\n",
       "      <td>0.403085</td>\n",
       "      <td>0.315962</td>\n",
       "      <td>0.591998</td>\n",
       "    </tr>\n",
       "    <tr>\n",
       "      <td>일본</td>\n",
       "      <td>0.220261</td>\n",
       "      <td>0.261230</td>\n",
       "      <td>0.184920</td>\n",
       "      <td>0.242030</td>\n",
       "      <td>0.373035</td>\n",
       "      <td>0.379101</td>\n",
       "      <td>0.444950</td>\n",
       "      <td>0.393225</td>\n",
       "      <td>0.490895</td>\n",
       "      <td>0.345564</td>\n",
       "      <td>1.000000</td>\n",
       "      <td>0.698815</td>\n",
       "      <td>0.514017</td>\n",
       "      <td>0.281703</td>\n",
       "      <td>0.517516</td>\n",
       "      <td>0.402947</td>\n",
       "    </tr>\n",
       "    <tr>\n",
       "      <td>도쿄</td>\n",
       "      <td>0.180959</td>\n",
       "      <td>0.216339</td>\n",
       "      <td>0.176620</td>\n",
       "      <td>0.171384</td>\n",
       "      <td>0.218882</td>\n",
       "      <td>0.281961</td>\n",
       "      <td>0.284267</td>\n",
       "      <td>0.302895</td>\n",
       "      <td>0.372788</td>\n",
       "      <td>0.568192</td>\n",
       "      <td>0.698815</td>\n",
       "      <td>1.000000</td>\n",
       "      <td>0.350578</td>\n",
       "      <td>0.528100</td>\n",
       "      <td>0.367043</td>\n",
       "      <td>0.563537</td>\n",
       "    </tr>\n",
       "    <tr>\n",
       "      <td>대한민국</td>\n",
       "      <td>0.177608</td>\n",
       "      <td>0.189067</td>\n",
       "      <td>0.127190</td>\n",
       "      <td>0.175094</td>\n",
       "      <td>0.382183</td>\n",
       "      <td>0.436036</td>\n",
       "      <td>0.371802</td>\n",
       "      <td>0.480664</td>\n",
       "      <td>0.406249</td>\n",
       "      <td>0.275830</td>\n",
       "      <td>0.514017</td>\n",
       "      <td>0.350578</td>\n",
       "      <td>1.000000</td>\n",
       "      <td>0.656870</td>\n",
       "      <td>0.472588</td>\n",
       "      <td>0.341510</td>\n",
       "    </tr>\n",
       "    <tr>\n",
       "      <td>서울</td>\n",
       "      <td>0.147672</td>\n",
       "      <td>0.194248</td>\n",
       "      <td>0.166800</td>\n",
       "      <td>0.173228</td>\n",
       "      <td>0.255500</td>\n",
       "      <td>0.273531</td>\n",
       "      <td>0.258318</td>\n",
       "      <td>0.426339</td>\n",
       "      <td>0.177061</td>\n",
       "      <td>0.403085</td>\n",
       "      <td>0.281703</td>\n",
       "      <td>0.528100</td>\n",
       "      <td>0.656870</td>\n",
       "      <td>1.000000</td>\n",
       "      <td>0.362050</td>\n",
       "      <td>0.476289</td>\n",
       "    </tr>\n",
       "    <tr>\n",
       "      <td>중국</td>\n",
       "      <td>0.118932</td>\n",
       "      <td>0.161011</td>\n",
       "      <td>0.117163</td>\n",
       "      <td>0.133663</td>\n",
       "      <td>0.222645</td>\n",
       "      <td>0.222215</td>\n",
       "      <td>0.274405</td>\n",
       "      <td>0.271888</td>\n",
       "      <td>0.458661</td>\n",
       "      <td>0.315962</td>\n",
       "      <td>0.517516</td>\n",
       "      <td>0.367043</td>\n",
       "      <td>0.472588</td>\n",
       "      <td>0.362050</td>\n",
       "      <td>1.000000</td>\n",
       "      <td>0.683552</td>\n",
       "    </tr>\n",
       "    <tr>\n",
       "      <td>베이징</td>\n",
       "      <td>0.174463</td>\n",
       "      <td>0.181937</td>\n",
       "      <td>0.144045</td>\n",
       "      <td>0.122817</td>\n",
       "      <td>0.197224</td>\n",
       "      <td>0.327531</td>\n",
       "      <td>0.227699</td>\n",
       "      <td>0.356846</td>\n",
       "      <td>0.391868</td>\n",
       "      <td>0.591998</td>\n",
       "      <td>0.402947</td>\n",
       "      <td>0.563537</td>\n",
       "      <td>0.341510</td>\n",
       "      <td>0.476289</td>\n",
       "      <td>0.683552</td>\n",
       "      <td>1.000000</td>\n",
       "    </tr>\n",
       "  </tbody>\n",
       "</table>\n",
       "</div>"
      ],
      "text/plain": [
       "           아버지        아빠       어머니        엄마        남성        남자        여성  \\\n",
       "아버지   1.000000  0.611240  0.913343  0.596112  0.362853  0.415875  0.412184   \n",
       "아빠    0.611240  1.000000  0.621925  0.915503  0.384497  0.499692  0.397900   \n",
       "어머니   0.913343  0.621925  1.000000  0.664087  0.388450  0.389237  0.466501   \n",
       "엄마    0.596112  0.915503  0.664087  1.000000  0.400171  0.513300  0.453757   \n",
       "남성    0.362853  0.384497  0.388450  0.400171  1.000000  0.530628  0.863515   \n",
       "남자    0.415875  0.499692  0.389237  0.513300  0.530628  1.000000  0.512424   \n",
       "여성    0.412184  0.397900  0.466501  0.453757  0.863515  0.512424  1.000000   \n",
       "여자    0.389732  0.451242  0.401556  0.487185  0.474374  0.871926  0.513148   \n",
       "영국    0.203655  0.138561  0.151670  0.124988  0.299645  0.263908  0.364362   \n",
       "런던    0.230660  0.201390  0.195316  0.160658  0.271564  0.324568  0.349393   \n",
       "일본    0.220261  0.261230  0.184920  0.242030  0.373035  0.379101  0.444950   \n",
       "도쿄    0.180959  0.216339  0.176620  0.171384  0.218882  0.281961  0.284267   \n",
       "대한민국  0.177608  0.189067  0.127190  0.175094  0.382183  0.436036  0.371802   \n",
       "서울    0.147672  0.194248  0.166800  0.173228  0.255500  0.273531  0.258318   \n",
       "중국    0.118932  0.161011  0.117163  0.133663  0.222645  0.222215  0.274405   \n",
       "베이징   0.174463  0.181937  0.144045  0.122817  0.197224  0.327531  0.227699   \n",
       "\n",
       "            여자        영국        런던        일본        도쿄      대한민국        서울  \\\n",
       "아버지   0.389732  0.203655  0.230660  0.220261  0.180959  0.177608  0.147672   \n",
       "아빠    0.451242  0.138561  0.201390  0.261230  0.216339  0.189067  0.194248   \n",
       "어머니   0.401556  0.151670  0.195316  0.184920  0.176620  0.127190  0.166800   \n",
       "엄마    0.487185  0.124988  0.160658  0.242030  0.171384  0.175094  0.173228   \n",
       "남성    0.474374  0.299645  0.271564  0.373035  0.218882  0.382183  0.255500   \n",
       "남자    0.871926  0.263908  0.324568  0.379101  0.281961  0.436036  0.273531   \n",
       "여성    0.513148  0.364362  0.349393  0.444950  0.284267  0.371802  0.258318   \n",
       "여자    1.000000  0.234847  0.316524  0.393225  0.302895  0.480664  0.426339   \n",
       "영국    0.234847  1.000000  0.749086  0.490895  0.372788  0.406249  0.177061   \n",
       "런던    0.316524  0.749086  1.000000  0.345564  0.568192  0.275830  0.403085   \n",
       "일본    0.393225  0.490895  0.345564  1.000000  0.698815  0.514017  0.281703   \n",
       "도쿄    0.302895  0.372788  0.568192  0.698815  1.000000  0.350578  0.528100   \n",
       "대한민국  0.480664  0.406249  0.275830  0.514017  0.350578  1.000000  0.656870   \n",
       "서울    0.426339  0.177061  0.403085  0.281703  0.528100  0.656870  1.000000   \n",
       "중국    0.271888  0.458661  0.315962  0.517516  0.367043  0.472588  0.362050   \n",
       "베이징   0.356846  0.391868  0.591998  0.402947  0.563537  0.341510  0.476289   \n",
       "\n",
       "            중국       베이징  \n",
       "아버지   0.118932  0.174463  \n",
       "아빠    0.161011  0.181937  \n",
       "어머니   0.117163  0.144045  \n",
       "엄마    0.133663  0.122817  \n",
       "남성    0.222645  0.197224  \n",
       "남자    0.222215  0.327531  \n",
       "여성    0.274405  0.227699  \n",
       "여자    0.271888  0.356846  \n",
       "영국    0.458661  0.391868  \n",
       "런던    0.315962  0.591998  \n",
       "일본    0.517516  0.402947  \n",
       "도쿄    0.367043  0.563537  \n",
       "대한민국  0.472588  0.341510  \n",
       "서울    0.362050  0.476289  \n",
       "중국    1.000000  0.683552  \n",
       "베이징   0.683552  1.000000  "
      ]
     },
     "execution_count": 165,
     "metadata": {},
     "output_type": "execute_result"
    }
   ],
   "source": [
    "import pandas as pd\n",
    "df_mat = pd.DataFrame(mat, columns=words, index=words)\n",
    "df_mat"
   ]
  },
  {
   "cell_type": "code",
   "execution_count": 160,
   "metadata": {},
   "outputs": [],
   "source": [
    "import matplotlib.pyplot as plt\n",
    "import seaborn as sns\n",
    "sns.set_style()"
   ]
  },
  {
   "cell_type": "code",
   "execution_count": 180,
   "metadata": {},
   "outputs": [
    {
     "data": {
      "text/plain": [
       "['DejaVu Sans',\n",
       " 'DejaVu Serif',\n",
       " 'STIXSizeFiveSym',\n",
       " 'STIXGeneral',\n",
       " 'STIXNonUnicode',\n",
       " 'DejaVu Serif',\n",
       " 'cmr10',\n",
       " 'STIXGeneral',\n",
       " 'DejaVu Sans Mono',\n",
       " 'DejaVu Sans Mono',\n",
       " 'DejaVu Sans Display',\n",
       " 'cmex10',\n",
       " 'STIXGeneral',\n",
       " 'DejaVu Sans',\n",
       " 'cmmi10',\n",
       " 'cmsy10',\n",
       " 'STIXSizeTwoSym',\n",
       " 'DejaVu Serif',\n",
       " 'cmtt10',\n",
       " 'DejaVu Sans Mono',\n",
       " 'STIXSizeFourSym',\n",
       " 'cmss10',\n",
       " 'STIXSizeThreeSym',\n",
       " 'DejaVu Sans Mono',\n",
       " 'STIXSizeFourSym',\n",
       " 'STIXSizeOneSym',\n",
       " 'cmb10',\n",
       " 'STIXSizeOneSym',\n",
       " 'DejaVu Sans',\n",
       " 'STIXSizeTwoSym',\n",
       " 'STIXNonUnicode',\n",
       " 'DejaVu Serif',\n",
       " 'STIXGeneral',\n",
       " 'STIXNonUnicode',\n",
       " 'STIXSizeThreeSym',\n",
       " 'DejaVu Sans',\n",
       " 'DejaVu Serif Display',\n",
       " 'STIXNonUnicode',\n",
       " 'Franklin Gothic Medium',\n",
       " 'Nanum Brush Script',\n",
       " 'Segoe UI',\n",
       " 'MGungJeong',\n",
       " 'MingLiU-ExtB',\n",
       " 'Comic Sans MS',\n",
       " 'Gadugi',\n",
       " 'Corbel',\n",
       " 'Gadugi',\n",
       " 'Cambria',\n",
       " 'Sitka Small',\n",
       " 'Microsoft JhengHei',\n",
       " 'Segoe Print',\n",
       " 'Leelawadee UI',\n",
       " 'Leelawadee UI',\n",
       " 'Tahoma',\n",
       " 'Comic Sans MS',\n",
       " 'Ebrima',\n",
       " 'MJemokBatang',\n",
       " 'KBIZmjo B',\n",
       " 'MBatang',\n",
       " 'Gulim',\n",
       " 'Calibri',\n",
       " 'Microsoft YaHei',\n",
       " 'Calibri',\n",
       " 'Arial',\n",
       " 'HCR Batang',\n",
       " 'Microsoft Tai Le',\n",
       " 'Times New Roman',\n",
       " 'Segoe UI',\n",
       " 'HCR Batang',\n",
       " 'Segoe UI',\n",
       " 'SimSun',\n",
       " 'Nirmala UI',\n",
       " 'HCR Dotum Ext',\n",
       " 'Candara',\n",
       " 'Constantia',\n",
       " 'Trebuchet MS',\n",
       " 'Bahnschrift',\n",
       " 'Comic Sans MS',\n",
       " 'NanumBarunGothic',\n",
       " 'Segoe UI',\n",
       " 'Segoe UI',\n",
       " 'Georgia',\n",
       " 'Yu Gothic',\n",
       " 'MGungHeulim',\n",
       " 'Microsoft Himalaya',\n",
       " 'Segoe UI',\n",
       " 'Candara',\n",
       " 'Cambria',\n",
       " 'Trebuchet MS',\n",
       " 'Segoe UI',\n",
       " 'Microsoft YaHei',\n",
       " 'Verdana',\n",
       " 'MSugiJeong',\n",
       " 'HCR Batang Ext',\n",
       " 'Arial',\n",
       " 'NanumGothic',\n",
       " 'Microsoft New Tai Lue',\n",
       " 'Lato',\n",
       " 'Lato',\n",
       " 'Myanmar Text',\n",
       " 'Gabriola',\n",
       " 'SimSun-ExtB',\n",
       " 'Nirmala UI',\n",
       " 'Lato',\n",
       " 'Microsoft JhengHei',\n",
       " 'Franklin Gothic Medium',\n",
       " 'Segoe UI',\n",
       " 'KBIZmjo M',\n",
       " 'Cambria',\n",
       " 'Microsoft PhagsPa',\n",
       " 'Trebuchet MS',\n",
       " 'Nirmala UI',\n",
       " 'NanumBarunGothic',\n",
       " 'NanumSquare',\n",
       " 'Sitka Small',\n",
       " 'Arial',\n",
       " 'Webdings',\n",
       " 'Microsoft New Tai Lue',\n",
       " 'Calibri',\n",
       " 'Calibri',\n",
       " 'Courier New',\n",
       " 'Segoe Script',\n",
       " 'Trebuchet MS',\n",
       " 'Candara',\n",
       " 'Georgia',\n",
       " 'NanumSquare',\n",
       " 'Segoe UI',\n",
       " 'NanumSquareRound',\n",
       " 'NanumBarunpen',\n",
       " 'Constantia',\n",
       " 'HoloLens MDL2 Assets',\n",
       " 'Microsoft Sans Serif',\n",
       " 'MDotum',\n",
       " 'Courier New',\n",
       " 'Arial',\n",
       " 'Sitka Small',\n",
       " 'Consolas',\n",
       " 'Calibri',\n",
       " 'Georgia',\n",
       " 'HCR Dotum',\n",
       " 'Lato',\n",
       " 'Arial',\n",
       " 'Segoe UI',\n",
       " 'MHunmin',\n",
       " 'Yu Gothic',\n",
       " 'Candara',\n",
       " 'Corbel',\n",
       " 'Verdana',\n",
       " 'Verdana',\n",
       " 'Corbel',\n",
       " 'Times New Roman',\n",
       " 'Verdana',\n",
       " 'NanumSquare',\n",
       " 'Times New Roman',\n",
       " 'Segoe UI',\n",
       " 'Sitka Small',\n",
       " 'Segoe MDL2 Assets',\n",
       " 'HCR Dotum',\n",
       " 'Microsoft PhagsPa',\n",
       " 'Comic Sans MS',\n",
       " 'Palatino Linotype',\n",
       " 'NanumBarunGothic',\n",
       " 'Malgun Gothic',\n",
       " 'Corbel',\n",
       " 'Yu Gothic',\n",
       " 'NanumSquareRound',\n",
       " 'MSugiHeulim',\n",
       " 'Microsoft Tai Le',\n",
       " 'Lato',\n",
       " 'Segoe Print',\n",
       " 'NewJumja',\n",
       " 'Tahoma',\n",
       " 'Nanum Pen Script',\n",
       " 'Cambria',\n",
       " 'Segoe UI Emoji',\n",
       " 'Malgun Gothic',\n",
       " 'NanumBarunGothic',\n",
       " 'Constantia',\n",
       " 'Courier New',\n",
       " 'Impact',\n",
       " 'NanumMyeongjo',\n",
       " 'Lato',\n",
       " 'NanumGothic',\n",
       " 'Lucida Console',\n",
       " 'Mongolian Baiti',\n",
       " 'Yu Gothic',\n",
       " 'NanumSquare',\n",
       " 'Calibri',\n",
       " 'Courier New',\n",
       " 'Batang',\n",
       " 'KBIZgo R',\n",
       " 'Sylfaen',\n",
       " 'Candara',\n",
       " 'Myanmar Text',\n",
       " 'Segoe UI Historic',\n",
       " 'NanumMyeongjo',\n",
       " 'Corbel',\n",
       " 'Segoe UI',\n",
       " 'HCR Batang ExtB',\n",
       " 'MS Gothic',\n",
       " 'Leelawadee UI',\n",
       " 'Palatino Linotype',\n",
       " 'NanumBarunpen',\n",
       " 'Symbol',\n",
       " 'MV Boli',\n",
       " 'NanumSquareRound',\n",
       " 'Segoe Script',\n",
       " 'Ebrima',\n",
       " 'Lucida Sans Unicode',\n",
       " 'Georgia',\n",
       " 'Microsoft Yi Baiti',\n",
       " 'HCR Batang ExtB',\n",
       " 'Consolas',\n",
       " 'Corbel',\n",
       " 'Candara',\n",
       " 'Palatino Linotype',\n",
       " 'HyhwpEQ',\n",
       " 'Segoe UI Symbol',\n",
       " 'Lato',\n",
       " 'KBIZgo B',\n",
       " 'Consolas',\n",
       " 'NanumMyeongjo',\n",
       " 'KBIZgo M',\n",
       " 'Constantia',\n",
       " 'Wingdings',\n",
       " 'Marlett',\n",
       " 'Malgun Gothic',\n",
       " 'Microsoft YaHei',\n",
       " 'Palatino Linotype',\n",
       " 'Javanese Text',\n",
       " 'NanumGothic',\n",
       " 'Ink Free',\n",
       " 'Lato',\n",
       " 'Microsoft JhengHei',\n",
       " 'Times New Roman',\n",
       " 'Consolas',\n",
       " 'NanumSquareRound',\n",
       " 'MJemokGothic',\n",
       " 'NanumGothic',\n",
       " 'KBIZmjo R']"
      ]
     },
     "execution_count": 180,
     "metadata": {},
     "output_type": "execute_result"
    }
   ],
   "source": [
    "import matplotlib.font_manager as fm\n",
    "f = [f.name for f in fm.fontManager.ttflist]\n",
    "f"
   ]
  },
  {
   "cell_type": "code",
   "execution_count": 197,
   "metadata": {},
   "outputs": [],
   "source": [
    "plt.rcParams[\"font.family\"] = 'NanumBarunGothic'\n",
    "plt.rcParams[\"font.size\"] = 12\n",
    "plt.rcParams[\"figure.figsize\"] = (10,10)"
   ]
  },
  {
   "cell_type": "code",
   "execution_count": 198,
   "metadata": {},
   "outputs": [
    {
     "data": {
      "text/plain": [
       "<matplotlib.axes._subplots.AxesSubplot at 0x29e0ff6f348>"
      ]
     },
     "execution_count": 198,
     "metadata": {},
     "output_type": "execute_result"
    },
    {
     "data": {
      "image/png": "[encoded data removed]",
      "text/plain": [
       "<Figure size 720x720 with 2 Axes>"
      ]
     },
     "metadata": {
      "needs_background": "light"
     },
     "output_type": "display_data"
    }
   ],
   "source": [
    "sns.heatmap(df_mat, square=True)"
   ]
  },
  {
   "cell_type": "code",
   "execution_count": 252,
   "metadata": {},
   "outputs": [],
   "source": [
    "def heatmap(model, words):\n",
    "    \n",
    "    import pandas as pd\n",
    "    import numpy as np\n",
    "    import matplotlib.pyplot as plt\n",
    "    import seaborn as sns\n",
    "    \n",
    "    plt.rcParams[\"font.family\"] = 'NanumBarunGothic'\n",
    "    plt.rcParams[\"font.size\"] = 12\n",
    "    #plt.rcParams[\"figure.figsize\"] = (10,10)\n",
    "    \n",
    "    def sim(word1,word2):\n",
    "        return model.wv.similarity(sentence_to_jamo(word1), sentence_to_jamo(word2))\n",
    "    \n",
    "    mat = np.zeros([len(words),len(words)])\n",
    "    for i in range(len(words)):\n",
    "        for j in range(len(words)):\n",
    "            mat[i,j] = sim(words[i],words[j])\n",
    "\n",
    "    df_mat = pd.DataFrame(mat, columns=words, index=words)\n",
    "    #sns.heatmap(df_mat, square=True)\n",
    "    plt.figure()\n",
    "    plt.pcolor(df_mat)\n",
    "    plt.xticks(np.arange(0.5, len(df_mat.columns), 1), df_mat.columns)\n",
    "    plt.yticks(np.arange(0.5, len(df_mat.index), 1), df_mat.index)\n",
    "    plt.figsize=(15,5)\n",
    "    plt.colorbar()\n",
    "    #sns.heatmap(df_mat)\n",
    "    \n"
   ]
  },
  {
   "cell_type": "code",
   "execution_count": 253,
   "metadata": {},
   "outputs": [
    {
     "data": {
      "image/png": "[encoded data removed]",
      "text/plain": [
       "<Figure size 720x720 with 2 Axes>"
      ]
     },
     "metadata": {
      "needs_background": "light"
     },
     "output_type": "display_data"
    }
   ],
   "source": [
    "heatmap(model,['김치','쌀밥','라면','단무지'])"
   ]
  },
  {
   "cell_type": "code",
   "execution_count": null,
   "metadata": {},
   "outputs": [],
   "source": []
  }
 ],
 "metadata": {
  "kernelspec": {
   "display_name": "Python 3",
   "language": "python",
   "name": "python3"
  },
  "language_info": {
   "codemirror_mode": {
    "name": "ipython",
    "version": 3
   },
   "file_extension": ".py",
   "mimetype": "text/x-python",
   "name": "python",
   "nbconvert_exporter": "python",
   "pygments_lexer": "ipython3",
   "version": "3.7.3"
  }
 },
 "nbformat": 4,
 "nbformat_minor": 2
}
